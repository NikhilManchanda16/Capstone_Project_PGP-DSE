{
 "cells": [
  {
   "cell_type": "code",
   "execution_count": 1,
   "metadata": {
    "executionInfo": {
     "elapsed": 3459,
     "status": "ok",
     "timestamp": 1605715168308,
     "user": {
      "displayName": "Pragati Khedkar",
      "photoUrl": "",
      "userId": "03319733517214823277"
     },
     "user_tz": -330
    },
    "id": "pua-kMlbFKCN"
   },
   "outputs": [],
   "source": [
    "# Importing requried librarires :\n",
    "\n",
    "import numpy as np\n",
    "import pandas as pd\n",
    "import matplotlib.pyplot as plt\n",
    "import seaborn as sns"
   ]
  },
  {
   "cell_type": "code",
   "execution_count": 2,
   "metadata": {
    "executionInfo": {
     "elapsed": 1048,
     "status": "ok",
     "timestamp": 1605715571177,
     "user": {
      "displayName": "Pragati Khedkar",
      "photoUrl": "",
      "userId": "03319733517214823277"
     },
     "user_tz": -330
    },
    "id": "3FpzJWPtFKCO"
   },
   "outputs": [],
   "source": [
    "# Loading the dataset :\n",
    "\n",
    "df=pd.read_csv('diabetic_data.csv')"
   ]
  },
  {
   "cell_type": "code",
   "execution_count": 3,
   "metadata": {
    "colab": {
     "base_uri": "https://localhost:8080/",
     "height": 316
    },
    "executionInfo": {
     "elapsed": 882,
     "status": "ok",
     "timestamp": 1605715572681,
     "user": {
      "displayName": "Pragati Khedkar",
      "photoUrl": "",
      "userId": "03319733517214823277"
     },
     "user_tz": -330
    },
    "id": "k-NxjwnrFKCO",
    "outputId": "83c735af-ba5a-4b2e-d51d-7a647fce0b58"
   },
   "outputs": [
    {
     "data": {
      "text/html": [
       "<div>\n",
       "<style scoped>\n",
       "    .dataframe tbody tr th:only-of-type {\n",
       "        vertical-align: middle;\n",
       "    }\n",
       "\n",
       "    .dataframe tbody tr th {\n",
       "        vertical-align: top;\n",
       "    }\n",
       "\n",
       "    .dataframe thead th {\n",
       "        text-align: right;\n",
       "    }\n",
       "</style>\n",
       "<table border=\"1\" class=\"dataframe\">\n",
       "  <thead>\n",
       "    <tr style=\"text-align: right;\">\n",
       "      <th></th>\n",
       "      <th>encounter_id</th>\n",
       "      <th>patient_nbr</th>\n",
       "      <th>race</th>\n",
       "      <th>gender</th>\n",
       "      <th>age</th>\n",
       "      <th>weight</th>\n",
       "      <th>admission_type_id</th>\n",
       "      <th>discharge_disposition_id</th>\n",
       "      <th>admission_source_id</th>\n",
       "      <th>time_in_hospital</th>\n",
       "      <th>...</th>\n",
       "      <th>citoglipton</th>\n",
       "      <th>insulin</th>\n",
       "      <th>glyburide-metformin</th>\n",
       "      <th>glipizide-metformin</th>\n",
       "      <th>glimepiride-pioglitazone</th>\n",
       "      <th>metformin-rosiglitazone</th>\n",
       "      <th>metformin-pioglitazone</th>\n",
       "      <th>change</th>\n",
       "      <th>diabetesMed</th>\n",
       "      <th>readmitted</th>\n",
       "    </tr>\n",
       "  </thead>\n",
       "  <tbody>\n",
       "    <tr>\n",
       "      <th>0</th>\n",
       "      <td>2278392</td>\n",
       "      <td>8222157</td>\n",
       "      <td>Caucasian</td>\n",
       "      <td>Female</td>\n",
       "      <td>[0-10)</td>\n",
       "      <td>?</td>\n",
       "      <td>6</td>\n",
       "      <td>25</td>\n",
       "      <td>1</td>\n",
       "      <td>1</td>\n",
       "      <td>...</td>\n",
       "      <td>No</td>\n",
       "      <td>No</td>\n",
       "      <td>No</td>\n",
       "      <td>No</td>\n",
       "      <td>No</td>\n",
       "      <td>No</td>\n",
       "      <td>No</td>\n",
       "      <td>No</td>\n",
       "      <td>No</td>\n",
       "      <td>NO</td>\n",
       "    </tr>\n",
       "    <tr>\n",
       "      <th>1</th>\n",
       "      <td>149190</td>\n",
       "      <td>55629189</td>\n",
       "      <td>Caucasian</td>\n",
       "      <td>Female</td>\n",
       "      <td>[10-20)</td>\n",
       "      <td>?</td>\n",
       "      <td>1</td>\n",
       "      <td>1</td>\n",
       "      <td>7</td>\n",
       "      <td>3</td>\n",
       "      <td>...</td>\n",
       "      <td>No</td>\n",
       "      <td>Up</td>\n",
       "      <td>No</td>\n",
       "      <td>No</td>\n",
       "      <td>No</td>\n",
       "      <td>No</td>\n",
       "      <td>No</td>\n",
       "      <td>Ch</td>\n",
       "      <td>Yes</td>\n",
       "      <td>&gt;30</td>\n",
       "    </tr>\n",
       "    <tr>\n",
       "      <th>2</th>\n",
       "      <td>64410</td>\n",
       "      <td>86047875</td>\n",
       "      <td>AfricanAmerican</td>\n",
       "      <td>Female</td>\n",
       "      <td>[20-30)</td>\n",
       "      <td>?</td>\n",
       "      <td>1</td>\n",
       "      <td>1</td>\n",
       "      <td>7</td>\n",
       "      <td>2</td>\n",
       "      <td>...</td>\n",
       "      <td>No</td>\n",
       "      <td>No</td>\n",
       "      <td>No</td>\n",
       "      <td>No</td>\n",
       "      <td>No</td>\n",
       "      <td>No</td>\n",
       "      <td>No</td>\n",
       "      <td>No</td>\n",
       "      <td>Yes</td>\n",
       "      <td>NO</td>\n",
       "    </tr>\n",
       "    <tr>\n",
       "      <th>3</th>\n",
       "      <td>500364</td>\n",
       "      <td>82442376</td>\n",
       "      <td>Caucasian</td>\n",
       "      <td>Male</td>\n",
       "      <td>[30-40)</td>\n",
       "      <td>?</td>\n",
       "      <td>1</td>\n",
       "      <td>1</td>\n",
       "      <td>7</td>\n",
       "      <td>2</td>\n",
       "      <td>...</td>\n",
       "      <td>No</td>\n",
       "      <td>Up</td>\n",
       "      <td>No</td>\n",
       "      <td>No</td>\n",
       "      <td>No</td>\n",
       "      <td>No</td>\n",
       "      <td>No</td>\n",
       "      <td>Ch</td>\n",
       "      <td>Yes</td>\n",
       "      <td>NO</td>\n",
       "    </tr>\n",
       "    <tr>\n",
       "      <th>4</th>\n",
       "      <td>16680</td>\n",
       "      <td>42519267</td>\n",
       "      <td>Caucasian</td>\n",
       "      <td>Male</td>\n",
       "      <td>[40-50)</td>\n",
       "      <td>?</td>\n",
       "      <td>1</td>\n",
       "      <td>1</td>\n",
       "      <td>7</td>\n",
       "      <td>1</td>\n",
       "      <td>...</td>\n",
       "      <td>No</td>\n",
       "      <td>Steady</td>\n",
       "      <td>No</td>\n",
       "      <td>No</td>\n",
       "      <td>No</td>\n",
       "      <td>No</td>\n",
       "      <td>No</td>\n",
       "      <td>Ch</td>\n",
       "      <td>Yes</td>\n",
       "      <td>NO</td>\n",
       "    </tr>\n",
       "  </tbody>\n",
       "</table>\n",
       "<p>5 rows × 50 columns</p>\n",
       "</div>"
      ],
      "text/plain": [
       "   encounter_id  patient_nbr             race  gender      age weight  \\\n",
       "0       2278392      8222157        Caucasian  Female   [0-10)      ?   \n",
       "1        149190     55629189        Caucasian  Female  [10-20)      ?   \n",
       "2         64410     86047875  AfricanAmerican  Female  [20-30)      ?   \n",
       "3        500364     82442376        Caucasian    Male  [30-40)      ?   \n",
       "4         16680     42519267        Caucasian    Male  [40-50)      ?   \n",
       "\n",
       "   admission_type_id  discharge_disposition_id  admission_source_id  \\\n",
       "0                  6                        25                    1   \n",
       "1                  1                         1                    7   \n",
       "2                  1                         1                    7   \n",
       "3                  1                         1                    7   \n",
       "4                  1                         1                    7   \n",
       "\n",
       "   time_in_hospital  ... citoglipton insulin  glyburide-metformin  \\\n",
       "0                 1  ...          No      No                   No   \n",
       "1                 3  ...          No      Up                   No   \n",
       "2                 2  ...          No      No                   No   \n",
       "3                 2  ...          No      Up                   No   \n",
       "4                 1  ...          No  Steady                   No   \n",
       "\n",
       "   glipizide-metformin  glimepiride-pioglitazone  metformin-rosiglitazone  \\\n",
       "0                   No                        No                       No   \n",
       "1                   No                        No                       No   \n",
       "2                   No                        No                       No   \n",
       "3                   No                        No                       No   \n",
       "4                   No                        No                       No   \n",
       "\n",
       "   metformin-pioglitazone  change diabetesMed readmitted  \n",
       "0                      No      No          No         NO  \n",
       "1                      No      Ch         Yes        >30  \n",
       "2                      No      No         Yes         NO  \n",
       "3                      No      Ch         Yes         NO  \n",
       "4                      No      Ch         Yes         NO  \n",
       "\n",
       "[5 rows x 50 columns]"
      ]
     },
     "execution_count": 3,
     "metadata": {},
     "output_type": "execute_result"
    }
   ],
   "source": [
    "df.head()"
   ]
  },
  {
   "cell_type": "code",
   "execution_count": 4,
   "metadata": {
    "colab": {
     "base_uri": "https://localhost:8080/"
    },
    "executionInfo": {
     "elapsed": 1175,
     "status": "ok",
     "timestamp": 1605715575077,
     "user": {
      "displayName": "Pragati Khedkar",
      "photoUrl": "",
      "userId": "03319733517214823277"
     },
     "user_tz": -330
    },
    "id": "vVRPz3O4FKCO",
    "outputId": "e3e5e960-b8f8-485d-a2fa-a0ad342c87ee"
   },
   "outputs": [
    {
     "data": {
      "text/plain": [
       "(101766, 50)"
      ]
     },
     "execution_count": 4,
     "metadata": {},
     "output_type": "execute_result"
    }
   ],
   "source": [
    "# Number of rows and columns :\n",
    "\n",
    "df.shape"
   ]
  },
  {
   "cell_type": "markdown",
   "metadata": {
    "id": "sPrAeLPJFKCO"
   },
   "source": [
    "# Dropping records for 'readmitted'= '>30'"
   ]
  },
  {
   "cell_type": "markdown",
   "metadata": {
    "id": "zANJ3wwCFKCO"
   },
   "source": [
    "#removing invalid/unknown entries for gender\n",
    "df=df[df['gender']!='Unknown/Invalid']\n",
    "#dropping rows with NAs.\n",
    "df.dropna(inplace=True)"
   ]
  },
  {
   "cell_type": "code",
   "execution_count": 5,
   "metadata": {
    "executionInfo": {
     "elapsed": 1045,
     "status": "ok",
     "timestamp": 1605715580035,
     "user": {
      "displayName": "Pragati Khedkar",
      "photoUrl": "",
      "userId": "03319733517214823277"
     },
     "user_tz": -330
    },
    "id": "NDFDmMU7FKCO"
   },
   "outputs": [],
   "source": [
    "#removing readmitted'= '>30' entries for df\n",
    "df=df[df['readmitted']!='>30']\n",
    "\n",
    "# dropping rows with NAs.\n",
    "#df.dropna(inplace=True)"
   ]
  },
  {
   "cell_type": "code",
   "execution_count": 6,
   "metadata": {
    "colab": {
     "base_uri": "https://localhost:8080/"
    },
    "executionInfo": {
     "elapsed": 793,
     "status": "ok",
     "timestamp": 1605715581313,
     "user": {
      "displayName": "Pragati Khedkar",
      "photoUrl": "",
      "userId": "03319733517214823277"
     },
     "user_tz": -330
    },
    "id": "v6-RLIK6FKCO",
    "outputId": "d48e2c1a-272e-4c96-ee9d-b4c9c944ba5e"
   },
   "outputs": [
    {
     "data": {
      "text/plain": [
       "(66221, 50)"
      ]
     },
     "execution_count": 6,
     "metadata": {},
     "output_type": "execute_result"
    }
   ],
   "source": [
    "df.shape"
   ]
  },
  {
   "cell_type": "code",
   "execution_count": 7,
   "metadata": {
    "colab": {
     "base_uri": "https://localhost:8080/"
    },
    "executionInfo": {
     "elapsed": 1218,
     "status": "ok",
     "timestamp": 1605715582986,
     "user": {
      "displayName": "Pragati Khedkar",
      "photoUrl": "",
      "userId": "03319733517214823277"
     },
     "user_tz": -330
    },
    "id": "12sj4DulFKCO",
    "outputId": "3d6d89f1-aeac-4acc-c34b-5bb972720de7",
    "scrolled": true
   },
   "outputs": [
    {
     "name": "stdout",
     "output_type": "stream",
     "text": [
      "<class 'pandas.core.frame.DataFrame'>\n",
      "Int64Index: 66221 entries, 0 to 101765\n",
      "Data columns (total 50 columns):\n",
      " #   Column                    Non-Null Count  Dtype \n",
      "---  ------                    --------------  ----- \n",
      " 0   encounter_id              66221 non-null  int64 \n",
      " 1   patient_nbr               66221 non-null  int64 \n",
      " 2   race                      66221 non-null  object\n",
      " 3   gender                    66221 non-null  object\n",
      " 4   age                       66221 non-null  object\n",
      " 5   weight                    66221 non-null  object\n",
      " 6   admission_type_id         66221 non-null  int64 \n",
      " 7   discharge_disposition_id  66221 non-null  int64 \n",
      " 8   admission_source_id       66221 non-null  int64 \n",
      " 9   time_in_hospital          66221 non-null  int64 \n",
      " 10  payer_code                66221 non-null  object\n",
      " 11  medical_specialty         66221 non-null  object\n",
      " 12  num_lab_procedures        66221 non-null  int64 \n",
      " 13  num_procedures            66221 non-null  int64 \n",
      " 14  num_medications           66221 non-null  int64 \n",
      " 15  number_outpatient         66221 non-null  int64 \n",
      " 16  number_emergency          66221 non-null  int64 \n",
      " 17  number_inpatient          66221 non-null  int64 \n",
      " 18  diag_1                    66221 non-null  object\n",
      " 19  diag_2                    66221 non-null  object\n",
      " 20  diag_3                    66221 non-null  object\n",
      " 21  number_diagnoses          66221 non-null  int64 \n",
      " 22  max_glu_serum             66221 non-null  object\n",
      " 23  A1Cresult                 66221 non-null  object\n",
      " 24  metformin                 66221 non-null  object\n",
      " 25  repaglinide               66221 non-null  object\n",
      " 26  nateglinide               66221 non-null  object\n",
      " 27  chlorpropamide            66221 non-null  object\n",
      " 28  glimepiride               66221 non-null  object\n",
      " 29  acetohexamide             66221 non-null  object\n",
      " 30  glipizide                 66221 non-null  object\n",
      " 31  glyburide                 66221 non-null  object\n",
      " 32  tolbutamide               66221 non-null  object\n",
      " 33  pioglitazone              66221 non-null  object\n",
      " 34  rosiglitazone             66221 non-null  object\n",
      " 35  acarbose                  66221 non-null  object\n",
      " 36  miglitol                  66221 non-null  object\n",
      " 37  troglitazone              66221 non-null  object\n",
      " 38  tolazamide                66221 non-null  object\n",
      " 39  examide                   66221 non-null  object\n",
      " 40  citoglipton               66221 non-null  object\n",
      " 41  insulin                   66221 non-null  object\n",
      " 42  glyburide-metformin       66221 non-null  object\n",
      " 43  glipizide-metformin       66221 non-null  object\n",
      " 44  glimepiride-pioglitazone  66221 non-null  object\n",
      " 45  metformin-rosiglitazone   66221 non-null  object\n",
      " 46  metformin-pioglitazone    66221 non-null  object\n",
      " 47  change                    66221 non-null  object\n",
      " 48  diabetesMed               66221 non-null  object\n",
      " 49  readmitted                66221 non-null  object\n",
      "dtypes: int64(13), object(37)\n",
      "memory usage: 25.8+ MB\n"
     ]
    }
   ],
   "source": [
    "df.info()"
   ]
  },
  {
   "cell_type": "code",
   "execution_count": 8,
   "metadata": {
    "executionInfo": {
     "elapsed": 1074,
     "status": "ok",
     "timestamp": 1605715585468,
     "user": {
      "displayName": "Pragati Khedkar",
      "photoUrl": "",
      "userId": "03319733517214823277"
     },
     "user_tz": -330
    },
    "id": "53YrOLX1FKCO"
   },
   "outputs": [],
   "source": [
    "#pd.options.display.max_colwidth = None   # to view all the data"
   ]
  },
  {
   "cell_type": "markdown",
   "metadata": {
    "id": "GHWGRh3DFKCO"
   },
   "source": [
    "#replacing 0 with np.nan for all columns accept 'outcome'\n",
    "\n",
    "#df_ind=df[:]\n",
    "\n",
    "df.iloc[:,:-1]=df.iloc[:,:-1].replace({0:np.nan})"
   ]
  },
  {
   "cell_type": "markdown",
   "metadata": {
    "id": "xraH4zGcFKCO"
   },
   "source": [
    "# Missing value percentage calculation :"
   ]
  },
  {
   "cell_type": "code",
   "execution_count": 9,
   "metadata": {
    "colab": {
     "base_uri": "https://localhost:8080/",
     "height": 254
    },
    "executionInfo": {
     "elapsed": 1165,
     "status": "ok",
     "timestamp": 1605715589181,
     "user": {
      "displayName": "Pragati Khedkar",
      "photoUrl": "",
      "userId": "03319733517214823277"
     },
     "user_tz": -330
    },
    "id": "SKMkYY-QFKCO",
    "outputId": "45b56f7c-f92d-46bb-9dab-70916bb83e5e"
   },
   "outputs": [
    {
     "data": {
      "text/html": [
       "<div>\n",
       "<style scoped>\n",
       "    .dataframe tbody tr th:only-of-type {\n",
       "        vertical-align: middle;\n",
       "    }\n",
       "\n",
       "    .dataframe tbody tr th {\n",
       "        vertical-align: top;\n",
       "    }\n",
       "\n",
       "    .dataframe thead th {\n",
       "        text-align: right;\n",
       "    }\n",
       "</style>\n",
       "<table border=\"1\" class=\"dataframe\">\n",
       "  <thead>\n",
       "    <tr style=\"text-align: right;\">\n",
       "      <th></th>\n",
       "      <th>percentage of missing</th>\n",
       "    </tr>\n",
       "  </thead>\n",
       "  <tbody>\n",
       "    <tr>\n",
       "      <th>weight</th>\n",
       "      <td>97.452470</td>\n",
       "    </tr>\n",
       "    <tr>\n",
       "      <th>medical_specialty</th>\n",
       "      <td>47.919844</td>\n",
       "    </tr>\n",
       "    <tr>\n",
       "      <th>payer_code</th>\n",
       "      <td>39.908790</td>\n",
       "    </tr>\n",
       "    <tr>\n",
       "      <th>race</th>\n",
       "      <td>2.620015</td>\n",
       "    </tr>\n",
       "    <tr>\n",
       "      <th>diag_3</th>\n",
       "      <td>1.638453</td>\n",
       "    </tr>\n",
       "    <tr>\n",
       "      <th>diag_2</th>\n",
       "      <td>0.428867</td>\n",
       "    </tr>\n",
       "    <tr>\n",
       "      <th>diag_1</th>\n",
       "      <td>0.025672</td>\n",
       "    </tr>\n",
       "  </tbody>\n",
       "</table>\n",
       "</div>"
      ],
      "text/plain": [
       "                   percentage of missing\n",
       "weight                         97.452470\n",
       "medical_specialty              47.919844\n",
       "payer_code                     39.908790\n",
       "race                            2.620015\n",
       "diag_3                          1.638453\n",
       "diag_2                          0.428867\n",
       "diag_1                          0.025672"
      ]
     },
     "execution_count": 9,
     "metadata": {},
     "output_type": "execute_result"
    }
   ],
   "source": [
    "# checking missing value percentage:\n",
    "\n",
    "percenatge = []\n",
    "for i in df.columns:\n",
    "    p = (df[df[i]=='?'].shape[0]/df.shape[0])*100\n",
    "    percenatge.append(p)\n",
    "df_missing=pd.DataFrame(percenatge,index=df.columns,columns=['percentage of missing']).sort_values(by='percentage of missing',ascending=False) \n",
    "df_missing[df_missing['percentage of missing']>0]"
   ]
  },
  {
   "cell_type": "code",
   "execution_count": 10,
   "metadata": {},
   "outputs": [],
   "source": [
    "df1 = df.copy()"
   ]
  },
  {
   "cell_type": "markdown",
   "metadata": {
    "id": "WK5BGGQzFKCP"
   },
   "source": [
    "# Missing values imputation :"
   ]
  },
  {
   "cell_type": "code",
   "execution_count": 11,
   "metadata": {
    "executionInfo": {
     "elapsed": 1155,
     "status": "ok",
     "timestamp": 1605715605898,
     "user": {
      "displayName": "Pragati Khedkar",
      "photoUrl": "",
      "userId": "03319733517214823277"
     },
     "user_tz": -330
    },
    "id": "uRrSS57zFKCP"
   },
   "outputs": [
    {
     "data": {
      "text/plain": [
       "Female    35193\n",
       "Male      31028\n",
       "Name: gender, dtype: int64"
      ]
     },
     "execution_count": 11,
     "metadata": {},
     "output_type": "execute_result"
    }
   ],
   "source": [
    "# 1). gender : Replacing 'Unknown/Invalid' with mode of gender, because only 3 values are missing/unkown :\n",
    "\n",
    "df1.replace(['Unknown/Invalid'],df1['gender'].mode()[0],inplace=True)\n",
    "df1['gender'].value_counts()"
   ]
  },
  {
   "cell_type": "code",
   "execution_count": 12,
   "metadata": {},
   "outputs": [],
   "source": [
    "# Replace '?' with 'NaN' :\n",
    "\n",
    "df1.replace(['?'],np.nan,inplace=True)"
   ]
  },
  {
   "cell_type": "code",
   "execution_count": 13,
   "metadata": {},
   "outputs": [],
   "source": [
    "# 2). race : we will include nan values in 'Other' , which is already present in it\n",
    "\n",
    "df1['race']=df1['race'].fillna('Other')"
   ]
  },
  {
   "cell_type": "code",
   "execution_count": 14,
   "metadata": {},
   "outputs": [
    {
     "data": {
      "text/plain": [
       "Caucasian          48975\n",
       "AfricanAmerican    12576\n",
       "Other               2795\n",
       "Hispanic            1395\n",
       "Asian                480\n",
       "Name: race, dtype: int64"
      ]
     },
     "execution_count": 14,
     "metadata": {},
     "output_type": "execute_result"
    }
   ],
   "source": [
    "df1['race'].value_counts()"
   ]
  },
  {
   "cell_type": "code",
   "execution_count": 15,
   "metadata": {
    "executionInfo": {
     "elapsed": 1031,
     "status": "ok",
     "timestamp": 1605715611358,
     "user": {
      "displayName": "Pragati Khedkar",
      "photoUrl": "",
      "userId": "03319733517214823277"
     },
     "user_tz": -330
    },
    "id": "7holL6EmFKCP"
   },
   "outputs": [],
   "source": [
    "# 3). diag_1 : 21 missing values (i,e ... 0.02%, so impute with mode)\n",
    "\n",
    "df1['diag_1'] = df1['diag_1'].fillna('Other')"
   ]
  },
  {
   "cell_type": "code",
   "execution_count": 16,
   "metadata": {
    "executionInfo": {
     "elapsed": 1109,
     "status": "ok",
     "timestamp": 1605715614531,
     "user": {
      "displayName": "Pragati Khedkar",
      "photoUrl": "",
      "userId": "03319733517214823277"
     },
     "user_tz": -330
    },
    "id": "ik0IBloiFKCP"
   },
   "outputs": [],
   "source": [
    "# 4). diag_2 : 0.35% of missing values, so impute with mode \n",
    "df1['diag_2'] = df1['diag_2'].fillna('Other')"
   ]
  },
  {
   "cell_type": "code",
   "execution_count": 17,
   "metadata": {
    "executionInfo": {
     "elapsed": 1405,
     "status": "ok",
     "timestamp": 1605715618216,
     "user": {
      "displayName": "Pragati Khedkar",
      "photoUrl": "",
      "userId": "03319733517214823277"
     },
     "user_tz": -330
    },
    "id": "dQz4F4OBFKCP"
   },
   "outputs": [],
   "source": [
    "# 5). diag_3 : 1.3% of missing values, so impute with mode \n",
    "df1['diag_3'] = df1['diag_3'].fillna('Other')"
   ]
  },
  {
   "cell_type": "code",
   "execution_count": 18,
   "metadata": {},
   "outputs": [
    {
     "data": {
      "text/html": [
       "<div>\n",
       "<style scoped>\n",
       "    .dataframe tbody tr th:only-of-type {\n",
       "        vertical-align: middle;\n",
       "    }\n",
       "\n",
       "    .dataframe tbody tr th {\n",
       "        vertical-align: top;\n",
       "    }\n",
       "\n",
       "    .dataframe thead th {\n",
       "        text-align: right;\n",
       "    }\n",
       "</style>\n",
       "<table border=\"1\" class=\"dataframe\">\n",
       "  <thead>\n",
       "    <tr style=\"text-align: right;\">\n",
       "      <th></th>\n",
       "      <th>encounter_id</th>\n",
       "      <th>troglitazone</th>\n",
       "      <th>chlorpropamide</th>\n",
       "      <th>glimepiride</th>\n",
       "      <th>acetohexamide</th>\n",
       "      <th>glipizide</th>\n",
       "      <th>glyburide</th>\n",
       "      <th>tolbutamide</th>\n",
       "      <th>pioglitazone</th>\n",
       "      <th>rosiglitazone</th>\n",
       "      <th>...</th>\n",
       "      <th>num_medications</th>\n",
       "      <th>number_outpatient</th>\n",
       "      <th>number_emergency</th>\n",
       "      <th>number_inpatient</th>\n",
       "      <th>diag_1</th>\n",
       "      <th>diag_2</th>\n",
       "      <th>diag_3</th>\n",
       "      <th>number_diagnoses</th>\n",
       "      <th>max_glu_serum</th>\n",
       "      <th>readmitted</th>\n",
       "    </tr>\n",
       "  </thead>\n",
       "  <tbody>\n",
       "    <tr>\n",
       "      <th>percentage of missing</th>\n",
       "      <td>0.0</td>\n",
       "      <td>0.0</td>\n",
       "      <td>0.0</td>\n",
       "      <td>0.0</td>\n",
       "      <td>0.0</td>\n",
       "      <td>0.0</td>\n",
       "      <td>0.0</td>\n",
       "      <td>0.0</td>\n",
       "      <td>0.0</td>\n",
       "      <td>0.0</td>\n",
       "      <td>...</td>\n",
       "      <td>0.0</td>\n",
       "      <td>0.0</td>\n",
       "      <td>0.0</td>\n",
       "      <td>0.0</td>\n",
       "      <td>0.0</td>\n",
       "      <td>0.0</td>\n",
       "      <td>0.0</td>\n",
       "      <td>0.0</td>\n",
       "      <td>0.0</td>\n",
       "      <td>0.0</td>\n",
       "    </tr>\n",
       "  </tbody>\n",
       "</table>\n",
       "<p>1 rows × 50 columns</p>\n",
       "</div>"
      ],
      "text/plain": [
       "                       encounter_id  troglitazone  chlorpropamide  \\\n",
       "percentage of missing           0.0           0.0             0.0   \n",
       "\n",
       "                       glimepiride  acetohexamide  glipizide  glyburide  \\\n",
       "percentage of missing          0.0            0.0        0.0        0.0   \n",
       "\n",
       "                       tolbutamide  pioglitazone  rosiglitazone  ...  \\\n",
       "percentage of missing          0.0           0.0            0.0  ...   \n",
       "\n",
       "                       num_medications  number_outpatient  number_emergency  \\\n",
       "percentage of missing              0.0                0.0               0.0   \n",
       "\n",
       "                       number_inpatient  diag_1  diag_2  diag_3  \\\n",
       "percentage of missing               0.0     0.0     0.0     0.0   \n",
       "\n",
       "                       number_diagnoses  max_glu_serum  readmitted  \n",
       "percentage of missing               0.0            0.0         0.0  \n",
       "\n",
       "[1 rows x 50 columns]"
      ]
     },
     "execution_count": 18,
     "metadata": {},
     "output_type": "execute_result"
    }
   ],
   "source": [
    "percenatge = []\n",
    "for i in df1.columns:\n",
    "    p = (df1[df1[i]=='?'].shape[0]/df1.shape[0])*100\n",
    "    percenatge.append(p)\n",
    "df_missing=pd.DataFrame(percenatge,index=df1.columns,columns=['percentage of missing']).sort_values(by='percentage of missing',ascending=False) \n",
    "df_missing.T"
   ]
  },
  {
   "cell_type": "code",
   "execution_count": 20,
   "metadata": {
    "executionInfo": {
     "elapsed": 859,
     "status": "ok",
     "timestamp": 1605715593136,
     "user": {
      "displayName": "Pragati Khedkar",
      "photoUrl": "",
      "userId": "03319733517214823277"
     },
     "user_tz": -330
    },
    "id": "oLrdcCVeFKCP"
   },
   "outputs": [],
   "source": [
    "#dropping cols with high number of missing values\n",
    "df1 = df1.drop(['payer_code','medical_specialty'],axis=1)"
   ]
  },
  {
   "cell_type": "code",
   "execution_count": 21,
   "metadata": {
    "executionInfo": {
     "elapsed": 1284,
     "status": "ok",
     "timestamp": 1605715597316,
     "user": {
      "displayName": "Pragati Khedkar",
      "photoUrl": "",
      "userId": "03319733517214823277"
     },
     "user_tz": -330
    },
    "id": "xZsV0-8eFKCP"
   },
   "outputs": [],
   "source": [
    "#Dropping admission_type_id', 'discharge_disposition_id', 'admission_source_id' :\n",
    "\n",
    "df1=df1.drop(['admission_type_id','discharge_disposition_id','admission_source_id'],axis=1) "
   ]
  },
  {
   "cell_type": "code",
   "execution_count": 22,
   "metadata": {
    "executionInfo": {
     "elapsed": 1015,
     "status": "ok",
     "timestamp": 1605715600397,
     "user": {
      "displayName": "Pragati Khedkar",
      "photoUrl": "",
      "userId": "03319733517214823277"
     },
     "user_tz": -330
    },
    "id": "EfNA2Po3FKCP"
   },
   "outputs": [],
   "source": [
    "df1 = df1.drop(['weight', ],axis=1)"
   ]
  },
  {
   "cell_type": "code",
   "execution_count": 23,
   "metadata": {
    "scrolled": true
   },
   "outputs": [],
   "source": [
    "df1 = df1.drop(['encounter_id','patient_nbr'],axis=1)"
   ]
  },
  {
   "cell_type": "code",
   "execution_count": 24,
   "metadata": {
    "colab": {
     "base_uri": "https://localhost:8080/"
    },
    "executionInfo": {
     "elapsed": 759,
     "status": "ok",
     "timestamp": 1605715598607,
     "user": {
      "displayName": "Pragati Khedkar",
      "photoUrl": "",
      "userId": "03319733517214823277"
     },
     "user_tz": -330
    },
    "id": "sSmi7fWDFKCP",
    "outputId": "11122d76-436a-4092-d1f1-2fc3b6f91a6c"
   },
   "outputs": [
    {
     "data": {
      "text/plain": [
       "(66221, 42)"
      ]
     },
     "execution_count": 24,
     "metadata": {},
     "output_type": "execute_result"
    }
   ],
   "source": [
    "df1.shape"
   ]
  },
  {
   "cell_type": "markdown",
   "metadata": {},
   "source": [
    "# Converting Columns diag_1,diag_2,diag_3 to respective labels:"
   ]
  },
  {
   "cell_type": "code",
   "execution_count": 25,
   "metadata": {},
   "outputs": [],
   "source": [
    "db1=df1.copy()"
   ]
  },
  {
   "cell_type": "code",
   "execution_count": 26,
   "metadata": {},
   "outputs": [],
   "source": [
    "for i in db1['diag_1']:\n",
    "    if i[:3]=='250':\n",
    "        db1['diag_1'].replace({i:'Diabetes'},inplace=True)\n",
    "    elif len(i)==3 and i[0] in ['8','9']:\n",
    "        db1['diag_1'].replace({i:'Injury'},inplace=True)\n",
    "    elif i[:2]=='71' or i[:2]=='72' or i[:2]=='73':\n",
    "        db1['diag_1'].replace({i:'Musculoskeletal'},inplace=True)\n",
    "    elif (i[:2] in['39','40','41','42','43','44','45'] and len(i)==3) or i=='785':\n",
    "        db1['diag_1'].replace({i:'Circulatory'},inplace=True)\n",
    "    elif (i[:2] in['46','47','48','49','50','51'] and len(i)==3) or i=='786':\n",
    "        db1['diag_1'].replace({i:'Respiratory'},inplace=True)\n",
    "    elif (i[:2] in['52','53','54','55','56','57'] and len(i)==3) or i=='787':\n",
    "        db1['diag_1'].replace({i:'Digestive'},inplace=True)\n",
    "    elif (i[:2] in['58','59','60','61','62'] and len(i)==3) or i=='788':\n",
    "        db1['diag_1'].replace({i:'Genitourinary'},inplace=True)\n",
    "    elif (i[:2] in['14','15','16','17','18','19','20','21','22','23','24','25','26','27'] and len(i)==3) or i=='780':\n",
    "        db1['diag_1'].replace({i:'Neoplasms'},inplace=True)\n",
    "    elif (i[:2] in['68','69','70','79','10','11','12','13'] and len(i)==3) or i in ['781','784','782']:\n",
    "        db1['diag_1'].replace({i:'Neoplasms'},inplace=True)\n",
    "    elif len(i) in [1,2]:\n",
    "        db1['diag_1'].replace({i:'Neoplasms'},inplace=True)\n",
    "    elif len(i)<=5 :\n",
    "        db1['diag_1'].replace({i:'Other'},inplace=True)"
   ]
  },
  {
   "cell_type": "code",
   "execution_count": 27,
   "metadata": {},
   "outputs": [
    {
     "data": {
      "text/plain": [
       "Circulatory        19598\n",
       "Neoplasms           9511\n",
       "Respiratory         8891\n",
       "Digestive           6111\n",
       "Diabetes            5439\n",
       "Other               5047\n",
       "Injury              4737\n",
       "Musculoskeletal     3486\n",
       "Genitourinary       3401\n",
       "Name: diag_1, dtype: int64"
      ]
     },
     "execution_count": 27,
     "metadata": {},
     "output_type": "execute_result"
    }
   ],
   "source": [
    "db1['diag_1'].value_counts()"
   ]
  },
  {
   "cell_type": "code",
   "execution_count": 28,
   "metadata": {},
   "outputs": [],
   "source": [
    "df1['diag_1']=db1['diag_1'] \n",
    "\n",
    "#made db1 to avoid making changes in main db, thn assignin back the changes made to main df1"
   ]
  },
  {
   "cell_type": "code",
   "execution_count": 29,
   "metadata": {},
   "outputs": [],
   "source": [
    "for i in db1['diag_2']:\n",
    "    if i[:3]=='250':\n",
    "        db1['diag_2'].replace({i:'Diabetes'},inplace=True)\n",
    "    elif len(i)==3 and i[0] in ['8','9']:\n",
    "        db1['diag_2'].replace({i:'Injury'},inplace=True)\n",
    "    elif i[:2]=='71' or i[:2]=='72' or i[:2]=='73':\n",
    "        db1['diag_2'].replace({i:'Musculoskeletal'},inplace=True)\n",
    "    elif (i[:2] in['39','40','41','42','43','44','45'] and len(i)==3) or i=='785':\n",
    "        db1['diag_2'].replace({i:'Circulatory'},inplace=True)\n",
    "    elif (i[:2] in['46','47','48','49','50','51'] and len(i)==3) or i=='786':\n",
    "        db1['diag_2'].replace({i:'Respiratory'},inplace=True)\n",
    "    elif (i[:2] in['52','53','54','55','56','57'] and len(i)==3) or i=='787':\n",
    "        db1['diag_2'].replace({i:'Digestive'},inplace=True)\n",
    "    elif (i[:2] in['58','59','60','61','62'] and len(i)==3) or i=='788':\n",
    "        db1['diag_2'].replace({i:'Genitourinary'},inplace=True)\n",
    "    elif (i[:2] in['14','15','16','17','18','19','20','21','22','23','24','25','26','27'] and len(i)==3) or i=='780':\n",
    "        db1['diag_2'].replace({i:'Neoplasms'},inplace=True)\n",
    "    elif (i[:2] in['68','69','70','79','10','11','12','13'] and len(i)==3) or i in ['781','784','782']:\n",
    "        db1['diag_2'].replace({i:'Neoplasms'},inplace=True)\n",
    "    elif len(i) in [1,2]:\n",
    "        db1['diag_2'].replace({i:'Neoplasms'},inplace=True)\n",
    "    elif len(i)<=5:\n",
    "        db1['diag_2'].replace({i:'Other'},inplace=True)"
   ]
  },
  {
   "cell_type": "code",
   "execution_count": 30,
   "metadata": {},
   "outputs": [
    {
     "data": {
      "text/plain": [
       "Circulatory        20246\n",
       "Neoplasms          12223\n",
       "Diabetes            8597\n",
       "Other               7277\n",
       "Respiratory         6832\n",
       "Genitourinary       5349\n",
       "Digestive           2775\n",
       "Injury              1753\n",
       "Musculoskeletal     1169\n",
       "Name: diag_2, dtype: int64"
      ]
     },
     "execution_count": 30,
     "metadata": {},
     "output_type": "execute_result"
    }
   ],
   "source": [
    "db1['diag_2'].value_counts()"
   ]
  },
  {
   "cell_type": "code",
   "execution_count": 31,
   "metadata": {},
   "outputs": [],
   "source": [
    "df1['diag_2']=db1['diag_2'] \n",
    "\n",
    "#made db1 to avoid making changes in main db, thn assignin back the changes made to main db"
   ]
  },
  {
   "cell_type": "code",
   "execution_count": 32,
   "metadata": {},
   "outputs": [],
   "source": [
    "for i in db1['diag_3']:\n",
    "    if i[:3]=='250':\n",
    "        db1['diag_3'].replace({i:'Diabetes'},inplace=True)\n",
    "    elif len(i)==3 and i[0] in ['8','9']:\n",
    "        db1['diag_3'].replace({i:'Injury'},inplace=True)\n",
    "    elif i[:2]=='71' or i[:2]=='72' or i[:2]=='73':\n",
    "        db1['diag_3'].replace({i:'Musculoskeletal'},inplace=True)\n",
    "    elif (i[:2] in['39','40','41','42','43','44','45'] and len(i)==3) or i=='785':\n",
    "        db1['diag_3'].replace({i:'Circulatory'},inplace=True)\n",
    "    elif (i[:2] in['46','47','48','49','50','51'] and len(i)==3) or i=='786':\n",
    "        db1['diag_3'].replace({i:'Respiratory'},inplace=True)\n",
    "    elif (i[:2] in['52','53','54','55','56','57'] and len(i)==3) or i=='787':\n",
    "        db1['diag_3'].replace({i:'Digestive'},inplace=True)\n",
    "    elif (i[:2] in['58','59','60','61','62'] and len(i)==3) or i=='788':\n",
    "        db1['diag_3'].replace({i:'Genitourinary'},inplace=True)\n",
    "    elif (i[:2] in['14','15','16','17','18','19','20','21','22','23','24','25','26','27'] and len(i)==3) or i=='780':\n",
    "        db1['diag_3'].replace({i:'Neoplasms'},inplace=True)\n",
    "    elif (i[:2] in['68','69','70','79','10','11','12','13'] and len(i)==3) or i in ['781','784','782']:\n",
    "        db1['diag_3'].replace({i:'Neoplasms'},inplace=True)\n",
    "    elif len(i) in [1,2]:\n",
    "        db1['diag_3'].replace({i:'Neoplasms'},inplace=True)\n",
    "    elif len(i)<=5:\n",
    "        db1['diag_3'].replace({i:'Other'},inplace=True)"
   ]
  },
  {
   "cell_type": "code",
   "execution_count": 33,
   "metadata": {},
   "outputs": [
    {
     "data": {
      "text/plain": [
       "Circulatory        19312\n",
       "Neoplasms          11844\n",
       "Diabetes           11335\n",
       "Other               9771\n",
       "Respiratory         4627\n",
       "Genitourinary       4178\n",
       "Digestive           2512\n",
       "Injury              1373\n",
       "Musculoskeletal     1268\n",
       "365.44                 1\n",
       "Name: diag_3, dtype: int64"
      ]
     },
     "execution_count": 33,
     "metadata": {},
     "output_type": "execute_result"
    }
   ],
   "source": [
    "db1['diag_3'].value_counts()"
   ]
  },
  {
   "cell_type": "code",
   "execution_count": 34,
   "metadata": {},
   "outputs": [],
   "source": [
    "df1['diag_3']=db1['diag_3'] \n",
    "\n",
    "#made db1 to avoid making changes in main db, thn assignin back the changes made to main db"
   ]
  },
  {
   "cell_type": "code",
   "execution_count": 35,
   "metadata": {},
   "outputs": [
    {
     "data": {
      "text/plain": [
       "(66221, 42)"
      ]
     },
     "execution_count": 35,
     "metadata": {},
     "output_type": "execute_result"
    }
   ],
   "source": [
    "df1.shape"
   ]
  },
  {
   "cell_type": "code",
   "execution_count": 36,
   "metadata": {
    "scrolled": true
   },
   "outputs": [
    {
     "data": {
      "text/plain": [
       "Index(['race', 'gender', 'age', 'time_in_hospital', 'num_lab_procedures',\n",
       "       'num_procedures', 'num_medications', 'number_outpatient',\n",
       "       'number_emergency', 'number_inpatient', 'diag_1', 'diag_2', 'diag_3',\n",
       "       'number_diagnoses', 'max_glu_serum', 'A1Cresult', 'metformin',\n",
       "       'repaglinide', 'nateglinide', 'chlorpropamide', 'glimepiride',\n",
       "       'acetohexamide', 'glipizide', 'glyburide', 'tolbutamide',\n",
       "       'pioglitazone', 'rosiglitazone', 'acarbose', 'miglitol', 'troglitazone',\n",
       "       'tolazamide', 'examide', 'citoglipton', 'insulin',\n",
       "       'glyburide-metformin', 'glipizide-metformin',\n",
       "       'glimepiride-pioglitazone', 'metformin-rosiglitazone',\n",
       "       'metformin-pioglitazone', 'change', 'diabetesMed', 'readmitted'],\n",
       "      dtype='object')"
      ]
     },
     "execution_count": 36,
     "metadata": {},
     "output_type": "execute_result"
    }
   ],
   "source": [
    "df1.columns"
   ]
  },
  {
   "cell_type": "code",
   "execution_count": 37,
   "metadata": {},
   "outputs": [
    {
     "data": {
      "text/plain": [
       "0    63659\n",
       "1     2506\n",
       "2       55\n",
       "3        1\n",
       "Name: numchange, dtype: int64"
      ]
     },
     "execution_count": 37,
     "metadata": {},
     "output_type": "execute_result"
    }
   ],
   "source": [
    "#apart from metamorphin,insulin all medications should be merged\n",
    "\n",
    "keys = ['repaglinide', 'nateglinide', 'chlorpropamide', 'glimepiride', 'glipizide', 'glyburide', 'pioglitazone', 'rosiglitazone', 'acarbose', 'miglitol', 'glyburide-metformin', 'tolazamide', 'metformin-pioglitazone','metformin-rosiglitazone', 'glimepiride-pioglitazone', 'glipizide-metformin', 'troglitazone', 'tolbutamide', 'acetohexamide']\n",
    "for col in keys:\n",
    "    colname = str(col) + 'temp'\n",
    "    df1[colname] = df1[col].apply(lambda x: 0 if (x == 'No' or x == 'Steady') else 1)\n",
    "df1['numchange'] = 0\n",
    "for col in keys:\n",
    "    colname = str(col) + 'temp'\n",
    "    df1['numchange'] = df1['numchange'] + df1[colname]\n",
    "    del df1[colname]\n",
    "    \n",
    "df1['numchange'].value_counts()"
   ]
  },
  {
   "cell_type": "code",
   "execution_count": 38,
   "metadata": {},
   "outputs": [
    {
     "data": {
      "text/plain": [
       "19"
      ]
     },
     "execution_count": 38,
     "metadata": {},
     "output_type": "execute_result"
    }
   ],
   "source": [
    "len(keys)"
   ]
  },
  {
   "cell_type": "code",
   "execution_count": 39,
   "metadata": {},
   "outputs": [
    {
     "data": {
      "text/plain": [
       "(66221, 24)"
      ]
     },
     "execution_count": 39,
     "metadata": {},
     "output_type": "execute_result"
    }
   ],
   "source": [
    "#Dropping the medication cols that are merged.(19 columns)\n",
    "df_merged=df1.drop(keys,axis=1)\n",
    "df_merged.shape"
   ]
  },
  {
   "cell_type": "code",
   "execution_count": 40,
   "metadata": {},
   "outputs": [
    {
     "data": {
      "text/plain": [
       "Index(['race', 'gender', 'age', 'time_in_hospital', 'num_lab_procedures',\n",
       "       'num_procedures', 'num_medications', 'number_outpatient',\n",
       "       'number_emergency', 'number_inpatient', 'diag_1', 'diag_2', 'diag_3',\n",
       "       'number_diagnoses', 'max_glu_serum', 'A1Cresult', 'metformin',\n",
       "       'examide', 'citoglipton', 'insulin', 'change', 'diabetesMed',\n",
       "       'readmitted', 'numchange'],\n",
       "      dtype='object')"
      ]
     },
     "execution_count": 40,
     "metadata": {},
     "output_type": "execute_result"
    }
   ],
   "source": [
    "df_merged.columns"
   ]
  },
  {
   "cell_type": "code",
   "execution_count": 41,
   "metadata": {},
   "outputs": [
    {
     "data": {
      "text/html": [
       "<div>\n",
       "<style scoped>\n",
       "    .dataframe tbody tr th:only-of-type {\n",
       "        vertical-align: middle;\n",
       "    }\n",
       "\n",
       "    .dataframe tbody tr th {\n",
       "        vertical-align: top;\n",
       "    }\n",
       "\n",
       "    .dataframe thead th {\n",
       "        text-align: right;\n",
       "    }\n",
       "</style>\n",
       "<table border=\"1\" class=\"dataframe\">\n",
       "  <thead>\n",
       "    <tr style=\"text-align: right;\">\n",
       "      <th></th>\n",
       "      <th>race</th>\n",
       "      <th>gender</th>\n",
       "      <th>age</th>\n",
       "      <th>time_in_hospital</th>\n",
       "      <th>num_lab_procedures</th>\n",
       "      <th>num_procedures</th>\n",
       "      <th>num_medications</th>\n",
       "      <th>number_outpatient</th>\n",
       "      <th>number_emergency</th>\n",
       "      <th>number_inpatient</th>\n",
       "      <th>...</th>\n",
       "      <th>max_glu_serum</th>\n",
       "      <th>A1Cresult</th>\n",
       "      <th>metformin</th>\n",
       "      <th>examide</th>\n",
       "      <th>citoglipton</th>\n",
       "      <th>insulin</th>\n",
       "      <th>change</th>\n",
       "      <th>diabetesMed</th>\n",
       "      <th>readmitted</th>\n",
       "      <th>numchange</th>\n",
       "    </tr>\n",
       "  </thead>\n",
       "  <tbody>\n",
       "    <tr>\n",
       "      <th>0</th>\n",
       "      <td>Caucasian</td>\n",
       "      <td>Female</td>\n",
       "      <td>[0-10)</td>\n",
       "      <td>1</td>\n",
       "      <td>41</td>\n",
       "      <td>0</td>\n",
       "      <td>1</td>\n",
       "      <td>0</td>\n",
       "      <td>0</td>\n",
       "      <td>0</td>\n",
       "      <td>...</td>\n",
       "      <td>None</td>\n",
       "      <td>None</td>\n",
       "      <td>No</td>\n",
       "      <td>No</td>\n",
       "      <td>No</td>\n",
       "      <td>No</td>\n",
       "      <td>No</td>\n",
       "      <td>No</td>\n",
       "      <td>NO</td>\n",
       "      <td>0</td>\n",
       "    </tr>\n",
       "    <tr>\n",
       "      <th>2</th>\n",
       "      <td>AfricanAmerican</td>\n",
       "      <td>Female</td>\n",
       "      <td>[20-30)</td>\n",
       "      <td>2</td>\n",
       "      <td>11</td>\n",
       "      <td>5</td>\n",
       "      <td>13</td>\n",
       "      <td>2</td>\n",
       "      <td>0</td>\n",
       "      <td>1</td>\n",
       "      <td>...</td>\n",
       "      <td>None</td>\n",
       "      <td>None</td>\n",
       "      <td>No</td>\n",
       "      <td>No</td>\n",
       "      <td>No</td>\n",
       "      <td>No</td>\n",
       "      <td>No</td>\n",
       "      <td>Yes</td>\n",
       "      <td>NO</td>\n",
       "      <td>0</td>\n",
       "    </tr>\n",
       "    <tr>\n",
       "      <th>3</th>\n",
       "      <td>Caucasian</td>\n",
       "      <td>Male</td>\n",
       "      <td>[30-40)</td>\n",
       "      <td>2</td>\n",
       "      <td>44</td>\n",
       "      <td>1</td>\n",
       "      <td>16</td>\n",
       "      <td>0</td>\n",
       "      <td>0</td>\n",
       "      <td>0</td>\n",
       "      <td>...</td>\n",
       "      <td>None</td>\n",
       "      <td>None</td>\n",
       "      <td>No</td>\n",
       "      <td>No</td>\n",
       "      <td>No</td>\n",
       "      <td>Up</td>\n",
       "      <td>Ch</td>\n",
       "      <td>Yes</td>\n",
       "      <td>NO</td>\n",
       "      <td>0</td>\n",
       "    </tr>\n",
       "    <tr>\n",
       "      <th>4</th>\n",
       "      <td>Caucasian</td>\n",
       "      <td>Male</td>\n",
       "      <td>[40-50)</td>\n",
       "      <td>1</td>\n",
       "      <td>51</td>\n",
       "      <td>0</td>\n",
       "      <td>8</td>\n",
       "      <td>0</td>\n",
       "      <td>0</td>\n",
       "      <td>0</td>\n",
       "      <td>...</td>\n",
       "      <td>None</td>\n",
       "      <td>None</td>\n",
       "      <td>No</td>\n",
       "      <td>No</td>\n",
       "      <td>No</td>\n",
       "      <td>Steady</td>\n",
       "      <td>Ch</td>\n",
       "      <td>Yes</td>\n",
       "      <td>NO</td>\n",
       "      <td>0</td>\n",
       "    </tr>\n",
       "    <tr>\n",
       "      <th>6</th>\n",
       "      <td>Caucasian</td>\n",
       "      <td>Male</td>\n",
       "      <td>[60-70)</td>\n",
       "      <td>4</td>\n",
       "      <td>70</td>\n",
       "      <td>1</td>\n",
       "      <td>21</td>\n",
       "      <td>0</td>\n",
       "      <td>0</td>\n",
       "      <td>0</td>\n",
       "      <td>...</td>\n",
       "      <td>None</td>\n",
       "      <td>None</td>\n",
       "      <td>Steady</td>\n",
       "      <td>No</td>\n",
       "      <td>No</td>\n",
       "      <td>Steady</td>\n",
       "      <td>Ch</td>\n",
       "      <td>Yes</td>\n",
       "      <td>NO</td>\n",
       "      <td>0</td>\n",
       "    </tr>\n",
       "  </tbody>\n",
       "</table>\n",
       "<p>5 rows × 24 columns</p>\n",
       "</div>"
      ],
      "text/plain": [
       "              race  gender      age  time_in_hospital  num_lab_procedures  \\\n",
       "0        Caucasian  Female   [0-10)                 1                  41   \n",
       "2  AfricanAmerican  Female  [20-30)                 2                  11   \n",
       "3        Caucasian    Male  [30-40)                 2                  44   \n",
       "4        Caucasian    Male  [40-50)                 1                  51   \n",
       "6        Caucasian    Male  [60-70)                 4                  70   \n",
       "\n",
       "   num_procedures  num_medications  number_outpatient  number_emergency  \\\n",
       "0               0                1                  0                 0   \n",
       "2               5               13                  2                 0   \n",
       "3               1               16                  0                 0   \n",
       "4               0                8                  0                 0   \n",
       "6               1               21                  0                 0   \n",
       "\n",
       "   number_inpatient  ... max_glu_serum A1Cresult metformin  examide  \\\n",
       "0                 0  ...          None      None        No       No   \n",
       "2                 1  ...          None      None        No       No   \n",
       "3                 0  ...          None      None        No       No   \n",
       "4                 0  ...          None      None        No       No   \n",
       "6                 0  ...          None      None    Steady       No   \n",
       "\n",
       "  citoglipton insulin change diabetesMed readmitted numchange  \n",
       "0          No      No     No          No         NO         0  \n",
       "2          No      No     No         Yes         NO         0  \n",
       "3          No      Up     Ch         Yes         NO         0  \n",
       "4          No  Steady     Ch         Yes         NO         0  \n",
       "6          No  Steady     Ch         Yes         NO         0  \n",
       "\n",
       "[5 rows x 24 columns]"
      ]
     },
     "execution_count": 41,
     "metadata": {},
     "output_type": "execute_result"
    }
   ],
   "source": [
    "df_merged.head()"
   ]
  },
  {
   "cell_type": "code",
   "execution_count": 42,
   "metadata": {},
   "outputs": [],
   "source": [
    "#Col:'change': any change is there in medication or not\n",
    "#Col:'numchange': number of medications that are changed"
   ]
  },
  {
   "cell_type": "code",
   "execution_count": 43,
   "metadata": {},
   "outputs": [],
   "source": [
    "#Converting 'numchange' from int to object as it is categorical data:\n",
    "\n",
    "df_merged['numchange']=df_merged['numchange'].astype('object')"
   ]
  },
  {
   "cell_type": "code",
   "execution_count": 44,
   "metadata": {},
   "outputs": [
    {
     "data": {
      "image/png": "[encoded data removed]",
      "text/plain": [
       "<Figure size 864x576 with 2 Axes>"
      ]
     },
     "metadata": {
      "needs_background": "light"
     },
     "output_type": "display_data"
    }
   ],
   "source": [
    "plt.figure(figsize = (12,8))\n",
    "sns.heatmap(df_merged.corr(), annot =True, cmap='CMRmap')\n",
    "plt.show()"
   ]
  },
  {
   "cell_type": "code",
   "execution_count": 45,
   "metadata": {},
   "outputs": [],
   "source": [
    "# Numerical columns :\n",
    "\n",
    "num_cols=['time_in_hospital','num_lab_procedures', 'num_procedures','num_medications',\n",
    "          'number_outpatient','number_emergency','number_inpatient','number_diagnoses']\n",
    "\n",
    "\n",
    "# Categorical columns :\n",
    "\n",
    "cat_cols=['race', 'gender', 'age', 'diag_1', 'diag_2', 'diag_3', 'max_glu_serum','A1Cresult', 'metformin',\n",
    "          'examide', 'citoglipton', 'insulin', 'change', 'diabetesMed', 'numchange']"
   ]
  },
  {
   "cell_type": "code",
   "execution_count": 46,
   "metadata": {},
   "outputs": [
    {
     "data": {
      "text/plain": [
       "time_in_hospital       1.153950\n",
       "num_lab_procedures    -0.209800\n",
       "num_procedures         1.267481\n",
       "num_medications        1.398140\n",
       "number_outpatient      8.448639\n",
       "number_emergency      20.935951\n",
       "number_inpatient       4.193099\n",
       "number_diagnoses      -0.774010\n",
       "numchange              5.064812\n",
       "dtype: float64"
      ]
     },
     "execution_count": 46,
     "metadata": {},
     "output_type": "execute_result"
    }
   ],
   "source": [
    "df_merged.skew()"
   ]
  },
  {
   "cell_type": "code",
   "execution_count": 48,
   "metadata": {},
   "outputs": [],
   "source": [
    "from scipy.stats import shapiro,ttest_ind,mannwhitneyu,chi2_contingency"
   ]
  },
  {
   "cell_type": "code",
   "execution_count": 49,
   "metadata": {},
   "outputs": [
    {
     "name": "stderr",
     "output_type": "stream",
     "text": [
      "C:\\Users\\nikhi\\Anaconda3\\lib\\site-packages\\scipy\\stats\\morestats.py:1681: UserWarning: p-value may not be accurate for N > 5000.\n",
      "  warnings.warn(\"p-value may not be accurate for N > 5000.\")\n"
     ]
    },
    {
     "data": {
      "text/html": [
       "<div>\n",
       "<style scoped>\n",
       "    .dataframe tbody tr th:only-of-type {\n",
       "        vertical-align: middle;\n",
       "    }\n",
       "\n",
       "    .dataframe tbody tr th {\n",
       "        vertical-align: top;\n",
       "    }\n",
       "\n",
       "    .dataframe thead th {\n",
       "        text-align: right;\n",
       "    }\n",
       "</style>\n",
       "<table border=\"1\" class=\"dataframe\">\n",
       "  <thead>\n",
       "    <tr style=\"text-align: right;\">\n",
       "      <th></th>\n",
       "      <th>p_value</th>\n",
       "    </tr>\n",
       "  </thead>\n",
       "  <tbody>\n",
       "    <tr>\n",
       "      <th>time_in_hospital</th>\n",
       "      <td>0.0</td>\n",
       "    </tr>\n",
       "    <tr>\n",
       "      <th>num_lab_procedures</th>\n",
       "      <td>0.0</td>\n",
       "    </tr>\n",
       "    <tr>\n",
       "      <th>num_procedures</th>\n",
       "      <td>0.0</td>\n",
       "    </tr>\n",
       "    <tr>\n",
       "      <th>num_medications</th>\n",
       "      <td>0.0</td>\n",
       "    </tr>\n",
       "    <tr>\n",
       "      <th>number_outpatient</th>\n",
       "      <td>0.0</td>\n",
       "    </tr>\n",
       "    <tr>\n",
       "      <th>number_emergency</th>\n",
       "      <td>0.0</td>\n",
       "    </tr>\n",
       "    <tr>\n",
       "      <th>number_inpatient</th>\n",
       "      <td>0.0</td>\n",
       "    </tr>\n",
       "    <tr>\n",
       "      <th>number_diagnoses</th>\n",
       "      <td>0.0</td>\n",
       "    </tr>\n",
       "  </tbody>\n",
       "</table>\n",
       "</div>"
      ],
      "text/plain": [
       "                    p_value\n",
       "time_in_hospital        0.0\n",
       "num_lab_procedures      0.0\n",
       "num_procedures          0.0\n",
       "num_medications         0.0\n",
       "number_outpatient       0.0\n",
       "number_emergency        0.0\n",
       "number_inpatient        0.0\n",
       "number_diagnoses        0.0"
      ]
     },
     "execution_count": 49,
     "metadata": {},
     "output_type": "execute_result"
    }
   ],
   "source": [
    "p = []\n",
    "features = []\n",
    "for i in df_merged.describe(include = np.number).columns:\n",
    "    stat,pvalue = shapiro(df_merged[i].values)\n",
    "    p.append(pvalue)\n",
    "    features.append(i)\n",
    "pd.DataFrame(p,columns=['p_value'],index=features)"
   ]
  },
  {
   "cell_type": "code",
   "execution_count": 50,
   "metadata": {},
   "outputs": [
    {
     "data": {
      "text/html": [
       "<div>\n",
       "<style scoped>\n",
       "    .dataframe tbody tr th:only-of-type {\n",
       "        vertical-align: middle;\n",
       "    }\n",
       "\n",
       "    .dataframe tbody tr th {\n",
       "        vertical-align: top;\n",
       "    }\n",
       "\n",
       "    .dataframe thead th {\n",
       "        text-align: right;\n",
       "    }\n",
       "</style>\n",
       "<table border=\"1\" class=\"dataframe\">\n",
       "  <thead>\n",
       "    <tr style=\"text-align: right;\">\n",
       "      <th></th>\n",
       "      <th>p_value</th>\n",
       "    </tr>\n",
       "  </thead>\n",
       "  <tbody>\n",
       "    <tr>\n",
       "      <th>time_in_hospital</th>\n",
       "      <td>0.000000e+00</td>\n",
       "    </tr>\n",
       "    <tr>\n",
       "      <th>num_lab_procedures</th>\n",
       "      <td>3.661298e-21</td>\n",
       "    </tr>\n",
       "    <tr>\n",
       "      <th>num_procedures</th>\n",
       "      <td>0.000000e+00</td>\n",
       "    </tr>\n",
       "    <tr>\n",
       "      <th>num_medications</th>\n",
       "      <td>0.000000e+00</td>\n",
       "    </tr>\n",
       "    <tr>\n",
       "      <th>number_outpatient</th>\n",
       "      <td>0.000000e+00</td>\n",
       "    </tr>\n",
       "    <tr>\n",
       "      <th>number_emergency</th>\n",
       "      <td>0.000000e+00</td>\n",
       "    </tr>\n",
       "    <tr>\n",
       "      <th>number_inpatient</th>\n",
       "      <td>0.000000e+00</td>\n",
       "    </tr>\n",
       "    <tr>\n",
       "      <th>number_diagnoses</th>\n",
       "      <td>0.000000e+00</td>\n",
       "    </tr>\n",
       "  </tbody>\n",
       "</table>\n",
       "</div>"
      ],
      "text/plain": [
       "                         p_value\n",
       "time_in_hospital    0.000000e+00\n",
       "num_lab_procedures  3.661298e-21\n",
       "num_procedures      0.000000e+00\n",
       "num_medications     0.000000e+00\n",
       "number_outpatient   0.000000e+00\n",
       "number_emergency    0.000000e+00\n",
       "number_inpatient    0.000000e+00\n",
       "number_diagnoses    0.000000e+00"
      ]
     },
     "execution_count": 50,
     "metadata": {},
     "output_type": "execute_result"
    }
   ],
   "source": [
    "dt  = df_merged.sample(5000, random_state= 0)\n",
    "p = []\n",
    "features = []\n",
    "for i in dt.describe(include = np.number).columns:\n",
    "    stat,pvalue = shapiro(dt[i].values)\n",
    "    p.append(pvalue)\n",
    "    features.append(i)\n",
    "pd.DataFrame(p,columns=['p_value'],index=features)"
   ]
  },
  {
   "cell_type": "code",
   "execution_count": 51,
   "metadata": {},
   "outputs": [
    {
     "name": "stdout",
     "output_type": "stream",
     "text": [
      "(8, 1)\n"
     ]
    }
   ],
   "source": [
    "l1 = []\n",
    "\n",
    "for i in df_merged.describe(include = np.number).columns:\n",
    "    df_NO=df_merged[df_merged['readmitted']=='NO'][i]\n",
    "    df_L=df_merged[df_merged['readmitted']=='<30'][i]\n",
    "    l1.append(mannwhitneyu(df_NO.values,df_L.values).pvalue)\n",
    "    \n",
    "\n",
    "d_1=pd.DataFrame(l1, index = df_merged.describe(include = np.number).columns, columns = ['P-value with readmission'])\n",
    "\n",
    "print(d_1.shape)"
   ]
  },
  {
   "cell_type": "code",
   "execution_count": 52,
   "metadata": {},
   "outputs": [
    {
     "data": {
      "text/html": [
       "<div>\n",
       "<style scoped>\n",
       "    .dataframe tbody tr th:only-of-type {\n",
       "        vertical-align: middle;\n",
       "    }\n",
       "\n",
       "    .dataframe tbody tr th {\n",
       "        vertical-align: top;\n",
       "    }\n",
       "\n",
       "    .dataframe thead th {\n",
       "        text-align: right;\n",
       "    }\n",
       "</style>\n",
       "<table border=\"1\" class=\"dataframe\">\n",
       "  <thead>\n",
       "    <tr style=\"text-align: right;\">\n",
       "      <th></th>\n",
       "      <th>P-value with readmission</th>\n",
       "    </tr>\n",
       "  </thead>\n",
       "  <tbody>\n",
       "    <tr>\n",
       "      <th>time_in_hospital</th>\n",
       "      <td>7.607614e-84</td>\n",
       "    </tr>\n",
       "    <tr>\n",
       "      <th>num_lab_procedures</th>\n",
       "      <td>5.718669e-21</td>\n",
       "    </tr>\n",
       "    <tr>\n",
       "      <th>num_procedures</th>\n",
       "      <td>1.962113e-09</td>\n",
       "    </tr>\n",
       "    <tr>\n",
       "      <th>num_medications</th>\n",
       "      <td>1.822846e-77</td>\n",
       "    </tr>\n",
       "    <tr>\n",
       "      <th>number_outpatient</th>\n",
       "      <td>1.794262e-95</td>\n",
       "    </tr>\n",
       "    <tr>\n",
       "      <th>number_emergency</th>\n",
       "      <td>7.779246e-216</td>\n",
       "    </tr>\n",
       "    <tr>\n",
       "      <th>number_inpatient</th>\n",
       "      <td>0.000000e+00</td>\n",
       "    </tr>\n",
       "    <tr>\n",
       "      <th>number_diagnoses</th>\n",
       "      <td>1.979743e-112</td>\n",
       "    </tr>\n",
       "  </tbody>\n",
       "</table>\n",
       "</div>"
      ],
      "text/plain": [
       "                    P-value with readmission\n",
       "time_in_hospital                7.607614e-84\n",
       "num_lab_procedures              5.718669e-21\n",
       "num_procedures                  1.962113e-09\n",
       "num_medications                 1.822846e-77\n",
       "number_outpatient               1.794262e-95\n",
       "number_emergency               7.779246e-216\n",
       "number_inpatient                0.000000e+00\n",
       "number_diagnoses               1.979743e-112"
      ]
     },
     "execution_count": 52,
     "metadata": {},
     "output_type": "execute_result"
    }
   ],
   "source": [
    "d_1"
   ]
  },
  {
   "cell_type": "code",
   "execution_count": 53,
   "metadata": {},
   "outputs": [],
   "source": [
    "l1 = []\n",
    "\n",
    "\n",
    "for i in df_merged.describe(include = np.object).columns:\n",
    "    c=chi2_contingency(pd.crosstab(df_merged[i],df_merged['readmitted']).values)\n",
    "    l1.append(c[1])\n",
    "\n",
    "d_1=pd.DataFrame(l1, index = df_merged.describe(include = np.object).columns, columns = ['P-value with readmission'])"
   ]
  },
  {
   "cell_type": "code",
   "execution_count": 54,
   "metadata": {},
   "outputs": [
    {
     "data": {
      "text/html": [
       "<div>\n",
       "<style scoped>\n",
       "    .dataframe tbody tr th:only-of-type {\n",
       "        vertical-align: middle;\n",
       "    }\n",
       "\n",
       "    .dataframe tbody tr th {\n",
       "        vertical-align: top;\n",
       "    }\n",
       "\n",
       "    .dataframe thead th {\n",
       "        text-align: right;\n",
       "    }\n",
       "</style>\n",
       "<table border=\"1\" class=\"dataframe\">\n",
       "  <thead>\n",
       "    <tr style=\"text-align: right;\">\n",
       "      <th></th>\n",
       "      <th>P-value with readmission</th>\n",
       "    </tr>\n",
       "  </thead>\n",
       "  <tbody>\n",
       "    <tr>\n",
       "      <th>race</th>\n",
       "      <td>7.983005e-14</td>\n",
       "    </tr>\n",
       "    <tr>\n",
       "      <th>gender</th>\n",
       "      <td>1.669633e-02</td>\n",
       "    </tr>\n",
       "    <tr>\n",
       "      <th>age</th>\n",
       "      <td>1.792637e-29</td>\n",
       "    </tr>\n",
       "    <tr>\n",
       "      <th>diag_1</th>\n",
       "      <td>7.811026e-24</td>\n",
       "    </tr>\n",
       "    <tr>\n",
       "      <th>diag_2</th>\n",
       "      <td>9.988616e-11</td>\n",
       "    </tr>\n",
       "    <tr>\n",
       "      <th>diag_3</th>\n",
       "      <td>1.686827e-18</td>\n",
       "    </tr>\n",
       "    <tr>\n",
       "      <th>max_glu_serum</th>\n",
       "      <td>7.855814e-07</td>\n",
       "    </tr>\n",
       "    <tr>\n",
       "      <th>A1Cresult</th>\n",
       "      <td>1.908681e-10</td>\n",
       "    </tr>\n",
       "    <tr>\n",
       "      <th>metformin</th>\n",
       "      <td>1.151462e-17</td>\n",
       "    </tr>\n",
       "    <tr>\n",
       "      <th>examide</th>\n",
       "      <td>1.000000e+00</td>\n",
       "    </tr>\n",
       "    <tr>\n",
       "      <th>citoglipton</th>\n",
       "      <td>1.000000e+00</td>\n",
       "    </tr>\n",
       "    <tr>\n",
       "      <th>insulin</th>\n",
       "      <td>4.925964e-72</td>\n",
       "    </tr>\n",
       "    <tr>\n",
       "      <th>change</th>\n",
       "      <td>2.634938e-21</td>\n",
       "    </tr>\n",
       "    <tr>\n",
       "      <th>diabetesMed</th>\n",
       "      <td>9.625150e-37</td>\n",
       "    </tr>\n",
       "    <tr>\n",
       "      <th>readmitted</th>\n",
       "      <td>0.000000e+00</td>\n",
       "    </tr>\n",
       "    <tr>\n",
       "      <th>numchange</th>\n",
       "      <td>2.894495e-01</td>\n",
       "    </tr>\n",
       "  </tbody>\n",
       "</table>\n",
       "</div>"
      ],
      "text/plain": [
       "               P-value with readmission\n",
       "race                       7.983005e-14\n",
       "gender                     1.669633e-02\n",
       "age                        1.792637e-29\n",
       "diag_1                     7.811026e-24\n",
       "diag_2                     9.988616e-11\n",
       "diag_3                     1.686827e-18\n",
       "max_glu_serum              7.855814e-07\n",
       "A1Cresult                  1.908681e-10\n",
       "metformin                  1.151462e-17\n",
       "examide                    1.000000e+00\n",
       "citoglipton                1.000000e+00\n",
       "insulin                    4.925964e-72\n",
       "change                     2.634938e-21\n",
       "diabetesMed                9.625150e-37\n",
       "readmitted                 0.000000e+00\n",
       "numchange                  2.894495e-01"
      ]
     },
     "execution_count": 54,
     "metadata": {},
     "output_type": "execute_result"
    }
   ],
   "source": [
    "d_1"
   ]
  },
  {
   "cell_type": "code",
   "execution_count": null,
   "metadata": {},
   "outputs": [],
   "source": []
  }
 ],
 "metadata": {
  "kernelspec": {
   "display_name": "Python 3",
   "language": "python",
   "name": "python3"
  },
  "language_info": {
   "codemirror_mode": {
    "name": "ipython",
    "version": 3
   },
   "file_extension": ".py",
   "mimetype": "text/x-python",
   "name": "python",
   "nbconvert_exporter": "python",
   "pygments_lexer": "ipython3",
   "version": "3.8.5"
  }
 },
 "nbformat": 4,
 "nbformat_minor": 4
}
