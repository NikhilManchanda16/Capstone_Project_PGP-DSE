{
 "cells": [
  {
   "cell_type": "code",
   "execution_count": 1,
   "metadata": {
    "executionInfo": {
     "elapsed": 3459,
     "status": "ok",
     "timestamp": 1605715168308,
     "user": {
      "displayName": "Pragati Khedkar",
      "photoUrl": "",
      "userId": "03319733517214823277"
     },
     "user_tz": -330
    },
    "id": "pua-kMlbFKCN"
   },
   "outputs": [],
   "source": [
    "# Importing requried librarires :\n",
    "\n",
    "import numpy as np\n",
    "import pandas as pd\n",
    "import matplotlib.pyplot as plt\n",
    "import seaborn as sns"
   ]
  },
  {
   "cell_type": "code",
   "execution_count": 2,
   "metadata": {
    "executionInfo": {
     "elapsed": 1048,
     "status": "ok",
     "timestamp": 1605715571177,
     "user": {
      "displayName": "Pragati Khedkar",
      "photoUrl": "",
      "userId": "03319733517214823277"
     },
     "user_tz": -330
    },
    "id": "3FpzJWPtFKCO"
   },
   "outputs": [],
   "source": [
    "# Loading the dataset :\n",
    "\n",
    "df=pd.read_csv('diabetic_data.csv')"
   ]
  },
  {
   "cell_type": "code",
   "execution_count": 3,
   "metadata": {
    "colab": {
     "base_uri": "https://localhost:8080/",
     "height": 316
    },
    "executionInfo": {
     "elapsed": 882,
     "status": "ok",
     "timestamp": 1605715572681,
     "user": {
      "displayName": "Pragati Khedkar",
      "photoUrl": "",
      "userId": "03319733517214823277"
     },
     "user_tz": -330
    },
    "id": "k-NxjwnrFKCO",
    "outputId": "83c735af-ba5a-4b2e-d51d-7a647fce0b58"
   },
   "outputs": [
    {
     "data": {
      "text/html": [
       "<div>\n",
       "<style scoped>\n",
       "    .dataframe tbody tr th:only-of-type {\n",
       "        vertical-align: middle;\n",
       "    }\n",
       "\n",
       "    .dataframe tbody tr th {\n",
       "        vertical-align: top;\n",
       "    }\n",
       "\n",
       "    .dataframe thead th {\n",
       "        text-align: right;\n",
       "    }\n",
       "</style>\n",
       "<table border=\"1\" class=\"dataframe\">\n",
       "  <thead>\n",
       "    <tr style=\"text-align: right;\">\n",
       "      <th></th>\n",
       "      <th>encounter_id</th>\n",
       "      <th>patient_nbr</th>\n",
       "      <th>race</th>\n",
       "      <th>gender</th>\n",
       "      <th>age</th>\n",
       "      <th>weight</th>\n",
       "      <th>admission_type_id</th>\n",
       "      <th>discharge_disposition_id</th>\n",
       "      <th>admission_source_id</th>\n",
       "      <th>time_in_hospital</th>\n",
       "      <th>...</th>\n",
       "      <th>citoglipton</th>\n",
       "      <th>insulin</th>\n",
       "      <th>glyburide-metformin</th>\n",
       "      <th>glipizide-metformin</th>\n",
       "      <th>glimepiride-pioglitazone</th>\n",
       "      <th>metformin-rosiglitazone</th>\n",
       "      <th>metformin-pioglitazone</th>\n",
       "      <th>change</th>\n",
       "      <th>diabetesMed</th>\n",
       "      <th>readmitted</th>\n",
       "    </tr>\n",
       "  </thead>\n",
       "  <tbody>\n",
       "    <tr>\n",
       "      <th>0</th>\n",
       "      <td>2278392</td>\n",
       "      <td>8222157</td>\n",
       "      <td>Caucasian</td>\n",
       "      <td>Female</td>\n",
       "      <td>[0-10)</td>\n",
       "      <td>?</td>\n",
       "      <td>6</td>\n",
       "      <td>25</td>\n",
       "      <td>1</td>\n",
       "      <td>1</td>\n",
       "      <td>...</td>\n",
       "      <td>No</td>\n",
       "      <td>No</td>\n",
       "      <td>No</td>\n",
       "      <td>No</td>\n",
       "      <td>No</td>\n",
       "      <td>No</td>\n",
       "      <td>No</td>\n",
       "      <td>No</td>\n",
       "      <td>No</td>\n",
       "      <td>NO</td>\n",
       "    </tr>\n",
       "    <tr>\n",
       "      <th>1</th>\n",
       "      <td>149190</td>\n",
       "      <td>55629189</td>\n",
       "      <td>Caucasian</td>\n",
       "      <td>Female</td>\n",
       "      <td>[10-20)</td>\n",
       "      <td>?</td>\n",
       "      <td>1</td>\n",
       "      <td>1</td>\n",
       "      <td>7</td>\n",
       "      <td>3</td>\n",
       "      <td>...</td>\n",
       "      <td>No</td>\n",
       "      <td>Up</td>\n",
       "      <td>No</td>\n",
       "      <td>No</td>\n",
       "      <td>No</td>\n",
       "      <td>No</td>\n",
       "      <td>No</td>\n",
       "      <td>Ch</td>\n",
       "      <td>Yes</td>\n",
       "      <td>&gt;30</td>\n",
       "    </tr>\n",
       "    <tr>\n",
       "      <th>2</th>\n",
       "      <td>64410</td>\n",
       "      <td>86047875</td>\n",
       "      <td>AfricanAmerican</td>\n",
       "      <td>Female</td>\n",
       "      <td>[20-30)</td>\n",
       "      <td>?</td>\n",
       "      <td>1</td>\n",
       "      <td>1</td>\n",
       "      <td>7</td>\n",
       "      <td>2</td>\n",
       "      <td>...</td>\n",
       "      <td>No</td>\n",
       "      <td>No</td>\n",
       "      <td>No</td>\n",
       "      <td>No</td>\n",
       "      <td>No</td>\n",
       "      <td>No</td>\n",
       "      <td>No</td>\n",
       "      <td>No</td>\n",
       "      <td>Yes</td>\n",
       "      <td>NO</td>\n",
       "    </tr>\n",
       "    <tr>\n",
       "      <th>3</th>\n",
       "      <td>500364</td>\n",
       "      <td>82442376</td>\n",
       "      <td>Caucasian</td>\n",
       "      <td>Male</td>\n",
       "      <td>[30-40)</td>\n",
       "      <td>?</td>\n",
       "      <td>1</td>\n",
       "      <td>1</td>\n",
       "      <td>7</td>\n",
       "      <td>2</td>\n",
       "      <td>...</td>\n",
       "      <td>No</td>\n",
       "      <td>Up</td>\n",
       "      <td>No</td>\n",
       "      <td>No</td>\n",
       "      <td>No</td>\n",
       "      <td>No</td>\n",
       "      <td>No</td>\n",
       "      <td>Ch</td>\n",
       "      <td>Yes</td>\n",
       "      <td>NO</td>\n",
       "    </tr>\n",
       "    <tr>\n",
       "      <th>4</th>\n",
       "      <td>16680</td>\n",
       "      <td>42519267</td>\n",
       "      <td>Caucasian</td>\n",
       "      <td>Male</td>\n",
       "      <td>[40-50)</td>\n",
       "      <td>?</td>\n",
       "      <td>1</td>\n",
       "      <td>1</td>\n",
       "      <td>7</td>\n",
       "      <td>1</td>\n",
       "      <td>...</td>\n",
       "      <td>No</td>\n",
       "      <td>Steady</td>\n",
       "      <td>No</td>\n",
       "      <td>No</td>\n",
       "      <td>No</td>\n",
       "      <td>No</td>\n",
       "      <td>No</td>\n",
       "      <td>Ch</td>\n",
       "      <td>Yes</td>\n",
       "      <td>NO</td>\n",
       "    </tr>\n",
       "  </tbody>\n",
       "</table>\n",
       "<p>5 rows × 50 columns</p>\n",
       "</div>"
      ],
      "text/plain": [
       "   encounter_id  patient_nbr             race  gender      age weight  \\\n",
       "0       2278392      8222157        Caucasian  Female   [0-10)      ?   \n",
       "1        149190     55629189        Caucasian  Female  [10-20)      ?   \n",
       "2         64410     86047875  AfricanAmerican  Female  [20-30)      ?   \n",
       "3        500364     82442376        Caucasian    Male  [30-40)      ?   \n",
       "4         16680     42519267        Caucasian    Male  [40-50)      ?   \n",
       "\n",
       "   admission_type_id  discharge_disposition_id  admission_source_id  \\\n",
       "0                  6                        25                    1   \n",
       "1                  1                         1                    7   \n",
       "2                  1                         1                    7   \n",
       "3                  1                         1                    7   \n",
       "4                  1                         1                    7   \n",
       "\n",
       "   time_in_hospital  ... citoglipton insulin  glyburide-metformin  \\\n",
       "0                 1  ...          No      No                   No   \n",
       "1                 3  ...          No      Up                   No   \n",
       "2                 2  ...          No      No                   No   \n",
       "3                 2  ...          No      Up                   No   \n",
       "4                 1  ...          No  Steady                   No   \n",
       "\n",
       "   glipizide-metformin  glimepiride-pioglitazone  metformin-rosiglitazone  \\\n",
       "0                   No                        No                       No   \n",
       "1                   No                        No                       No   \n",
       "2                   No                        No                       No   \n",
       "3                   No                        No                       No   \n",
       "4                   No                        No                       No   \n",
       "\n",
       "   metformin-pioglitazone  change diabetesMed readmitted  \n",
       "0                      No      No          No         NO  \n",
       "1                      No      Ch         Yes        >30  \n",
       "2                      No      No         Yes         NO  \n",
       "3                      No      Ch         Yes         NO  \n",
       "4                      No      Ch         Yes         NO  \n",
       "\n",
       "[5 rows x 50 columns]"
      ]
     },
     "execution_count": 3,
     "metadata": {},
     "output_type": "execute_result"
    }
   ],
   "source": [
    "df.head()"
   ]
  },
  {
   "cell_type": "code",
   "execution_count": 4,
   "metadata": {
    "colab": {
     "base_uri": "https://localhost:8080/"
    },
    "executionInfo": {
     "elapsed": 1175,
     "status": "ok",
     "timestamp": 1605715575077,
     "user": {
      "displayName": "Pragati Khedkar",
      "photoUrl": "",
      "userId": "03319733517214823277"
     },
     "user_tz": -330
    },
    "id": "vVRPz3O4FKCO",
    "outputId": "e3e5e960-b8f8-485d-a2fa-a0ad342c87ee"
   },
   "outputs": [
    {
     "data": {
      "text/plain": [
       "(101766, 50)"
      ]
     },
     "execution_count": 4,
     "metadata": {},
     "output_type": "execute_result"
    }
   ],
   "source": [
    "# Number of rows and columns :\n",
    "\n",
    "df.shape"
   ]
  },
  {
   "cell_type": "markdown",
   "metadata": {
    "id": "sPrAeLPJFKCO"
   },
   "source": [
    "# Dropping records for 'readmitted'= '>30'"
   ]
  },
  {
   "cell_type": "markdown",
   "metadata": {
    "id": "zANJ3wwCFKCO"
   },
   "source": [
    "#removing invalid/unknown entries for gender\n",
    "df=df[df['gender']!='Unknown/Invalid']\n",
    "#dropping rows with NAs.\n",
    "df.dropna(inplace=True)"
   ]
  },
  {
   "cell_type": "code",
   "execution_count": 5,
   "metadata": {
    "executionInfo": {
     "elapsed": 1045,
     "status": "ok",
     "timestamp": 1605715580035,
     "user": {
      "displayName": "Pragati Khedkar",
      "photoUrl": "",
      "userId": "03319733517214823277"
     },
     "user_tz": -330
    },
    "id": "NDFDmMU7FKCO"
   },
   "outputs": [],
   "source": [
    "#removing readmitted'= '>30' entries for df\n",
    "df=df[df['readmitted']!='>30']\n",
    "\n",
    "# dropping rows with NAs.\n",
    "#df.dropna(inplace=True)"
   ]
  },
  {
   "cell_type": "code",
   "execution_count": 6,
   "metadata": {
    "colab": {
     "base_uri": "https://localhost:8080/"
    },
    "executionInfo": {
     "elapsed": 793,
     "status": "ok",
     "timestamp": 1605715581313,
     "user": {
      "displayName": "Pragati Khedkar",
      "photoUrl": "",
      "userId": "03319733517214823277"
     },
     "user_tz": -330
    },
    "id": "v6-RLIK6FKCO",
    "outputId": "d48e2c1a-272e-4c96-ee9d-b4c9c944ba5e"
   },
   "outputs": [
    {
     "data": {
      "text/plain": [
       "(66221, 50)"
      ]
     },
     "execution_count": 6,
     "metadata": {},
     "output_type": "execute_result"
    }
   ],
   "source": [
    "df.shape"
   ]
  },
  {
   "cell_type": "code",
   "execution_count": 7,
   "metadata": {
    "colab": {
     "base_uri": "https://localhost:8080/"
    },
    "executionInfo": {
     "elapsed": 1218,
     "status": "ok",
     "timestamp": 1605715582986,
     "user": {
      "displayName": "Pragati Khedkar",
      "photoUrl": "",
      "userId": "03319733517214823277"
     },
     "user_tz": -330
    },
    "id": "12sj4DulFKCO",
    "outputId": "3d6d89f1-aeac-4acc-c34b-5bb972720de7",
    "scrolled": true
   },
   "outputs": [
    {
     "name": "stdout",
     "output_type": "stream",
     "text": [
      "<class 'pandas.core.frame.DataFrame'>\n",
      "Int64Index: 66221 entries, 0 to 101765\n",
      "Data columns (total 50 columns):\n",
      " #   Column                    Non-Null Count  Dtype \n",
      "---  ------                    --------------  ----- \n",
      " 0   encounter_id              66221 non-null  int64 \n",
      " 1   patient_nbr               66221 non-null  int64 \n",
      " 2   race                      66221 non-null  object\n",
      " 3   gender                    66221 non-null  object\n",
      " 4   age                       66221 non-null  object\n",
      " 5   weight                    66221 non-null  object\n",
      " 6   admission_type_id         66221 non-null  int64 \n",
      " 7   discharge_disposition_id  66221 non-null  int64 \n",
      " 8   admission_source_id       66221 non-null  int64 \n",
      " 9   time_in_hospital          66221 non-null  int64 \n",
      " 10  payer_code                66221 non-null  object\n",
      " 11  medical_specialty         66221 non-null  object\n",
      " 12  num_lab_procedures        66221 non-null  int64 \n",
      " 13  num_procedures            66221 non-null  int64 \n",
      " 14  num_medications           66221 non-null  int64 \n",
      " 15  number_outpatient         66221 non-null  int64 \n",
      " 16  number_emergency          66221 non-null  int64 \n",
      " 17  number_inpatient          66221 non-null  int64 \n",
      " 18  diag_1                    66221 non-null  object\n",
      " 19  diag_2                    66221 non-null  object\n",
      " 20  diag_3                    66221 non-null  object\n",
      " 21  number_diagnoses          66221 non-null  int64 \n",
      " 22  max_glu_serum             66221 non-null  object\n",
      " 23  A1Cresult                 66221 non-null  object\n",
      " 24  metformin                 66221 non-null  object\n",
      " 25  repaglinide               66221 non-null  object\n",
      " 26  nateglinide               66221 non-null  object\n",
      " 27  chlorpropamide            66221 non-null  object\n",
      " 28  glimepiride               66221 non-null  object\n",
      " 29  acetohexamide             66221 non-null  object\n",
      " 30  glipizide                 66221 non-null  object\n",
      " 31  glyburide                 66221 non-null  object\n",
      " 32  tolbutamide               66221 non-null  object\n",
      " 33  pioglitazone              66221 non-null  object\n",
      " 34  rosiglitazone             66221 non-null  object\n",
      " 35  acarbose                  66221 non-null  object\n",
      " 36  miglitol                  66221 non-null  object\n",
      " 37  troglitazone              66221 non-null  object\n",
      " 38  tolazamide                66221 non-null  object\n",
      " 39  examide                   66221 non-null  object\n",
      " 40  citoglipton               66221 non-null  object\n",
      " 41  insulin                   66221 non-null  object\n",
      " 42  glyburide-metformin       66221 non-null  object\n",
      " 43  glipizide-metformin       66221 non-null  object\n",
      " 44  glimepiride-pioglitazone  66221 non-null  object\n",
      " 45  metformin-rosiglitazone   66221 non-null  object\n",
      " 46  metformin-pioglitazone    66221 non-null  object\n",
      " 47  change                    66221 non-null  object\n",
      " 48  diabetesMed               66221 non-null  object\n",
      " 49  readmitted                66221 non-null  object\n",
      "dtypes: int64(13), object(37)\n",
      "memory usage: 25.8+ MB\n"
     ]
    }
   ],
   "source": [
    "df.info()"
   ]
  },
  {
   "cell_type": "code",
   "execution_count": 8,
   "metadata": {
    "executionInfo": {
     "elapsed": 1074,
     "status": "ok",
     "timestamp": 1605715585468,
     "user": {
      "displayName": "Pragati Khedkar",
      "photoUrl": "",
      "userId": "03319733517214823277"
     },
     "user_tz": -330
    },
    "id": "53YrOLX1FKCO"
   },
   "outputs": [],
   "source": [
    "#pd.options.display.max_colwidth = None   # to view all the data"
   ]
  },
  {
   "cell_type": "markdown",
   "metadata": {
    "id": "GHWGRh3DFKCO"
   },
   "source": [
    "#replacing 0 with np.nan for all columns accept 'outcome'\n",
    "\n",
    "#df_ind=df[:]\n",
    "\n",
    "df.iloc[:,:-1]=df.iloc[:,:-1].replace({0:np.nan})"
   ]
  },
  {
   "cell_type": "markdown",
   "metadata": {
    "id": "xraH4zGcFKCO"
   },
   "source": [
    "# Missing value percentage calculation :"
   ]
  },
  {
   "cell_type": "code",
   "execution_count": 9,
   "metadata": {
    "colab": {
     "base_uri": "https://localhost:8080/",
     "height": 254
    },
    "executionInfo": {
     "elapsed": 1165,
     "status": "ok",
     "timestamp": 1605715589181,
     "user": {
      "displayName": "Pragati Khedkar",
      "photoUrl": "",
      "userId": "03319733517214823277"
     },
     "user_tz": -330
    },
    "id": "SKMkYY-QFKCO",
    "outputId": "45b56f7c-f92d-46bb-9dab-70916bb83e5e"
   },
   "outputs": [
    {
     "data": {
      "text/html": [
       "<div>\n",
       "<style scoped>\n",
       "    .dataframe tbody tr th:only-of-type {\n",
       "        vertical-align: middle;\n",
       "    }\n",
       "\n",
       "    .dataframe tbody tr th {\n",
       "        vertical-align: top;\n",
       "    }\n",
       "\n",
       "    .dataframe thead th {\n",
       "        text-align: right;\n",
       "    }\n",
       "</style>\n",
       "<table border=\"1\" class=\"dataframe\">\n",
       "  <thead>\n",
       "    <tr style=\"text-align: right;\">\n",
       "      <th></th>\n",
       "      <th>percentage of missing</th>\n",
       "    </tr>\n",
       "  </thead>\n",
       "  <tbody>\n",
       "    <tr>\n",
       "      <th>weight</th>\n",
       "      <td>97.452470</td>\n",
       "    </tr>\n",
       "    <tr>\n",
       "      <th>medical_specialty</th>\n",
       "      <td>47.919844</td>\n",
       "    </tr>\n",
       "    <tr>\n",
       "      <th>payer_code</th>\n",
       "      <td>39.908790</td>\n",
       "    </tr>\n",
       "    <tr>\n",
       "      <th>race</th>\n",
       "      <td>2.620015</td>\n",
       "    </tr>\n",
       "    <tr>\n",
       "      <th>diag_3</th>\n",
       "      <td>1.638453</td>\n",
       "    </tr>\n",
       "    <tr>\n",
       "      <th>diag_2</th>\n",
       "      <td>0.428867</td>\n",
       "    </tr>\n",
       "    <tr>\n",
       "      <th>diag_1</th>\n",
       "      <td>0.025672</td>\n",
       "    </tr>\n",
       "  </tbody>\n",
       "</table>\n",
       "</div>"
      ],
      "text/plain": [
       "                   percentage of missing\n",
       "weight                         97.452470\n",
       "medical_specialty              47.919844\n",
       "payer_code                     39.908790\n",
       "race                            2.620015\n",
       "diag_3                          1.638453\n",
       "diag_2                          0.428867\n",
       "diag_1                          0.025672"
      ]
     },
     "execution_count": 9,
     "metadata": {},
     "output_type": "execute_result"
    }
   ],
   "source": [
    "# checking missing value percentage:\n",
    "\n",
    "percenatge = []\n",
    "for i in df.columns:\n",
    "    p = (df[df[i]=='?'].shape[0]/df.shape[0])*100\n",
    "    percenatge.append(p)\n",
    "df_missing=pd.DataFrame(percenatge,index=df.columns,columns=['percentage of missing']).sort_values(by='percentage of missing',ascending=False) \n",
    "df_missing[df_missing['percentage of missing']>0]"
   ]
  },
  {
   "cell_type": "code",
   "execution_count": 10,
   "metadata": {},
   "outputs": [],
   "source": [
    "df1 = df.copy()"
   ]
  },
  {
   "cell_type": "markdown",
   "metadata": {
    "id": "WK5BGGQzFKCP"
   },
   "source": [
    "# Missing values imputation :"
   ]
  },
  {
   "cell_type": "code",
   "execution_count": 11,
   "metadata": {
    "executionInfo": {
     "elapsed": 1155,
     "status": "ok",
     "timestamp": 1605715605898,
     "user": {
      "displayName": "Pragati Khedkar",
      "photoUrl": "",
      "userId": "03319733517214823277"
     },
     "user_tz": -330
    },
    "id": "uRrSS57zFKCP"
   },
   "outputs": [
    {
     "data": {
      "text/plain": [
       "Female    35193\n",
       "Male      31028\n",
       "Name: gender, dtype: int64"
      ]
     },
     "execution_count": 11,
     "metadata": {},
     "output_type": "execute_result"
    }
   ],
   "source": [
    "# 1). gender : Replacing 'Unknown/Invalid' with mode of gender, because only 3 values are missing/unkown :\n",
    "\n",
    "df1.replace(['Unknown/Invalid'],df1['gender'].mode()[0],inplace=True)\n",
    "df1['gender'].value_counts()"
   ]
  },
  {
   "cell_type": "code",
   "execution_count": 12,
   "metadata": {},
   "outputs": [],
   "source": [
    "# Replace '?' with 'NaN' :\n",
    "\n",
    "df1.replace(['?'],np.nan,inplace=True)"
   ]
  },
  {
   "cell_type": "code",
   "execution_count": 13,
   "metadata": {},
   "outputs": [],
   "source": [
    "# 2). race : we will include nan values in 'Other' , which is already present in it\n",
    "\n",
    "df1['race']=df1['race'].fillna('Other')"
   ]
  },
  {
   "cell_type": "code",
   "execution_count": 14,
   "metadata": {},
   "outputs": [
    {
     "data": {
      "text/plain": [
       "Caucasian          48975\n",
       "AfricanAmerican    12576\n",
       "Other               2795\n",
       "Hispanic            1395\n",
       "Asian                480\n",
       "Name: race, dtype: int64"
      ]
     },
     "execution_count": 14,
     "metadata": {},
     "output_type": "execute_result"
    }
   ],
   "source": [
    "df1['race'].value_counts()"
   ]
  },
  {
   "cell_type": "code",
   "execution_count": 15,
   "metadata": {
    "executionInfo": {
     "elapsed": 1031,
     "status": "ok",
     "timestamp": 1605715611358,
     "user": {
      "displayName": "Pragati Khedkar",
      "photoUrl": "",
      "userId": "03319733517214823277"
     },
     "user_tz": -330
    },
    "id": "7holL6EmFKCP"
   },
   "outputs": [],
   "source": [
    "# 3). diag_1 : 21 missing values (i,e ... 0.02%, so impute with mode)\n",
    "\n",
    "df1['diag_1'] = df1['diag_1'].fillna('Other')"
   ]
  },
  {
   "cell_type": "code",
   "execution_count": 16,
   "metadata": {
    "executionInfo": {
     "elapsed": 1109,
     "status": "ok",
     "timestamp": 1605715614531,
     "user": {
      "displayName": "Pragati Khedkar",
      "photoUrl": "",
      "userId": "03319733517214823277"
     },
     "user_tz": -330
    },
    "id": "ik0IBloiFKCP"
   },
   "outputs": [],
   "source": [
    "# 4). diag_2 : 0.35% of missing values, so impute with mode \n",
    "df1['diag_2'] = df1['diag_2'].fillna('Other')"
   ]
  },
  {
   "cell_type": "code",
   "execution_count": 17,
   "metadata": {
    "executionInfo": {
     "elapsed": 1405,
     "status": "ok",
     "timestamp": 1605715618216,
     "user": {
      "displayName": "Pragati Khedkar",
      "photoUrl": "",
      "userId": "03319733517214823277"
     },
     "user_tz": -330
    },
    "id": "dQz4F4OBFKCP"
   },
   "outputs": [],
   "source": [
    "# 5). diag_3 : 1.3% of missing values, so impute with mode \n",
    "df1['diag_3'] = df1['diag_3'].fillna('Other')"
   ]
  },
  {
   "cell_type": "code",
   "execution_count": 18,
   "metadata": {},
   "outputs": [
    {
     "data": {
      "text/html": [
       "<div>\n",
       "<style scoped>\n",
       "    .dataframe tbody tr th:only-of-type {\n",
       "        vertical-align: middle;\n",
       "    }\n",
       "\n",
       "    .dataframe tbody tr th {\n",
       "        vertical-align: top;\n",
       "    }\n",
       "\n",
       "    .dataframe thead th {\n",
       "        text-align: right;\n",
       "    }\n",
       "</style>\n",
       "<table border=\"1\" class=\"dataframe\">\n",
       "  <thead>\n",
       "    <tr style=\"text-align: right;\">\n",
       "      <th></th>\n",
       "      <th>percentage of missing</th>\n",
       "    </tr>\n",
       "  </thead>\n",
       "  <tbody>\n",
       "    <tr>\n",
       "      <th>encounter_id</th>\n",
       "      <td>0.0</td>\n",
       "    </tr>\n",
       "    <tr>\n",
       "      <th>troglitazone</th>\n",
       "      <td>0.0</td>\n",
       "    </tr>\n",
       "    <tr>\n",
       "      <th>chlorpropamide</th>\n",
       "      <td>0.0</td>\n",
       "    </tr>\n",
       "    <tr>\n",
       "      <th>glimepiride</th>\n",
       "      <td>0.0</td>\n",
       "    </tr>\n",
       "    <tr>\n",
       "      <th>acetohexamide</th>\n",
       "      <td>0.0</td>\n",
       "    </tr>\n",
       "    <tr>\n",
       "      <th>glipizide</th>\n",
       "      <td>0.0</td>\n",
       "    </tr>\n",
       "    <tr>\n",
       "      <th>glyburide</th>\n",
       "      <td>0.0</td>\n",
       "    </tr>\n",
       "    <tr>\n",
       "      <th>tolbutamide</th>\n",
       "      <td>0.0</td>\n",
       "    </tr>\n",
       "    <tr>\n",
       "      <th>pioglitazone</th>\n",
       "      <td>0.0</td>\n",
       "    </tr>\n",
       "    <tr>\n",
       "      <th>rosiglitazone</th>\n",
       "      <td>0.0</td>\n",
       "    </tr>\n",
       "    <tr>\n",
       "      <th>acarbose</th>\n",
       "      <td>0.0</td>\n",
       "    </tr>\n",
       "    <tr>\n",
       "      <th>miglitol</th>\n",
       "      <td>0.0</td>\n",
       "    </tr>\n",
       "    <tr>\n",
       "      <th>tolazamide</th>\n",
       "      <td>0.0</td>\n",
       "    </tr>\n",
       "    <tr>\n",
       "      <th>patient_nbr</th>\n",
       "      <td>0.0</td>\n",
       "    </tr>\n",
       "    <tr>\n",
       "      <th>examide</th>\n",
       "      <td>0.0</td>\n",
       "    </tr>\n",
       "    <tr>\n",
       "      <th>citoglipton</th>\n",
       "      <td>0.0</td>\n",
       "    </tr>\n",
       "    <tr>\n",
       "      <th>insulin</th>\n",
       "      <td>0.0</td>\n",
       "    </tr>\n",
       "    <tr>\n",
       "      <th>glyburide-metformin</th>\n",
       "      <td>0.0</td>\n",
       "    </tr>\n",
       "    <tr>\n",
       "      <th>glipizide-metformin</th>\n",
       "      <td>0.0</td>\n",
       "    </tr>\n",
       "    <tr>\n",
       "      <th>glimepiride-pioglitazone</th>\n",
       "      <td>0.0</td>\n",
       "    </tr>\n",
       "    <tr>\n",
       "      <th>metformin-rosiglitazone</th>\n",
       "      <td>0.0</td>\n",
       "    </tr>\n",
       "    <tr>\n",
       "      <th>metformin-pioglitazone</th>\n",
       "      <td>0.0</td>\n",
       "    </tr>\n",
       "    <tr>\n",
       "      <th>change</th>\n",
       "      <td>0.0</td>\n",
       "    </tr>\n",
       "    <tr>\n",
       "      <th>diabetesMed</th>\n",
       "      <td>0.0</td>\n",
       "    </tr>\n",
       "    <tr>\n",
       "      <th>nateglinide</th>\n",
       "      <td>0.0</td>\n",
       "    </tr>\n",
       "    <tr>\n",
       "      <th>repaglinide</th>\n",
       "      <td>0.0</td>\n",
       "    </tr>\n",
       "    <tr>\n",
       "      <th>metformin</th>\n",
       "      <td>0.0</td>\n",
       "    </tr>\n",
       "    <tr>\n",
       "      <th>A1Cresult</th>\n",
       "      <td>0.0</td>\n",
       "    </tr>\n",
       "    <tr>\n",
       "      <th>race</th>\n",
       "      <td>0.0</td>\n",
       "    </tr>\n",
       "    <tr>\n",
       "      <th>gender</th>\n",
       "      <td>0.0</td>\n",
       "    </tr>\n",
       "    <tr>\n",
       "      <th>age</th>\n",
       "      <td>0.0</td>\n",
       "    </tr>\n",
       "    <tr>\n",
       "      <th>weight</th>\n",
       "      <td>0.0</td>\n",
       "    </tr>\n",
       "    <tr>\n",
       "      <th>admission_type_id</th>\n",
       "      <td>0.0</td>\n",
       "    </tr>\n",
       "    <tr>\n",
       "      <th>discharge_disposition_id</th>\n",
       "      <td>0.0</td>\n",
       "    </tr>\n",
       "    <tr>\n",
       "      <th>admission_source_id</th>\n",
       "      <td>0.0</td>\n",
       "    </tr>\n",
       "    <tr>\n",
       "      <th>time_in_hospital</th>\n",
       "      <td>0.0</td>\n",
       "    </tr>\n",
       "    <tr>\n",
       "      <th>payer_code</th>\n",
       "      <td>0.0</td>\n",
       "    </tr>\n",
       "    <tr>\n",
       "      <th>medical_specialty</th>\n",
       "      <td>0.0</td>\n",
       "    </tr>\n",
       "    <tr>\n",
       "      <th>num_lab_procedures</th>\n",
       "      <td>0.0</td>\n",
       "    </tr>\n",
       "    <tr>\n",
       "      <th>num_procedures</th>\n",
       "      <td>0.0</td>\n",
       "    </tr>\n",
       "    <tr>\n",
       "      <th>num_medications</th>\n",
       "      <td>0.0</td>\n",
       "    </tr>\n",
       "    <tr>\n",
       "      <th>number_outpatient</th>\n",
       "      <td>0.0</td>\n",
       "    </tr>\n",
       "    <tr>\n",
       "      <th>number_emergency</th>\n",
       "      <td>0.0</td>\n",
       "    </tr>\n",
       "    <tr>\n",
       "      <th>number_inpatient</th>\n",
       "      <td>0.0</td>\n",
       "    </tr>\n",
       "    <tr>\n",
       "      <th>diag_1</th>\n",
       "      <td>0.0</td>\n",
       "    </tr>\n",
       "    <tr>\n",
       "      <th>diag_2</th>\n",
       "      <td>0.0</td>\n",
       "    </tr>\n",
       "    <tr>\n",
       "      <th>diag_3</th>\n",
       "      <td>0.0</td>\n",
       "    </tr>\n",
       "    <tr>\n",
       "      <th>number_diagnoses</th>\n",
       "      <td>0.0</td>\n",
       "    </tr>\n",
       "    <tr>\n",
       "      <th>max_glu_serum</th>\n",
       "      <td>0.0</td>\n",
       "    </tr>\n",
       "    <tr>\n",
       "      <th>readmitted</th>\n",
       "      <td>0.0</td>\n",
       "    </tr>\n",
       "  </tbody>\n",
       "</table>\n",
       "</div>"
      ],
      "text/plain": [
       "                          percentage of missing\n",
       "encounter_id                                0.0\n",
       "troglitazone                                0.0\n",
       "chlorpropamide                              0.0\n",
       "glimepiride                                 0.0\n",
       "acetohexamide                               0.0\n",
       "glipizide                                   0.0\n",
       "glyburide                                   0.0\n",
       "tolbutamide                                 0.0\n",
       "pioglitazone                                0.0\n",
       "rosiglitazone                               0.0\n",
       "acarbose                                    0.0\n",
       "miglitol                                    0.0\n",
       "tolazamide                                  0.0\n",
       "patient_nbr                                 0.0\n",
       "examide                                     0.0\n",
       "citoglipton                                 0.0\n",
       "insulin                                     0.0\n",
       "glyburide-metformin                         0.0\n",
       "glipizide-metformin                         0.0\n",
       "glimepiride-pioglitazone                    0.0\n",
       "metformin-rosiglitazone                     0.0\n",
       "metformin-pioglitazone                      0.0\n",
       "change                                      0.0\n",
       "diabetesMed                                 0.0\n",
       "nateglinide                                 0.0\n",
       "repaglinide                                 0.0\n",
       "metformin                                   0.0\n",
       "A1Cresult                                   0.0\n",
       "race                                        0.0\n",
       "gender                                      0.0\n",
       "age                                         0.0\n",
       "weight                                      0.0\n",
       "admission_type_id                           0.0\n",
       "discharge_disposition_id                    0.0\n",
       "admission_source_id                         0.0\n",
       "time_in_hospital                            0.0\n",
       "payer_code                                  0.0\n",
       "medical_specialty                           0.0\n",
       "num_lab_procedures                          0.0\n",
       "num_procedures                              0.0\n",
       "num_medications                             0.0\n",
       "number_outpatient                           0.0\n",
       "number_emergency                            0.0\n",
       "number_inpatient                            0.0\n",
       "diag_1                                      0.0\n",
       "diag_2                                      0.0\n",
       "diag_3                                      0.0\n",
       "number_diagnoses                            0.0\n",
       "max_glu_serum                               0.0\n",
       "readmitted                                  0.0"
      ]
     },
     "execution_count": 18,
     "metadata": {},
     "output_type": "execute_result"
    }
   ],
   "source": [
    "percenatge = []\n",
    "for i in df1.columns:\n",
    "    p = (df1[df1[i]=='?'].shape[0]/df1.shape[0])*100\n",
    "    percenatge.append(p)\n",
    "df_missing=pd.DataFrame(percenatge,index=df1.columns,columns=['percentage of missing']).sort_values(by='percentage of missing',ascending=False) \n",
    "df_missing"
   ]
  },
  {
   "cell_type": "code",
   "execution_count": 19,
   "metadata": {},
   "outputs": [],
   "source": [
    "#data visualisation #sri hari"
   ]
  },
  {
   "cell_type": "code",
   "execution_count": 20,
   "metadata": {},
   "outputs": [],
   "source": [
    "#numerical columns"
   ]
  },
  {
   "cell_type": "code",
   "execution_count": 21,
   "metadata": {},
   "outputs": [],
   "source": [
    "numerical_columns=['time_in_hospital', 'num_lab_procedures', 'num_procedures', 'num_medications',\n",
    "                    'number_outpatient', 'number_emergency', 'number_inpatient', 'number_diagnoses']"
   ]
  },
  {
   "cell_type": "code",
   "execution_count": 22,
   "metadata": {},
   "outputs": [],
   "source": [
    "def boxplot_for_outlier(df1,columns):\n",
    "    count = 0\n",
    "    fig, ax =plt.subplots(nrows=2,ncols=4, figsize=(16,8))\n",
    "    for i in range(2):\n",
    "        for j in range(4):\n",
    "            sns.boxplot(x = df1[columns[count]],ax=ax[i][j])  # palette = rocket, Wistia\n",
    "            count = count+1"
   ]
  },
  {
   "cell_type": "code",
   "execution_count": 23,
   "metadata": {},
   "outputs": [
    {
     "data": {
      "image/png": "[encoded data removed]",
      "text/plain": [
       "<Figure size 1152x576 with 8 Axes>"
      ]
     },
     "metadata": {
      "needs_background": "light"
     },
     "output_type": "display_data"
    }
   ],
   "source": [
    "boxplot_for_outlier(df,numerical_columns)"
   ]
  },
  {
   "cell_type": "code",
   "execution_count": 24,
   "metadata": {},
   "outputs": [],
   "source": [
    "#gender distribution"
   ]
  },
  {
   "cell_type": "code",
   "execution_count": 25,
   "metadata": {},
   "outputs": [
    {
     "data": {
      "image/png": "[encoded data removed]",
      "text/plain": [
       "<Figure size 432x288 with 1 Axes>"
      ]
     },
     "metadata": {
      "needs_background": "light"
     },
     "output_type": "display_data"
    }
   ],
   "source": [
    "sns.countplot(x=df1['gender'])\n",
    "plt.show()"
   ]
  },
  {
   "cell_type": "code",
   "execution_count": 26,
   "metadata": {},
   "outputs": [
    {
     "data": {
      "image/png": "[encoded data removed]",
      "text/plain": [
       "<Figure size 432x288 with 1 Axes>"
      ]
     },
     "metadata": {},
     "output_type": "display_data"
    }
   ],
   "source": [
    "df1['gender'].value_counts().plot.pie(autopct='%1.2f')\n",
    "plt.show()"
   ]
  },
  {
   "cell_type": "code",
   "execution_count": 27,
   "metadata": {},
   "outputs": [
    {
     "data": {
      "image/png": "[encoded data removed]",
      "text/plain": [
       "<Figure size 1728x576 with 3 Axes>"
      ]
     },
     "metadata": {
      "needs_background": "light"
     },
     "output_type": "display_data"
    }
   ],
   "source": [
    "visual_list=['gender','age','race']\n",
    "f,ax=plt.subplots(1,3,figsize=(24,8))\n",
    "count=0\n",
    "for i in visual_list:\n",
    "    sns.countplot(x=df1[i],hue=df1.readmitted,ax=ax[count])\n",
    "    count=count+1"
   ]
  },
  {
   "cell_type": "code",
   "execution_count": 28,
   "metadata": {},
   "outputs": [
    {
     "data": {
      "image/png": "[encoded data removed]",
      "text/plain": [
       "<Figure size 432x288 with 1 Axes>"
      ]
     },
     "metadata": {
      "needs_background": "light"
     },
     "output_type": "display_data"
    }
   ],
   "source": [
    "sns.countplot(x='insulin',hue='readmitted',data=df1)\n",
    "plt.show()"
   ]
  },
  {
   "cell_type": "code",
   "execution_count": 29,
   "metadata": {},
   "outputs": [
    {
     "data": {
      "image/png": "[encoded data removed]",
      "text/plain": [
       "<Figure size 432x288 with 1 Axes>"
      ]
     },
     "metadata": {
      "needs_background": "light"
     },
     "output_type": "display_data"
    }
   ],
   "source": [
    "sns.countplot(x='metformin',hue='readmitted',data=df1)\n",
    "plt.show()"
   ]
  },
  {
   "cell_type": "code",
   "execution_count": 30,
   "metadata": {},
   "outputs": [
    {
     "data": {
      "image/png": "[encoded data removed]",
      "text/plain": [
       "<Figure size 943.375x432 with 1 Axes>"
      ]
     },
     "metadata": {
      "needs_background": "light"
     },
     "output_type": "display_data"
    }
   ],
   "source": [
    "#age_list = list(df.age.unique())\n",
    "sns.catplot(x=\"insulin\", hue=\"age\", data=df1, kind=\"count\", height=6, aspect=2, palette=\"gnuplot\");"
   ]
  },
  {
   "cell_type": "code",
   "execution_count": 31,
   "metadata": {
    "executionInfo": {
     "elapsed": 859,
     "status": "ok",
     "timestamp": 1605715593136,
     "user": {
      "displayName": "Pragati Khedkar",
      "photoUrl": "",
      "userId": "03319733517214823277"
     },
     "user_tz": -330
    },
    "id": "oLrdcCVeFKCP"
   },
   "outputs": [],
   "source": [
    "#dropping cols with high number of missing values\n",
    "df1 = df1.drop(['payer_code','medical_specialty'],axis=1)"
   ]
  },
  {
   "cell_type": "code",
   "execution_count": 32,
   "metadata": {
    "executionInfo": {
     "elapsed": 1284,
     "status": "ok",
     "timestamp": 1605715597316,
     "user": {
      "displayName": "Pragati Khedkar",
      "photoUrl": "",
      "userId": "03319733517214823277"
     },
     "user_tz": -330
    },
    "id": "xZsV0-8eFKCP"
   },
   "outputs": [],
   "source": [
    "#Dropping admission_type_id', 'discharge_disposition_id', 'admission_source_id' :\n",
    "\n",
    "df1=df1.drop(['admission_type_id','discharge_disposition_id','admission_source_id'],axis=1) "
   ]
  },
  {
   "cell_type": "code",
   "execution_count": 33,
   "metadata": {
    "executionInfo": {
     "elapsed": 1015,
     "status": "ok",
     "timestamp": 1605715600397,
     "user": {
      "displayName": "Pragati Khedkar",
      "photoUrl": "",
      "userId": "03319733517214823277"
     },
     "user_tz": -330
    },
    "id": "EfNA2Po3FKCP"
   },
   "outputs": [],
   "source": [
    "df1 = df1.drop(['weight', ],axis=1)"
   ]
  },
  {
   "cell_type": "code",
   "execution_count": 34,
   "metadata": {
    "scrolled": true
   },
   "outputs": [],
   "source": [
    "df1 = df1.drop(['encounter_id','patient_nbr'],axis=1)"
   ]
  },
  {
   "cell_type": "code",
   "execution_count": 35,
   "metadata": {},
   "outputs": [
    {
     "data": {
      "image/png": "[encoded data removed]",
      "text/plain": [
       "<Figure size 864x576 with 2 Axes>"
      ]
     },
     "metadata": {
      "needs_background": "light"
     },
     "output_type": "display_data"
    }
   ],
   "source": [
    "plt.figure(figsize = (12,8))\n",
    "sns.heatmap(df1.corr(), annot =True, cmap='CMRmap')\n",
    "plt.show()"
   ]
  },
  {
   "cell_type": "code",
   "execution_count": 36,
   "metadata": {
    "colab": {
     "base_uri": "https://localhost:8080/"
    },
    "executionInfo": {
     "elapsed": 759,
     "status": "ok",
     "timestamp": 1605715598607,
     "user": {
      "displayName": "Pragati Khedkar",
      "photoUrl": "",
      "userId": "03319733517214823277"
     },
     "user_tz": -330
    },
    "id": "sSmi7fWDFKCP",
    "outputId": "11122d76-436a-4092-d1f1-2fc3b6f91a6c"
   },
   "outputs": [
    {
     "data": {
      "text/plain": [
       "(66221, 42)"
      ]
     },
     "execution_count": 36,
     "metadata": {},
     "output_type": "execute_result"
    }
   ],
   "source": [
    "df1.shape"
   ]
  },
  {
   "cell_type": "code",
   "execution_count": null,
   "metadata": {},
   "outputs": [],
   "source": []
  }
 ],
 "metadata": {
  "kernelspec": {
   "display_name": "Python 3",
   "language": "python",
   "name": "python3"
  },
  "language_info": {
   "codemirror_mode": {
    "name": "ipython",
    "version": 3
   },
   "file_extension": ".py",
   "mimetype": "text/x-python",
   "name": "python",
   "nbconvert_exporter": "python",
   "pygments_lexer": "ipython3",
   "version": "3.8.5"
  }
 },
 "nbformat": 4,
 "nbformat_minor": 4
}
