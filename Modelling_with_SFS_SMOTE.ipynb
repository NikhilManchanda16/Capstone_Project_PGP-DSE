{
 "cells": [
  {
   "cell_type": "code",
   "execution_count": 1,
   "metadata": {
    "executionInfo": {
     "elapsed": 3459,
     "status": "ok",
     "timestamp": 1605715168308,
     "user": {
      "displayName": "Pragati Khedkar",
      "photoUrl": "",
      "userId": "03319733517214823277"
     },
     "user_tz": -330
    },
    "id": "pua-kMlbFKCN"
   },
   "outputs": [],
   "source": [
    "# Importing requried librarires :\n",
    "\n",
    "import numpy as np\n",
    "import pandas as pd\n",
    "import matplotlib.pyplot as plt\n",
    "import seaborn as sns"
   ]
  },
  {
   "cell_type": "code",
   "execution_count": 2,
   "metadata": {
    "executionInfo": {
     "elapsed": 1048,
     "status": "ok",
     "timestamp": 1605715571177,
     "user": {
      "displayName": "Pragati Khedkar",
      "photoUrl": "",
      "userId": "03319733517214823277"
     },
     "user_tz": -330
    },
    "id": "3FpzJWPtFKCO"
   },
   "outputs": [],
   "source": [
    "# Loading the dataset :\n",
    "\n",
    "df=pd.read_csv('/home/shrihari/anaconda3/OG/Capstone/dataset_diabetes/diabetic_data.csv')"
   ]
  },
  {
   "cell_type": "code",
   "execution_count": 3,
   "metadata": {
    "colab": {
     "base_uri": "https://localhost:8080/",
     "height": 316
    },
    "executionInfo": {
     "elapsed": 882,
     "status": "ok",
     "timestamp": 1605715572681,
     "user": {
      "displayName": "Pragati Khedkar",
      "photoUrl": "",
      "userId": "03319733517214823277"
     },
     "user_tz": -330
    },
    "id": "k-NxjwnrFKCO",
    "outputId": "83c735af-ba5a-4b2e-d51d-7a647fce0b58"
   },
   "outputs": [
    {
     "data": {
      "text/html": [
       "<div>\n",
       "<style scoped>\n",
       "    .dataframe tbody tr th:only-of-type {\n",
       "        vertical-align: middle;\n",
       "    }\n",
       "\n",
       "    .dataframe tbody tr th {\n",
       "        vertical-align: top;\n",
       "    }\n",
       "\n",
       "    .dataframe thead th {\n",
       "        text-align: right;\n",
       "    }\n",
       "</style>\n",
       "<table border=\"1\" class=\"dataframe\">\n",
       "  <thead>\n",
       "    <tr style=\"text-align: right;\">\n",
       "      <th></th>\n",
       "      <th>encounter_id</th>\n",
       "      <th>patient_nbr</th>\n",
       "      <th>race</th>\n",
       "      <th>gender</th>\n",
       "      <th>age</th>\n",
       "      <th>weight</th>\n",
       "      <th>admission_type_id</th>\n",
       "      <th>discharge_disposition_id</th>\n",
       "      <th>admission_source_id</th>\n",
       "      <th>time_in_hospital</th>\n",
       "      <th>...</th>\n",
       "      <th>citoglipton</th>\n",
       "      <th>insulin</th>\n",
       "      <th>glyburide-metformin</th>\n",
       "      <th>glipizide-metformin</th>\n",
       "      <th>glimepiride-pioglitazone</th>\n",
       "      <th>metformin-rosiglitazone</th>\n",
       "      <th>metformin-pioglitazone</th>\n",
       "      <th>change</th>\n",
       "      <th>diabetesMed</th>\n",
       "      <th>readmitted</th>\n",
       "    </tr>\n",
       "  </thead>\n",
       "  <tbody>\n",
       "    <tr>\n",
       "      <td>0</td>\n",
       "      <td>2278392</td>\n",
       "      <td>8222157</td>\n",
       "      <td>Caucasian</td>\n",
       "      <td>Female</td>\n",
       "      <td>[0-10)</td>\n",
       "      <td>?</td>\n",
       "      <td>6</td>\n",
       "      <td>25</td>\n",
       "      <td>1</td>\n",
       "      <td>1</td>\n",
       "      <td>...</td>\n",
       "      <td>No</td>\n",
       "      <td>No</td>\n",
       "      <td>No</td>\n",
       "      <td>No</td>\n",
       "      <td>No</td>\n",
       "      <td>No</td>\n",
       "      <td>No</td>\n",
       "      <td>No</td>\n",
       "      <td>No</td>\n",
       "      <td>NO</td>\n",
       "    </tr>\n",
       "    <tr>\n",
       "      <td>1</td>\n",
       "      <td>149190</td>\n",
       "      <td>55629189</td>\n",
       "      <td>Caucasian</td>\n",
       "      <td>Female</td>\n",
       "      <td>[10-20)</td>\n",
       "      <td>?</td>\n",
       "      <td>1</td>\n",
       "      <td>1</td>\n",
       "      <td>7</td>\n",
       "      <td>3</td>\n",
       "      <td>...</td>\n",
       "      <td>No</td>\n",
       "      <td>Up</td>\n",
       "      <td>No</td>\n",
       "      <td>No</td>\n",
       "      <td>No</td>\n",
       "      <td>No</td>\n",
       "      <td>No</td>\n",
       "      <td>Ch</td>\n",
       "      <td>Yes</td>\n",
       "      <td>&gt;30</td>\n",
       "    </tr>\n",
       "    <tr>\n",
       "      <td>2</td>\n",
       "      <td>64410</td>\n",
       "      <td>86047875</td>\n",
       "      <td>AfricanAmerican</td>\n",
       "      <td>Female</td>\n",
       "      <td>[20-30)</td>\n",
       "      <td>?</td>\n",
       "      <td>1</td>\n",
       "      <td>1</td>\n",
       "      <td>7</td>\n",
       "      <td>2</td>\n",
       "      <td>...</td>\n",
       "      <td>No</td>\n",
       "      <td>No</td>\n",
       "      <td>No</td>\n",
       "      <td>No</td>\n",
       "      <td>No</td>\n",
       "      <td>No</td>\n",
       "      <td>No</td>\n",
       "      <td>No</td>\n",
       "      <td>Yes</td>\n",
       "      <td>NO</td>\n",
       "    </tr>\n",
       "    <tr>\n",
       "      <td>3</td>\n",
       "      <td>500364</td>\n",
       "      <td>82442376</td>\n",
       "      <td>Caucasian</td>\n",
       "      <td>Male</td>\n",
       "      <td>[30-40)</td>\n",
       "      <td>?</td>\n",
       "      <td>1</td>\n",
       "      <td>1</td>\n",
       "      <td>7</td>\n",
       "      <td>2</td>\n",
       "      <td>...</td>\n",
       "      <td>No</td>\n",
       "      <td>Up</td>\n",
       "      <td>No</td>\n",
       "      <td>No</td>\n",
       "      <td>No</td>\n",
       "      <td>No</td>\n",
       "      <td>No</td>\n",
       "      <td>Ch</td>\n",
       "      <td>Yes</td>\n",
       "      <td>NO</td>\n",
       "    </tr>\n",
       "    <tr>\n",
       "      <td>4</td>\n",
       "      <td>16680</td>\n",
       "      <td>42519267</td>\n",
       "      <td>Caucasian</td>\n",
       "      <td>Male</td>\n",
       "      <td>[40-50)</td>\n",
       "      <td>?</td>\n",
       "      <td>1</td>\n",
       "      <td>1</td>\n",
       "      <td>7</td>\n",
       "      <td>1</td>\n",
       "      <td>...</td>\n",
       "      <td>No</td>\n",
       "      <td>Steady</td>\n",
       "      <td>No</td>\n",
       "      <td>No</td>\n",
       "      <td>No</td>\n",
       "      <td>No</td>\n",
       "      <td>No</td>\n",
       "      <td>Ch</td>\n",
       "      <td>Yes</td>\n",
       "      <td>NO</td>\n",
       "    </tr>\n",
       "  </tbody>\n",
       "</table>\n",
       "<p>5 rows × 50 columns</p>\n",
       "</div>"
      ],
      "text/plain": [
       "   encounter_id  patient_nbr             race  gender      age weight  \\\n",
       "0       2278392      8222157        Caucasian  Female   [0-10)      ?   \n",
       "1        149190     55629189        Caucasian  Female  [10-20)      ?   \n",
       "2         64410     86047875  AfricanAmerican  Female  [20-30)      ?   \n",
       "3        500364     82442376        Caucasian    Male  [30-40)      ?   \n",
       "4         16680     42519267        Caucasian    Male  [40-50)      ?   \n",
       "\n",
       "   admission_type_id  discharge_disposition_id  admission_source_id  \\\n",
       "0                  6                        25                    1   \n",
       "1                  1                         1                    7   \n",
       "2                  1                         1                    7   \n",
       "3                  1                         1                    7   \n",
       "4                  1                         1                    7   \n",
       "\n",
       "   time_in_hospital  ... citoglipton insulin  glyburide-metformin  \\\n",
       "0                 1  ...          No      No                   No   \n",
       "1                 3  ...          No      Up                   No   \n",
       "2                 2  ...          No      No                   No   \n",
       "3                 2  ...          No      Up                   No   \n",
       "4                 1  ...          No  Steady                   No   \n",
       "\n",
       "   glipizide-metformin  glimepiride-pioglitazone  metformin-rosiglitazone  \\\n",
       "0                   No                        No                       No   \n",
       "1                   No                        No                       No   \n",
       "2                   No                        No                       No   \n",
       "3                   No                        No                       No   \n",
       "4                   No                        No                       No   \n",
       "\n",
       "   metformin-pioglitazone  change diabetesMed readmitted  \n",
       "0                      No      No          No         NO  \n",
       "1                      No      Ch         Yes        >30  \n",
       "2                      No      No         Yes         NO  \n",
       "3                      No      Ch         Yes         NO  \n",
       "4                      No      Ch         Yes         NO  \n",
       "\n",
       "[5 rows x 50 columns]"
      ]
     },
     "execution_count": 3,
     "metadata": {},
     "output_type": "execute_result"
    }
   ],
   "source": [
    "df.head()"
   ]
  },
  {
   "cell_type": "code",
   "execution_count": null,
   "metadata": {},
   "outputs": [],
   "source": []
  },
  {
   "cell_type": "code",
   "execution_count": 4,
   "metadata": {
    "colab": {
     "base_uri": "https://localhost:8080/"
    },
    "executionInfo": {
     "elapsed": 1175,
     "status": "ok",
     "timestamp": 1605715575077,
     "user": {
      "displayName": "Pragati Khedkar",
      "photoUrl": "",
      "userId": "03319733517214823277"
     },
     "user_tz": -330
    },
    "id": "vVRPz3O4FKCO",
    "outputId": "e3e5e960-b8f8-485d-a2fa-a0ad342c87ee"
   },
   "outputs": [
    {
     "data": {
      "text/plain": [
       "(101766, 50)"
      ]
     },
     "execution_count": 4,
     "metadata": {},
     "output_type": "execute_result"
    }
   ],
   "source": [
    "# Number of rows and columns :\n",
    "\n",
    "df.shape"
   ]
  },
  {
   "cell_type": "markdown",
   "metadata": {
    "id": "sPrAeLPJFKCO"
   },
   "source": [
    "# Dropping records for 'readmitted'= '>30'"
   ]
  },
  {
   "cell_type": "markdown",
   "metadata": {
    "id": "zANJ3wwCFKCO"
   },
   "source": [
    "#removing invalid/unknown entries for gender\n",
    "df=df[df['gender']!='Unknown/Invalid']\n",
    "#dropping rows with NAs.\n",
    "df.dropna(inplace=True)"
   ]
  },
  {
   "cell_type": "code",
   "execution_count": 5,
   "metadata": {
    "executionInfo": {
     "elapsed": 1045,
     "status": "ok",
     "timestamp": 1605715580035,
     "user": {
      "displayName": "Pragati Khedkar",
      "photoUrl": "",
      "userId": "03319733517214823277"
     },
     "user_tz": -330
    },
    "id": "NDFDmMU7FKCO"
   },
   "outputs": [],
   "source": [
    "#removing readmitted'= '>30' entries for df\n",
    "df=df[df['readmitted']!='>30']\n",
    "\n",
    "# dropping rows with NAs.\n",
    "#df.dropna(inplace=True)"
   ]
  },
  {
   "cell_type": "code",
   "execution_count": 6,
   "metadata": {
    "colab": {
     "base_uri": "https://localhost:8080/"
    },
    "executionInfo": {
     "elapsed": 793,
     "status": "ok",
     "timestamp": 1605715581313,
     "user": {
      "displayName": "Pragati Khedkar",
      "photoUrl": "",
      "userId": "03319733517214823277"
     },
     "user_tz": -330
    },
    "id": "v6-RLIK6FKCO",
    "outputId": "d48e2c1a-272e-4c96-ee9d-b4c9c944ba5e"
   },
   "outputs": [
    {
     "data": {
      "text/plain": [
       "(66221, 50)"
      ]
     },
     "execution_count": 6,
     "metadata": {},
     "output_type": "execute_result"
    }
   ],
   "source": [
    "df.shape"
   ]
  },
  {
   "cell_type": "code",
   "execution_count": 7,
   "metadata": {
    "colab": {
     "base_uri": "https://localhost:8080/"
    },
    "executionInfo": {
     "elapsed": 1218,
     "status": "ok",
     "timestamp": 1605715582986,
     "user": {
      "displayName": "Pragati Khedkar",
      "photoUrl": "",
      "userId": "03319733517214823277"
     },
     "user_tz": -330
    },
    "id": "12sj4DulFKCO",
    "outputId": "3d6d89f1-aeac-4acc-c34b-5bb972720de7"
   },
   "outputs": [
    {
     "name": "stdout",
     "output_type": "stream",
     "text": [
      "<class 'pandas.core.frame.DataFrame'>\n",
      "Int64Index: 66221 entries, 0 to 101765\n",
      "Data columns (total 50 columns):\n",
      "encounter_id                66221 non-null int64\n",
      "patient_nbr                 66221 non-null int64\n",
      "race                        66221 non-null object\n",
      "gender                      66221 non-null object\n",
      "age                         66221 non-null object\n",
      "weight                      66221 non-null object\n",
      "admission_type_id           66221 non-null int64\n",
      "discharge_disposition_id    66221 non-null int64\n",
      "admission_source_id         66221 non-null int64\n",
      "time_in_hospital            66221 non-null int64\n",
      "payer_code                  66221 non-null object\n",
      "medical_specialty           66221 non-null object\n",
      "num_lab_procedures          66221 non-null int64\n",
      "num_procedures              66221 non-null int64\n",
      "num_medications             66221 non-null int64\n",
      "number_outpatient           66221 non-null int64\n",
      "number_emergency            66221 non-null int64\n",
      "number_inpatient            66221 non-null int64\n",
      "diag_1                      66221 non-null object\n",
      "diag_2                      66221 non-null object\n",
      "diag_3                      66221 non-null object\n",
      "number_diagnoses            66221 non-null int64\n",
      "max_glu_serum               66221 non-null object\n",
      "A1Cresult                   66221 non-null object\n",
      "metformin                   66221 non-null object\n",
      "repaglinide                 66221 non-null object\n",
      "nateglinide                 66221 non-null object\n",
      "chlorpropamide              66221 non-null object\n",
      "glimepiride                 66221 non-null object\n",
      "acetohexamide               66221 non-null object\n",
      "glipizide                   66221 non-null object\n",
      "glyburide                   66221 non-null object\n",
      "tolbutamide                 66221 non-null object\n",
      "pioglitazone                66221 non-null object\n",
      "rosiglitazone               66221 non-null object\n",
      "acarbose                    66221 non-null object\n",
      "miglitol                    66221 non-null object\n",
      "troglitazone                66221 non-null object\n",
      "tolazamide                  66221 non-null object\n",
      "examide                     66221 non-null object\n",
      "citoglipton                 66221 non-null object\n",
      "insulin                     66221 non-null object\n",
      "glyburide-metformin         66221 non-null object\n",
      "glipizide-metformin         66221 non-null object\n",
      "glimepiride-pioglitazone    66221 non-null object\n",
      "metformin-rosiglitazone     66221 non-null object\n",
      "metformin-pioglitazone      66221 non-null object\n",
      "change                      66221 non-null object\n",
      "diabetesMed                 66221 non-null object\n",
      "readmitted                  66221 non-null object\n",
      "dtypes: int64(13), object(37)\n",
      "memory usage: 25.8+ MB\n"
     ]
    }
   ],
   "source": [
    "df.info()"
   ]
  },
  {
   "cell_type": "code",
   "execution_count": 8,
   "metadata": {
    "executionInfo": {
     "elapsed": 1074,
     "status": "ok",
     "timestamp": 1605715585468,
     "user": {
      "displayName": "Pragati Khedkar",
      "photoUrl": "",
      "userId": "03319733517214823277"
     },
     "user_tz": -330
    },
    "id": "53YrOLX1FKCO"
   },
   "outputs": [],
   "source": [
    "#pd.options.display.max_colwidth = None   # to view all the data"
   ]
  },
  {
   "cell_type": "markdown",
   "metadata": {
    "id": "GHWGRh3DFKCO"
   },
   "source": [
    "#replacing 0 with np.nan for all columns accept 'outcome'\n",
    "\n",
    "#df_ind=df[:]\n",
    "\n",
    "df.iloc[:,:-1]=df.iloc[:,:-1].replace({0:np.nan})"
   ]
  },
  {
   "cell_type": "markdown",
   "metadata": {
    "id": "xraH4zGcFKCO"
   },
   "source": [
    "# Missing value percentage calculation :"
   ]
  },
  {
   "cell_type": "code",
   "execution_count": 9,
   "metadata": {
    "colab": {
     "base_uri": "https://localhost:8080/",
     "height": 254
    },
    "executionInfo": {
     "elapsed": 1165,
     "status": "ok",
     "timestamp": 1605715589181,
     "user": {
      "displayName": "Pragati Khedkar",
      "photoUrl": "",
      "userId": "03319733517214823277"
     },
     "user_tz": -330
    },
    "id": "SKMkYY-QFKCO",
    "outputId": "45b56f7c-f92d-46bb-9dab-70916bb83e5e"
   },
   "outputs": [
    {
     "name": "stderr",
     "output_type": "stream",
     "text": [
      "/home/shrihari/anaconda3/lib/python3.7/site-packages/pandas/core/ops/__init__.py:1115: FutureWarning: elementwise comparison failed; returning scalar instead, but in the future will perform elementwise comparison\n",
      "  result = method(y)\n"
     ]
    },
    {
     "data": {
      "text/html": [
       "<div>\n",
       "<style scoped>\n",
       "    .dataframe tbody tr th:only-of-type {\n",
       "        vertical-align: middle;\n",
       "    }\n",
       "\n",
       "    .dataframe tbody tr th {\n",
       "        vertical-align: top;\n",
       "    }\n",
       "\n",
       "    .dataframe thead th {\n",
       "        text-align: right;\n",
       "    }\n",
       "</style>\n",
       "<table border=\"1\" class=\"dataframe\">\n",
       "  <thead>\n",
       "    <tr style=\"text-align: right;\">\n",
       "      <th></th>\n",
       "      <th>percentage of missing</th>\n",
       "    </tr>\n",
       "  </thead>\n",
       "  <tbody>\n",
       "    <tr>\n",
       "      <td>weight</td>\n",
       "      <td>97.452470</td>\n",
       "    </tr>\n",
       "    <tr>\n",
       "      <td>medical_specialty</td>\n",
       "      <td>47.919844</td>\n",
       "    </tr>\n",
       "    <tr>\n",
       "      <td>payer_code</td>\n",
       "      <td>39.908790</td>\n",
       "    </tr>\n",
       "    <tr>\n",
       "      <td>race</td>\n",
       "      <td>2.620015</td>\n",
       "    </tr>\n",
       "    <tr>\n",
       "      <td>diag_3</td>\n",
       "      <td>1.638453</td>\n",
       "    </tr>\n",
       "    <tr>\n",
       "      <td>diag_2</td>\n",
       "      <td>0.428867</td>\n",
       "    </tr>\n",
       "    <tr>\n",
       "      <td>diag_1</td>\n",
       "      <td>0.025672</td>\n",
       "    </tr>\n",
       "  </tbody>\n",
       "</table>\n",
       "</div>"
      ],
      "text/plain": [
       "                   percentage of missing\n",
       "weight                         97.452470\n",
       "medical_specialty              47.919844\n",
       "payer_code                     39.908790\n",
       "race                            2.620015\n",
       "diag_3                          1.638453\n",
       "diag_2                          0.428867\n",
       "diag_1                          0.025672"
      ]
     },
     "execution_count": 9,
     "metadata": {},
     "output_type": "execute_result"
    }
   ],
   "source": [
    "# checking missing value percentage:\n",
    "\n",
    "percenatge = []\n",
    "for i in df.columns:\n",
    "    p = (df[df[i]=='?'].shape[0]/df.shape[0])*100\n",
    "    percenatge.append(p)\n",
    "df_missing=pd.DataFrame(percenatge,index=df.columns,columns=['percentage of missing']).sort_values(by='percentage of missing',ascending=False) \n",
    "df_missing[df_missing['percentage of missing']>0]"
   ]
  },
  {
   "cell_type": "markdown",
   "metadata": {
    "id": "tBHzI4rGFKCO"
   },
   "source": [
    "# Dropping unwanted columns :"
   ]
  },
  {
   "cell_type": "code",
   "execution_count": 10,
   "metadata": {
    "executionInfo": {
     "elapsed": 1205,
     "status": "ok",
     "timestamp": 1605715592473,
     "user": {
      "displayName": "Pragati Khedkar",
      "photoUrl": "",
      "userId": "03319733517214823277"
     },
     "user_tz": -330
    },
    "id": "TNVvWRndFKCO"
   },
   "outputs": [],
   "source": [
    "# Since feature 'weight' as many missing values we can drop it  (we need to do general code to drop features which have more then 50% missing values)\n",
    "# And also 'encounter_id', 'patient_nbr' are not use for modeling \n",
    "# glipizide-metformin,glimepiride-pioglitazone,metformin-rosiglitazone,metformin-pioglitazone,examide,citoglipton have more single values \n",
    "# 'glipizide-metformin','glimepiride-pioglitazone','metformin-rosiglitazone','metformin-pioglitazone','examide','citoglipton'\n",
    "\n",
    "\n",
    "df = df.drop(['weight','encounter_id','patient_nbr'],axis=1)"
   ]
  },
  {
   "cell_type": "code",
   "execution_count": 11,
   "metadata": {
    "executionInfo": {
     "elapsed": 859,
     "status": "ok",
     "timestamp": 1605715593136,
     "user": {
      "displayName": "Pragati Khedkar",
      "photoUrl": "",
      "userId": "03319733517214823277"
     },
     "user_tz": -330
    },
    "id": "oLrdcCVeFKCP"
   },
   "outputs": [],
   "source": [
    "#dropping cols with high number of missing values\n",
    "df = df.drop(['payer_code','medical_specialty'],axis=1)"
   ]
  },
  {
   "cell_type": "code",
   "execution_count": 12,
   "metadata": {
    "colab": {
     "base_uri": "https://localhost:8080/"
    },
    "executionInfo": {
     "elapsed": 1026,
     "status": "ok",
     "timestamp": 1605715594725,
     "user": {
      "displayName": "Pragati Khedkar",
      "photoUrl": "",
      "userId": "03319733517214823277"
     },
     "user_tz": -330
    },
    "id": "IA5_n0sjFKCP",
    "outputId": "f8e1c79b-2b57-4884-ef1a-91ae4f2c36a5"
   },
   "outputs": [
    {
     "data": {
      "text/plain": [
       "(66221, 45)"
      ]
     },
     "execution_count": 12,
     "metadata": {},
     "output_type": "execute_result"
    }
   ],
   "source": [
    "df.shape"
   ]
  },
  {
   "cell_type": "code",
   "execution_count": 13,
   "metadata": {
    "executionInfo": {
     "elapsed": 1284,
     "status": "ok",
     "timestamp": 1605715597316,
     "user": {
      "displayName": "Pragati Khedkar",
      "photoUrl": "",
      "userId": "03319733517214823277"
     },
     "user_tz": -330
    },
    "id": "xZsV0-8eFKCP"
   },
   "outputs": [],
   "source": [
    "#Dropping admission_type_id', 'discharge_disposition_id', 'admission_source_id' :\n",
    "\n",
    "df=df.drop(['admission_type_id','discharge_disposition_id','admission_source_id'],axis=1) "
   ]
  },
  {
   "cell_type": "code",
   "execution_count": 14,
   "metadata": {
    "colab": {
     "base_uri": "https://localhost:8080/"
    },
    "executionInfo": {
     "elapsed": 759,
     "status": "ok",
     "timestamp": 1605715598607,
     "user": {
      "displayName": "Pragati Khedkar",
      "photoUrl": "",
      "userId": "03319733517214823277"
     },
     "user_tz": -330
    },
    "id": "sSmi7fWDFKCP",
    "outputId": "11122d76-436a-4092-d1f1-2fc3b6f91a6c"
   },
   "outputs": [
    {
     "data": {
      "text/plain": [
       "(66221, 42)"
      ]
     },
     "execution_count": 14,
     "metadata": {},
     "output_type": "execute_result"
    }
   ],
   "source": [
    "df.shape"
   ]
  },
  {
   "cell_type": "code",
   "execution_count": null,
   "metadata": {
    "executionInfo": {
     "elapsed": 1015,
     "status": "ok",
     "timestamp": 1605715600397,
     "user": {
      "displayName": "Pragati Khedkar",
      "photoUrl": "",
      "userId": "03319733517214823277"
     },
     "user_tz": -330
    },
    "id": "EfNA2Po3FKCP"
   },
   "outputs": [],
   "source": []
  },
  {
   "cell_type": "markdown",
   "metadata": {
    "id": "pL4KU_UOFKCP"
   },
   "source": [
    "# Assigning proper datatypes to all the columns:¶"
   ]
  },
  {
   "cell_type": "markdown",
   "metadata": {
    "id": "sPZvEj74FKCP"
   },
   "source": [
    "#Converting  admission_type_id, discharge_disposition_id, admission_source_id  into categorical columns :\n",
    "\n",
    "for i in ['admission_type_id','discharge_disposition_id','admission_source_id']:\n",
    "    df[i] = df[i].astype(np.object)"
   ]
  },
  {
   "cell_type": "markdown",
   "metadata": {
    "id": "WK5BGGQzFKCP"
   },
   "source": [
    "# Missing values imputation :"
   ]
  },
  {
   "cell_type": "code",
   "execution_count": 15,
   "metadata": {
    "executionInfo": {
     "elapsed": 1155,
     "status": "ok",
     "timestamp": 1605715605898,
     "user": {
      "displayName": "Pragati Khedkar",
      "photoUrl": "",
      "userId": "03319733517214823277"
     },
     "user_tz": -330
    },
    "id": "uRrSS57zFKCP"
   },
   "outputs": [],
   "source": [
    "# Replace '?' with 'NaN' :\n",
    "\n",
    "df.replace(['?'],np.nan,inplace=True)"
   ]
  },
  {
   "cell_type": "code",
   "execution_count": 16,
   "metadata": {
    "colab": {
     "base_uri": "https://localhost:8080/"
    },
    "executionInfo": {
     "elapsed": 1169,
     "status": "ok",
     "timestamp": 1605715607680,
     "user": {
      "displayName": "Pragati Khedkar",
      "photoUrl": "",
      "userId": "03319733517214823277"
     },
     "user_tz": -330
    },
    "id": "8wl_A-GGFKCP",
    "outputId": "83893eeb-31dc-4ca5-dfba-fe805d402544"
   },
   "outputs": [
    {
     "data": {
      "text/plain": [
       "Female    35193\n",
       "Male      31028\n",
       "Name: gender, dtype: int64"
      ]
     },
     "execution_count": 16,
     "metadata": {},
     "output_type": "execute_result"
    }
   ],
   "source": [
    "# 1). gender : Replacing 'Unknown/Invalid' with mode of gender, because only 3 values are missing/unkown :\n",
    "\n",
    "df.replace(['Unknown/Invalid'],df['gender'].mode()[0],inplace=True)\n",
    "df['gender'].value_counts()"
   ]
  },
  {
   "cell_type": "code",
   "execution_count": 17,
   "metadata": {
    "executionInfo": {
     "elapsed": 1419,
     "status": "ok",
     "timestamp": 1605715609867,
     "user": {
      "displayName": "Pragati Khedkar",
      "photoUrl": "",
      "userId": "03319733517214823277"
     },
     "user_tz": -330
    },
    "id": "WL6ELsTfFKCP"
   },
   "outputs": [],
   "source": [
    "# 4). race (replacing NAN with 'Unknown' for EDA )\n",
    "df['race'].fillna(value='Unknown',inplace=True)"
   ]
  },
  {
   "cell_type": "code",
   "execution_count": 18,
   "metadata": {
    "executionInfo": {
     "elapsed": 1031,
     "status": "ok",
     "timestamp": 1605715611358,
     "user": {
      "displayName": "Pragati Khedkar",
      "photoUrl": "",
      "userId": "03319733517214823277"
     },
     "user_tz": -330
    },
    "id": "7holL6EmFKCP"
   },
   "outputs": [],
   "source": [
    "#5)# 5). diag_1 : 21 missing values (i,e ... 0.02%, so impute with mode)\n",
    "df['diag_1'] = df['diag_1'].fillna(df['diag_1'].mode()[0])\n"
   ]
  },
  {
   "cell_type": "code",
   "execution_count": 19,
   "metadata": {
    "executionInfo": {
     "elapsed": 1109,
     "status": "ok",
     "timestamp": 1605715614531,
     "user": {
      "displayName": "Pragati Khedkar",
      "photoUrl": "",
      "userId": "03319733517214823277"
     },
     "user_tz": -330
    },
    "id": "ik0IBloiFKCP"
   },
   "outputs": [],
   "source": [
    "# 6). diag_2 : 0.35% of missing values, so impute with mode \n",
    "df['diag_2'] = df['diag_2'].fillna(df['diag_2'].mode()[0])"
   ]
  },
  {
   "cell_type": "code",
   "execution_count": 20,
   "metadata": {
    "executionInfo": {
     "elapsed": 1405,
     "status": "ok",
     "timestamp": 1605715618216,
     "user": {
      "displayName": "Pragati Khedkar",
      "photoUrl": "",
      "userId": "03319733517214823277"
     },
     "user_tz": -330
    },
    "id": "dQz4F4OBFKCP"
   },
   "outputs": [],
   "source": [
    "# 7). diag_3 : 1.3% of missing values, so impute with mode \n",
    "df['diag_3'] = df['diag_3'].fillna(df['diag_3'].mode()[0])"
   ]
  },
  {
   "cell_type": "code",
   "execution_count": 21,
   "metadata": {
    "colab": {
     "base_uri": "https://localhost:8080/"
    },
    "executionInfo": {
     "elapsed": 1146,
     "status": "ok",
     "timestamp": 1605715621301,
     "user": {
      "displayName": "Pragati Khedkar",
      "photoUrl": "",
      "userId": "03319733517214823277"
     },
     "user_tz": -330
    },
    "id": "B9ogF2bOFKCP",
    "outputId": "2d6d975d-6d93-48d2-c880-d42d1001da19"
   },
   "outputs": [
    {
     "data": {
      "text/plain": [
       "race                        0\n",
       "gender                      0\n",
       "age                         0\n",
       "time_in_hospital            0\n",
       "num_lab_procedures          0\n",
       "num_procedures              0\n",
       "num_medications             0\n",
       "number_outpatient           0\n",
       "number_emergency            0\n",
       "number_inpatient            0\n",
       "diag_1                      0\n",
       "diag_2                      0\n",
       "diag_3                      0\n",
       "number_diagnoses            0\n",
       "max_glu_serum               0\n",
       "A1Cresult                   0\n",
       "metformin                   0\n",
       "repaglinide                 0\n",
       "nateglinide                 0\n",
       "chlorpropamide              0\n",
       "glimepiride                 0\n",
       "acetohexamide               0\n",
       "glipizide                   0\n",
       "glyburide                   0\n",
       "tolbutamide                 0\n",
       "pioglitazone                0\n",
       "rosiglitazone               0\n",
       "acarbose                    0\n",
       "miglitol                    0\n",
       "troglitazone                0\n",
       "tolazamide                  0\n",
       "examide                     0\n",
       "citoglipton                 0\n",
       "insulin                     0\n",
       "glyburide-metformin         0\n",
       "glipizide-metformin         0\n",
       "glimepiride-pioglitazone    0\n",
       "metformin-rosiglitazone     0\n",
       "metformin-pioglitazone      0\n",
       "change                      0\n",
       "diabetesMed                 0\n",
       "readmitted                  0\n",
       "dtype: int64"
      ]
     },
     "execution_count": 21,
     "metadata": {},
     "output_type": "execute_result"
    }
   ],
   "source": [
    "#checking missing values overall:\n",
    "\n",
    "df.isnull().sum()"
   ]
  },
  {
   "cell_type": "markdown",
   "metadata": {
    "id": "ZUVPgnKIFKCP"
   },
   "source": [
    "# Converting Columns diag_1,diag_2,diag_3 to respective labels:"
   ]
  },
  {
   "cell_type": "code",
   "execution_count": 22,
   "metadata": {
    "executionInfo": {
     "elapsed": 1038,
     "status": "ok",
     "timestamp": 1605715627491,
     "user": {
      "displayName": "Pragati Khedkar",
      "photoUrl": "",
      "userId": "03319733517214823277"
     },
     "user_tz": -330
    },
    "id": "OzDXmFBhFKCP"
   },
   "outputs": [],
   "source": [
    "db1=df.copy()"
   ]
  },
  {
   "cell_type": "code",
   "execution_count": 23,
   "metadata": {
    "executionInfo": {
     "elapsed": 29247,
     "status": "ok",
     "timestamp": 1605715657869,
     "user": {
      "displayName": "Pragati Khedkar",
      "photoUrl": "",
      "userId": "03319733517214823277"
     },
     "user_tz": -330
    },
    "id": "20qf5w7NFKCP"
   },
   "outputs": [],
   "source": [
    "for i in db1['diag_1']:\n",
    "    if i[:3]=='250':\n",
    "        db1['diag_1'].replace({i:'Diabetes'},inplace=True)\n",
    "    elif len(i)==3 and i[0] in ['8','9']:\n",
    "        db1['diag_1'].replace({i:'Injury'},inplace=True)\n",
    "    elif i[:2]=='71' or i[:2]=='72' or i[:2]=='73':\n",
    "        db1['diag_1'].replace({i:'Musculoskeletal'},inplace=True)\n",
    "    elif (i[:2] in['39','40','41','42','43','44','45'] and len(i)==3) or i=='785':\n",
    "        db1['diag_1'].replace({i:'Circulatory'},inplace=True)\n",
    "    elif (i[:2] in['46','47','48','49','50','51'] and len(i)==3) or i=='786':\n",
    "        db1['diag_1'].replace({i:'Respiratory'},inplace=True)\n",
    "    elif (i[:2] in['52','53','54','55','56','57'] and len(i)==3) or i=='787':\n",
    "        db1['diag_1'].replace({i:'Digestive'},inplace=True)\n",
    "    elif (i[:2] in['58','59','60','61','62'] and len(i)==3) or i=='788':\n",
    "        db1['diag_1'].replace({i:'Genitourinary'},inplace=True)\n",
    "    elif (i[:2] in['14','15','16','17','18','19','20','21','22','23','24','25','26','27'] and len(i)==3) or i=='780':\n",
    "        db1['diag_1'].replace({i:'Neoplasms'},inplace=True)\n",
    "    elif (i[:2] in['68','69','70','79','10','11','12','13'] and len(i)==3) or i in ['781','784','782']:\n",
    "        db1['diag_1'].replace({i:'Neoplasms'},inplace=True)\n",
    "    elif len(i) in [1,2]:\n",
    "        db1['diag_1'].replace({i:'Neoplasms'},inplace=True)\n",
    "    elif len(i)<=5:\n",
    "        db1['diag_1'].replace({i:'Other'},inplace=True)"
   ]
  },
  {
   "cell_type": "code",
   "execution_count": 24,
   "metadata": {
    "colab": {
     "base_uri": "https://localhost:8080/"
    },
    "executionInfo": {
     "elapsed": 27221,
     "status": "ok",
     "timestamp": 1605715657871,
     "user": {
      "displayName": "Pragati Khedkar",
      "photoUrl": "",
      "userId": "03319733517214823277"
     },
     "user_tz": -330
    },
    "id": "lMcmS2LTFKCP",
    "outputId": "35955ed2-38ee-40f5-89d0-3f8ea8045bd7",
    "scrolled": true
   },
   "outputs": [
    {
     "data": {
      "text/plain": [
       "Circulatory        19615\n",
       "Neoplasms           9511\n",
       "Respiratory         8891\n",
       "Digestive           6111\n",
       "Diabetes            5439\n",
       "Other               5030\n",
       "Injury              4737\n",
       "Musculoskeletal     3486\n",
       "Genitourinary       3401\n",
       "Name: diag_1, dtype: int64"
      ]
     },
     "execution_count": 24,
     "metadata": {},
     "output_type": "execute_result"
    }
   ],
   "source": [
    "db1['diag_1'].value_counts()"
   ]
  },
  {
   "cell_type": "code",
   "execution_count": 25,
   "metadata": {
    "executionInfo": {
     "elapsed": 1121,
     "status": "ok",
     "timestamp": 1605715663718,
     "user": {
      "displayName": "Pragati Khedkar",
      "photoUrl": "",
      "userId": "03319733517214823277"
     },
     "user_tz": -330
    },
    "id": "6oMFhNFCFKCP"
   },
   "outputs": [],
   "source": [
    "df['diag_1']=db1['diag_1'] \n",
    "\n",
    "#made db1 to avoid making changes in main db, thn assignin back the changes made to main db"
   ]
  },
  {
   "cell_type": "code",
   "execution_count": 26,
   "metadata": {
    "executionInfo": {
     "elapsed": 39358,
     "status": "ok",
     "timestamp": 1605715709979,
     "user": {
      "displayName": "Pragati Khedkar",
      "photoUrl": "",
      "userId": "03319733517214823277"
     },
     "user_tz": -330
    },
    "id": "NBFxP0gaFKCP"
   },
   "outputs": [],
   "source": [
    "for i in db1['diag_2']:\n",
    "    if i[:3]=='250':\n",
    "        db1['diag_2'].replace({i:'Diabetes'},inplace=True)\n",
    "    elif len(i)==3 and i[0] in ['8','9']:\n",
    "        db1['diag_2'].replace({i:'Injury'},inplace=True)\n",
    "    elif i[:2]=='71' or i[:2]=='72' or i[:2]=='73':\n",
    "        db1['diag_2'].replace({i:'Musculoskeletal'},inplace=True)\n",
    "    elif (i[:2] in['39','40','41','42','43','44','45'] and len(i)==3) or i=='785':\n",
    "        db1['diag_2'].replace({i:'Circulatory'},inplace=True)\n",
    "    elif (i[:2] in['46','47','48','49','50','51'] and len(i)==3) or i=='786':\n",
    "        db1['diag_2'].replace({i:'Respiratory'},inplace=True)\n",
    "    elif (i[:2] in['52','53','54','55','56','57'] and len(i)==3) or i=='787':\n",
    "        db1['diag_2'].replace({i:'Digestive'},inplace=True)\n",
    "    elif (i[:2] in['58','59','60','61','62'] and len(i)==3) or i=='788':\n",
    "        db1['diag_2'].replace({i:'Genitourinary'},inplace=True)\n",
    "    elif (i[:2] in['14','15','16','17','18','19','20','21','22','23','24','25','26','27'] and len(i)==3) or i=='780':\n",
    "        db1['diag_2'].replace({i:'Neoplasms'},inplace=True)\n",
    "    elif (i[:2] in['68','69','70','79','10','11','12','13'] and len(i)==3) or i in ['781','784','782']:\n",
    "        db1['diag_2'].replace({i:'Neoplasms'},inplace=True)\n",
    "    elif len(i) in [1,2]:\n",
    "        db1['diag_2'].replace({i:'Neoplasms'},inplace=True)\n",
    "    elif len(i)<=5:\n",
    "        db1['diag_2'].replace({i:'Other'},inplace=True)"
   ]
  },
  {
   "cell_type": "code",
   "execution_count": 27,
   "metadata": {
    "colab": {
     "base_uri": "https://localhost:8080/"
    },
    "executionInfo": {
     "elapsed": 1060,
     "status": "ok",
     "timestamp": 1605715718096,
     "user": {
      "displayName": "Pragati Khedkar",
      "photoUrl": "",
      "userId": "03319733517214823277"
     },
     "user_tz": -330
    },
    "id": "f4WvhPEiFKCP",
    "outputId": "8d4b8337-8733-42ea-b123-c3f89f534e50",
    "scrolled": true
   },
   "outputs": [
    {
     "data": {
      "text/plain": [
       "Circulatory        20246\n",
       "Neoplasms          12223\n",
       "Diabetes            8881\n",
       "Other               6993\n",
       "Respiratory         6832\n",
       "Genitourinary       5349\n",
       "Digestive           2775\n",
       "Injury              1753\n",
       "Musculoskeletal     1169\n",
       "Name: diag_2, dtype: int64"
      ]
     },
     "execution_count": 27,
     "metadata": {},
     "output_type": "execute_result"
    }
   ],
   "source": [
    "db1['diag_2'].value_counts()"
   ]
  },
  {
   "cell_type": "code",
   "execution_count": 28,
   "metadata": {
    "executionInfo": {
     "elapsed": 1047,
     "status": "ok",
     "timestamp": 1605715721849,
     "user": {
      "displayName": "Pragati Khedkar",
      "photoUrl": "",
      "userId": "03319733517214823277"
     },
     "user_tz": -330
    },
    "id": "_Ac0ozAFFKCP"
   },
   "outputs": [],
   "source": [
    "df['diag_2']=db1['diag_2'] \n",
    "\n",
    "#made db1 to avoid making changes in main db, thn assignin back the changes made to main db"
   ]
  },
  {
   "cell_type": "code",
   "execution_count": 29,
   "metadata": {
    "executionInfo": {
     "elapsed": 49170,
     "status": "ok",
     "timestamp": 1605715777490,
     "user": {
      "displayName": "Pragati Khedkar",
      "photoUrl": "",
      "userId": "03319733517214823277"
     },
     "user_tz": -330
    },
    "id": "dspK_M7pFKCP"
   },
   "outputs": [],
   "source": [
    "for i in db1['diag_3']:\n",
    "    if i[:3]=='250':\n",
    "        db1['diag_3'].replace({i:'Diabetes'},inplace=True)\n",
    "    elif len(i)==3 and i[0] in ['8','9']:\n",
    "        db1['diag_3'].replace({i:'Injury'},inplace=True)\n",
    "    elif i[:2]=='71' or i[:2]=='72' or i[:2]=='73':\n",
    "        db1['diag_3'].replace({i:'Musculoskeletal'},inplace=True)\n",
    "    elif (i[:2] in['39','40','41','42','43','44','45'] and len(i)==3) or i=='785':\n",
    "        db1['diag_3'].replace({i:'Circulatory'},inplace=True)\n",
    "    elif (i[:2] in['46','47','48','49','50','51'] and len(i)==3) or i=='786':\n",
    "        db1['diag_3'].replace({i:'Respiratory'},inplace=True)\n",
    "    elif (i[:2] in['52','53','54','55','56','57'] and len(i)==3) or i=='787':\n",
    "        db1['diag_3'].replace({i:'Digestive'},inplace=True)\n",
    "    elif (i[:2] in['58','59','60','61','62'] and len(i)==3) or i=='788':\n",
    "        db1['diag_3'].replace({i:'Genitourinary'},inplace=True)\n",
    "    elif (i[:2] in['14','15','16','17','18','19','20','21','22','23','24','25','26','27'] and len(i)==3) or i=='780':\n",
    "        db1['diag_3'].replace({i:'Neoplasms'},inplace=True)\n",
    "    elif (i[:2] in['68','69','70','79','10','11','12','13'] and len(i)==3) or i in ['781','784','782']:\n",
    "        db1['diag_3'].replace({i:'Neoplasms'},inplace=True)\n",
    "    elif len(i) in [1,2]:\n",
    "        db1['diag_3'].replace({i:'Neoplasms'},inplace=True)\n",
    "    elif len(i)<=5:\n",
    "        db1['diag_3'].replace({i:'Other'},inplace=True)"
   ]
  },
  {
   "cell_type": "code",
   "execution_count": 30,
   "metadata": {
    "colab": {
     "base_uri": "https://localhost:8080/"
    },
    "executionInfo": {
     "elapsed": 1256,
     "status": "ok",
     "timestamp": 1605715781245,
     "user": {
      "displayName": "Pragati Khedkar",
      "photoUrl": "",
      "userId": "03319733517214823277"
     },
     "user_tz": -330
    },
    "id": "GN1002WmFKCP",
    "outputId": "25a761ea-7fb3-403a-f7fe-04c71b9f7c3d",
    "scrolled": true
   },
   "outputs": [
    {
     "data": {
      "text/plain": [
       "Circulatory        19312\n",
       "Diabetes           12420\n",
       "Neoplasms          11844\n",
       "Other               8686\n",
       "Respiratory         4627\n",
       "Genitourinary       4178\n",
       "Digestive           2512\n",
       "Injury              1373\n",
       "Musculoskeletal     1268\n",
       "365.44                 1\n",
       "Name: diag_3, dtype: int64"
      ]
     },
     "execution_count": 30,
     "metadata": {},
     "output_type": "execute_result"
    }
   ],
   "source": [
    "db1['diag_3'].value_counts()"
   ]
  },
  {
   "cell_type": "code",
   "execution_count": 31,
   "metadata": {
    "executionInfo": {
     "elapsed": 1037,
     "status": "ok",
     "timestamp": 1605715782847,
     "user": {
      "displayName": "Pragati Khedkar",
      "photoUrl": "",
      "userId": "03319733517214823277"
     },
     "user_tz": -330
    },
    "id": "8uyH_KjqFKCP"
   },
   "outputs": [],
   "source": [
    "df['diag_3']=db1['diag_3'] \n",
    "\n",
    "#made db1 to avoid making changes in main db, thn assignin back the changes made to main db"
   ]
  },
  {
   "cell_type": "code",
   "execution_count": 32,
   "metadata": {
    "colab": {
     "base_uri": "https://localhost:8080/"
    },
    "executionInfo": {
     "elapsed": 1321,
     "status": "ok",
     "timestamp": 1605715785006,
     "user": {
      "displayName": "Pragati Khedkar",
      "photoUrl": "",
      "userId": "03319733517214823277"
     },
     "user_tz": -330
    },
    "id": "K1D_Wj_WFKCP",
    "outputId": "20762f60-4290-42af-8bae-2b329e862044"
   },
   "outputs": [
    {
     "data": {
      "text/plain": [
       "(66221, 42)"
      ]
     },
     "execution_count": 32,
     "metadata": {},
     "output_type": "execute_result"
    }
   ],
   "source": [
    "df.shape"
   ]
  },
  {
   "cell_type": "code",
   "execution_count": 33,
   "metadata": {
    "colab": {
     "base_uri": "https://localhost:8080/"
    },
    "executionInfo": {
     "elapsed": 1285,
     "status": "ok",
     "timestamp": 1605715786722,
     "user": {
      "displayName": "Pragati Khedkar",
      "photoUrl": "",
      "userId": "03319733517214823277"
     },
     "user_tz": -330
    },
    "id": "TMWWPQ_XFKCP",
    "outputId": "bc1e87dc-0cb3-423f-8b8f-e54671d532d6"
   },
   "outputs": [
    {
     "data": {
      "text/plain": [
       "0    63659\n",
       "1     2506\n",
       "2       55\n",
       "3        1\n",
       "Name: numchange, dtype: int64"
      ]
     },
     "execution_count": 33,
     "metadata": {},
     "output_type": "execute_result"
    }
   ],
   "source": [
    "#Madhu's code for medication col merge\n",
    "\n",
    "#apart from metamorphin,insulin all medications should be merged\n",
    "\n",
    "keys = ['repaglinide', 'nateglinide', 'chlorpropamide', 'glimepiride', 'glipizide', 'glyburide', 'pioglitazone', 'rosiglitazone', 'acarbose', 'miglitol', 'glyburide-metformin', 'tolazamide', 'metformin-pioglitazone','metformin-rosiglitazone', 'glimepiride-pioglitazone', 'glipizide-metformin', 'troglitazone', 'tolbutamide', 'acetohexamide']\n",
    "for col in keys:\n",
    "    colname = str(col) + 'temp'\n",
    "    df[colname] = df[col].apply(lambda x: 0 if (x == 'No' or x == 'Steady') else 1)\n",
    "df['numchange'] = 0\n",
    "for col in keys:\n",
    "    colname = str(col) + 'temp'\n",
    "    df['numchange'] = df['numchange'] + df[colname]\n",
    "    del df[colname]\n",
    "    \n",
    "df['numchange'].value_counts()"
   ]
  },
  {
   "cell_type": "code",
   "execution_count": 34,
   "metadata": {
    "colab": {
     "base_uri": "https://localhost:8080/"
    },
    "executionInfo": {
     "elapsed": 1004,
     "status": "ok",
     "timestamp": 1605715789180,
     "user": {
      "displayName": "Pragati Khedkar",
      "photoUrl": "",
      "userId": "03319733517214823277"
     },
     "user_tz": -330
    },
    "id": "C9MyVfGsFKCP",
    "outputId": "e38c1b96-a9f6-4acc-9678-61f1f35367fc"
   },
   "outputs": [
    {
     "data": {
      "text/plain": [
       "(66221, 24)"
      ]
     },
     "execution_count": 34,
     "metadata": {},
     "output_type": "execute_result"
    }
   ],
   "source": [
    "#Dropping the medication cols that are merged.(19 columns)\n",
    "df_merged=df.drop(keys,axis=1)\n",
    "df_merged.shape"
   ]
  },
  {
   "cell_type": "code",
   "execution_count": 35,
   "metadata": {
    "colab": {
     "base_uri": "https://localhost:8080/"
    },
    "executionInfo": {
     "elapsed": 796,
     "status": "ok",
     "timestamp": 1605715790697,
     "user": {
      "displayName": "Pragati Khedkar",
      "photoUrl": "",
      "userId": "03319733517214823277"
     },
     "user_tz": -330
    },
    "id": "MQLLOhb6FKCQ",
    "outputId": "362b2d3f-a513-475b-9923-79df55df23a7"
   },
   "outputs": [
    {
     "data": {
      "text/plain": [
       "Index(['race', 'gender', 'age', 'time_in_hospital', 'num_lab_procedures',\n",
       "       'num_procedures', 'num_medications', 'number_outpatient',\n",
       "       'number_emergency', 'number_inpatient', 'diag_1', 'diag_2', 'diag_3',\n",
       "       'number_diagnoses', 'max_glu_serum', 'A1Cresult', 'metformin',\n",
       "       'examide', 'citoglipton', 'insulin', 'change', 'diabetesMed',\n",
       "       'readmitted', 'numchange'],\n",
       "      dtype='object')"
      ]
     },
     "execution_count": 35,
     "metadata": {},
     "output_type": "execute_result"
    }
   ],
   "source": [
    "df_merged.columns"
   ]
  },
  {
   "cell_type": "code",
   "execution_count": 36,
   "metadata": {
    "colab": {
     "base_uri": "https://localhost:8080/",
     "height": 299
    },
    "executionInfo": {
     "elapsed": 1163,
     "status": "ok",
     "timestamp": 1605715793420,
     "user": {
      "displayName": "Pragati Khedkar",
      "photoUrl": "",
      "userId": "03319733517214823277"
     },
     "user_tz": -330
    },
    "id": "qGkECUesFKCQ",
    "outputId": "10083a11-2c16-48bf-bde4-565ac04ab320"
   },
   "outputs": [
    {
     "data": {
      "text/html": [
       "<div>\n",
       "<style scoped>\n",
       "    .dataframe tbody tr th:only-of-type {\n",
       "        vertical-align: middle;\n",
       "    }\n",
       "\n",
       "    .dataframe tbody tr th {\n",
       "        vertical-align: top;\n",
       "    }\n",
       "\n",
       "    .dataframe thead th {\n",
       "        text-align: right;\n",
       "    }\n",
       "</style>\n",
       "<table border=\"1\" class=\"dataframe\">\n",
       "  <thead>\n",
       "    <tr style=\"text-align: right;\">\n",
       "      <th></th>\n",
       "      <th>race</th>\n",
       "      <th>gender</th>\n",
       "      <th>age</th>\n",
       "      <th>time_in_hospital</th>\n",
       "      <th>num_lab_procedures</th>\n",
       "      <th>num_procedures</th>\n",
       "      <th>num_medications</th>\n",
       "      <th>number_outpatient</th>\n",
       "      <th>number_emergency</th>\n",
       "      <th>number_inpatient</th>\n",
       "      <th>...</th>\n",
       "      <th>max_glu_serum</th>\n",
       "      <th>A1Cresult</th>\n",
       "      <th>metformin</th>\n",
       "      <th>examide</th>\n",
       "      <th>citoglipton</th>\n",
       "      <th>insulin</th>\n",
       "      <th>change</th>\n",
       "      <th>diabetesMed</th>\n",
       "      <th>readmitted</th>\n",
       "      <th>numchange</th>\n",
       "    </tr>\n",
       "  </thead>\n",
       "  <tbody>\n",
       "    <tr>\n",
       "      <td>0</td>\n",
       "      <td>Caucasian</td>\n",
       "      <td>Female</td>\n",
       "      <td>[0-10)</td>\n",
       "      <td>1</td>\n",
       "      <td>41</td>\n",
       "      <td>0</td>\n",
       "      <td>1</td>\n",
       "      <td>0</td>\n",
       "      <td>0</td>\n",
       "      <td>0</td>\n",
       "      <td>...</td>\n",
       "      <td>None</td>\n",
       "      <td>None</td>\n",
       "      <td>No</td>\n",
       "      <td>No</td>\n",
       "      <td>No</td>\n",
       "      <td>No</td>\n",
       "      <td>No</td>\n",
       "      <td>No</td>\n",
       "      <td>NO</td>\n",
       "      <td>0</td>\n",
       "    </tr>\n",
       "    <tr>\n",
       "      <td>2</td>\n",
       "      <td>AfricanAmerican</td>\n",
       "      <td>Female</td>\n",
       "      <td>[20-30)</td>\n",
       "      <td>2</td>\n",
       "      <td>11</td>\n",
       "      <td>5</td>\n",
       "      <td>13</td>\n",
       "      <td>2</td>\n",
       "      <td>0</td>\n",
       "      <td>1</td>\n",
       "      <td>...</td>\n",
       "      <td>None</td>\n",
       "      <td>None</td>\n",
       "      <td>No</td>\n",
       "      <td>No</td>\n",
       "      <td>No</td>\n",
       "      <td>No</td>\n",
       "      <td>No</td>\n",
       "      <td>Yes</td>\n",
       "      <td>NO</td>\n",
       "      <td>0</td>\n",
       "    </tr>\n",
       "    <tr>\n",
       "      <td>3</td>\n",
       "      <td>Caucasian</td>\n",
       "      <td>Male</td>\n",
       "      <td>[30-40)</td>\n",
       "      <td>2</td>\n",
       "      <td>44</td>\n",
       "      <td>1</td>\n",
       "      <td>16</td>\n",
       "      <td>0</td>\n",
       "      <td>0</td>\n",
       "      <td>0</td>\n",
       "      <td>...</td>\n",
       "      <td>None</td>\n",
       "      <td>None</td>\n",
       "      <td>No</td>\n",
       "      <td>No</td>\n",
       "      <td>No</td>\n",
       "      <td>Up</td>\n",
       "      <td>Ch</td>\n",
       "      <td>Yes</td>\n",
       "      <td>NO</td>\n",
       "      <td>0</td>\n",
       "    </tr>\n",
       "    <tr>\n",
       "      <td>4</td>\n",
       "      <td>Caucasian</td>\n",
       "      <td>Male</td>\n",
       "      <td>[40-50)</td>\n",
       "      <td>1</td>\n",
       "      <td>51</td>\n",
       "      <td>0</td>\n",
       "      <td>8</td>\n",
       "      <td>0</td>\n",
       "      <td>0</td>\n",
       "      <td>0</td>\n",
       "      <td>...</td>\n",
       "      <td>None</td>\n",
       "      <td>None</td>\n",
       "      <td>No</td>\n",
       "      <td>No</td>\n",
       "      <td>No</td>\n",
       "      <td>Steady</td>\n",
       "      <td>Ch</td>\n",
       "      <td>Yes</td>\n",
       "      <td>NO</td>\n",
       "      <td>0</td>\n",
       "    </tr>\n",
       "    <tr>\n",
       "      <td>6</td>\n",
       "      <td>Caucasian</td>\n",
       "      <td>Male</td>\n",
       "      <td>[60-70)</td>\n",
       "      <td>4</td>\n",
       "      <td>70</td>\n",
       "      <td>1</td>\n",
       "      <td>21</td>\n",
       "      <td>0</td>\n",
       "      <td>0</td>\n",
       "      <td>0</td>\n",
       "      <td>...</td>\n",
       "      <td>None</td>\n",
       "      <td>None</td>\n",
       "      <td>Steady</td>\n",
       "      <td>No</td>\n",
       "      <td>No</td>\n",
       "      <td>Steady</td>\n",
       "      <td>Ch</td>\n",
       "      <td>Yes</td>\n",
       "      <td>NO</td>\n",
       "      <td>0</td>\n",
       "    </tr>\n",
       "  </tbody>\n",
       "</table>\n",
       "<p>5 rows × 24 columns</p>\n",
       "</div>"
      ],
      "text/plain": [
       "              race  gender      age  time_in_hospital  num_lab_procedures  \\\n",
       "0        Caucasian  Female   [0-10)                 1                  41   \n",
       "2  AfricanAmerican  Female  [20-30)                 2                  11   \n",
       "3        Caucasian    Male  [30-40)                 2                  44   \n",
       "4        Caucasian    Male  [40-50)                 1                  51   \n",
       "6        Caucasian    Male  [60-70)                 4                  70   \n",
       "\n",
       "   num_procedures  num_medications  number_outpatient  number_emergency  \\\n",
       "0               0                1                  0                 0   \n",
       "2               5               13                  2                 0   \n",
       "3               1               16                  0                 0   \n",
       "4               0                8                  0                 0   \n",
       "6               1               21                  0                 0   \n",
       "\n",
       "   number_inpatient  ... max_glu_serum A1Cresult metformin  examide  \\\n",
       "0                 0  ...          None      None        No       No   \n",
       "2                 1  ...          None      None        No       No   \n",
       "3                 0  ...          None      None        No       No   \n",
       "4                 0  ...          None      None        No       No   \n",
       "6                 0  ...          None      None    Steady       No   \n",
       "\n",
       "  citoglipton insulin change diabetesMed readmitted numchange  \n",
       "0          No      No     No          No         NO         0  \n",
       "2          No      No     No         Yes         NO         0  \n",
       "3          No      Up     Ch         Yes         NO         0  \n",
       "4          No  Steady     Ch         Yes         NO         0  \n",
       "6          No  Steady     Ch         Yes         NO         0  \n",
       "\n",
       "[5 rows x 24 columns]"
      ]
     },
     "execution_count": 36,
     "metadata": {},
     "output_type": "execute_result"
    }
   ],
   "source": [
    "df_merged.head()"
   ]
  },
  {
   "cell_type": "code",
   "execution_count": 37,
   "metadata": {
    "executionInfo": {
     "elapsed": 1497,
     "status": "ok",
     "timestamp": 1605715796289,
     "user": {
      "displayName": "Pragati Khedkar",
      "photoUrl": "",
      "userId": "03319733517214823277"
     },
     "user_tz": -330
    },
    "id": "PIcyqX59FKCQ"
   },
   "outputs": [],
   "source": [
    "#Col:'change': any change is there in medication or not\n",
    "#Col:'numchange': number of medications that are changed"
   ]
  },
  {
   "cell_type": "code",
   "execution_count": 38,
   "metadata": {
    "executionInfo": {
     "elapsed": 1127,
     "status": "ok",
     "timestamp": 1605715856846,
     "user": {
      "displayName": "Pragati Khedkar",
      "photoUrl": "",
      "userId": "03319733517214823277"
     },
     "user_tz": -330
    },
    "id": "qG4btKOwFKCQ"
   },
   "outputs": [],
   "source": [
    "#Converting 'numchange' from int to object as it is categorical data:\n",
    "\n",
    "df_merged['numchange']=df_merged['numchange'].astype('object')"
   ]
  },
  {
   "cell_type": "code",
   "execution_count": 39,
   "metadata": {},
   "outputs": [
    {
     "data": {
      "image/png": "[encoded data removed]",
      "text/plain": [
       "<Figure size 432x288 with 2 Axes>"
      ]
     },
     "metadata": {
      "needs_background": "light"
     },
     "output_type": "display_data"
    }
   ],
   "source": [
    "sns.heatmap(df_merged.corr(),annot=True)\n",
    "plt.show()"
   ]
  },
  {
   "cell_type": "markdown",
   "metadata": {},
   "source": [
    "# Determining X and y"
   ]
  },
  {
   "cell_type": "code",
   "execution_count": 40,
   "metadata": {},
   "outputs": [],
   "source": [
    "X=df_merged.drop('readmitted',axis=1)\n",
    "y=df_merged['readmitted']\n",
    "\n",
    "#X_num=X.select_dtypes(include=np.number)\n",
    "#X_cat=X.select_dtypes(include=np.object)\n",
    "\n",
    "#print('Numeric Columns:',X_num.columns)\n",
    "#print('Categorical Columns:',X_cat.columns)\n",
    "#print(X_num.shape,X_cat.shape)"
   ]
  },
  {
   "cell_type": "code",
   "execution_count": 41,
   "metadata": {},
   "outputs": [],
   "source": [
    "# use 'get_dummies' from pandas to create dummy variables\n",
    "# use 'drop_first' to create (n-1) dummy variables\n",
    "#dummy_var = pd.get_dummies(data = X, drop_first = True)\n",
    "\n",
    "from sklearn.preprocessing import LabelEncoder\n",
    "lb=LabelEncoder()\n",
    "\n",
    "for i in X.columns.astype('object'):\n",
    "    X[i] = lb.fit_transform(X[i])"
   ]
  },
  {
   "cell_type": "code",
   "execution_count": null,
   "metadata": {},
   "outputs": [],
   "source": []
  },
  {
   "cell_type": "code",
   "execution_count": null,
   "metadata": {},
   "outputs": [],
   "source": []
  },
  {
   "cell_type": "code",
   "execution_count": 42,
   "metadata": {
    "executionInfo": {
     "elapsed": 1142,
     "status": "ok",
     "timestamp": 1605715941948,
     "user": {
      "displayName": "Pragati Khedkar",
      "photoUrl": "",
      "userId": "03319733517214823277"
     },
     "user_tz": -330
    },
    "id": "77Hy-3IHIFil"
   },
   "outputs": [],
   "source": [
    "#now scale X:\n",
    "from sklearn.preprocessing import StandardScaler\n",
    "sc=StandardScaler()\n",
    "\n",
    "# scale all the numeric variables\n",
    "# standardize all the columns of the dataframe 'df_num'\n",
    "#num_scaled =sc.fit_transform(dummy_var)\n",
    "\n",
    "# create a dataframe of scaled numerical variables\n",
    "# pass the required column names to the parameter 'columns'\n",
    "#X = pd.DataFrame(num_scaled, columns = dummy_var.columns)"
   ]
  },
  {
   "cell_type": "code",
   "execution_count": 43,
   "metadata": {
    "colab": {
     "base_uri": "https://localhost:8080/",
     "height": 232
    },
    "executionInfo": {
     "elapsed": 1434,
     "status": "ok",
     "timestamp": 1605715944396,
     "user": {
      "displayName": "Pragati Khedkar",
      "photoUrl": "",
      "userId": "03319733517214823277"
     },
     "user_tz": -330
    },
    "id": "I8RlCGZcIKb-",
    "outputId": "f7d7b97b-870e-440f-e1d0-44e1a4b7e70d"
   },
   "outputs": [
    {
     "data": {
      "text/html": [
       "<div>\n",
       "<style scoped>\n",
       "    .dataframe tbody tr th:only-of-type {\n",
       "        vertical-align: middle;\n",
       "    }\n",
       "\n",
       "    .dataframe tbody tr th {\n",
       "        vertical-align: top;\n",
       "    }\n",
       "\n",
       "    .dataframe thead th {\n",
       "        text-align: right;\n",
       "    }\n",
       "</style>\n",
       "<table border=\"1\" class=\"dataframe\">\n",
       "  <thead>\n",
       "    <tr style=\"text-align: right;\">\n",
       "      <th></th>\n",
       "      <th>race</th>\n",
       "      <th>gender</th>\n",
       "      <th>age</th>\n",
       "      <th>time_in_hospital</th>\n",
       "      <th>num_lab_procedures</th>\n",
       "      <th>num_procedures</th>\n",
       "      <th>num_medications</th>\n",
       "      <th>number_outpatient</th>\n",
       "      <th>number_emergency</th>\n",
       "      <th>number_inpatient</th>\n",
       "      <th>...</th>\n",
       "      <th>number_diagnoses</th>\n",
       "      <th>max_glu_serum</th>\n",
       "      <th>A1Cresult</th>\n",
       "      <th>metformin</th>\n",
       "      <th>examide</th>\n",
       "      <th>citoglipton</th>\n",
       "      <th>insulin</th>\n",
       "      <th>change</th>\n",
       "      <th>diabetesMed</th>\n",
       "      <th>numchange</th>\n",
       "    </tr>\n",
       "  </thead>\n",
       "  <tbody>\n",
       "    <tr>\n",
       "      <td>0</td>\n",
       "      <td>2</td>\n",
       "      <td>0</td>\n",
       "      <td>0</td>\n",
       "      <td>0</td>\n",
       "      <td>40</td>\n",
       "      <td>0</td>\n",
       "      <td>0</td>\n",
       "      <td>0</td>\n",
       "      <td>0</td>\n",
       "      <td>0</td>\n",
       "      <td>...</td>\n",
       "      <td>0</td>\n",
       "      <td>2</td>\n",
       "      <td>2</td>\n",
       "      <td>1</td>\n",
       "      <td>0</td>\n",
       "      <td>0</td>\n",
       "      <td>1</td>\n",
       "      <td>1</td>\n",
       "      <td>0</td>\n",
       "      <td>0</td>\n",
       "    </tr>\n",
       "    <tr>\n",
       "      <td>2</td>\n",
       "      <td>0</td>\n",
       "      <td>0</td>\n",
       "      <td>2</td>\n",
       "      <td>1</td>\n",
       "      <td>10</td>\n",
       "      <td>5</td>\n",
       "      <td>12</td>\n",
       "      <td>2</td>\n",
       "      <td>0</td>\n",
       "      <td>1</td>\n",
       "      <td>...</td>\n",
       "      <td>5</td>\n",
       "      <td>2</td>\n",
       "      <td>2</td>\n",
       "      <td>1</td>\n",
       "      <td>0</td>\n",
       "      <td>0</td>\n",
       "      <td>1</td>\n",
       "      <td>1</td>\n",
       "      <td>1</td>\n",
       "      <td>0</td>\n",
       "    </tr>\n",
       "    <tr>\n",
       "      <td>3</td>\n",
       "      <td>2</td>\n",
       "      <td>1</td>\n",
       "      <td>3</td>\n",
       "      <td>1</td>\n",
       "      <td>43</td>\n",
       "      <td>1</td>\n",
       "      <td>15</td>\n",
       "      <td>0</td>\n",
       "      <td>0</td>\n",
       "      <td>0</td>\n",
       "      <td>...</td>\n",
       "      <td>6</td>\n",
       "      <td>2</td>\n",
       "      <td>2</td>\n",
       "      <td>1</td>\n",
       "      <td>0</td>\n",
       "      <td>0</td>\n",
       "      <td>3</td>\n",
       "      <td>0</td>\n",
       "      <td>1</td>\n",
       "      <td>0</td>\n",
       "    </tr>\n",
       "    <tr>\n",
       "      <td>4</td>\n",
       "      <td>2</td>\n",
       "      <td>1</td>\n",
       "      <td>4</td>\n",
       "      <td>0</td>\n",
       "      <td>50</td>\n",
       "      <td>0</td>\n",
       "      <td>7</td>\n",
       "      <td>0</td>\n",
       "      <td>0</td>\n",
       "      <td>0</td>\n",
       "      <td>...</td>\n",
       "      <td>4</td>\n",
       "      <td>2</td>\n",
       "      <td>2</td>\n",
       "      <td>1</td>\n",
       "      <td>0</td>\n",
       "      <td>0</td>\n",
       "      <td>2</td>\n",
       "      <td>0</td>\n",
       "      <td>1</td>\n",
       "      <td>0</td>\n",
       "    </tr>\n",
       "    <tr>\n",
       "      <td>6</td>\n",
       "      <td>2</td>\n",
       "      <td>1</td>\n",
       "      <td>6</td>\n",
       "      <td>3</td>\n",
       "      <td>69</td>\n",
       "      <td>1</td>\n",
       "      <td>20</td>\n",
       "      <td>0</td>\n",
       "      <td>0</td>\n",
       "      <td>0</td>\n",
       "      <td>...</td>\n",
       "      <td>6</td>\n",
       "      <td>2</td>\n",
       "      <td>2</td>\n",
       "      <td>2</td>\n",
       "      <td>0</td>\n",
       "      <td>0</td>\n",
       "      <td>2</td>\n",
       "      <td>0</td>\n",
       "      <td>1</td>\n",
       "      <td>0</td>\n",
       "    </tr>\n",
       "  </tbody>\n",
       "</table>\n",
       "<p>5 rows × 23 columns</p>\n",
       "</div>"
      ],
      "text/plain": [
       "   race  gender  age  time_in_hospital  num_lab_procedures  num_procedures  \\\n",
       "0     2       0    0                 0                  40               0   \n",
       "2     0       0    2                 1                  10               5   \n",
       "3     2       1    3                 1                  43               1   \n",
       "4     2       1    4                 0                  50               0   \n",
       "6     2       1    6                 3                  69               1   \n",
       "\n",
       "   num_medications  number_outpatient  number_emergency  number_inpatient  \\\n",
       "0                0                  0                 0                 0   \n",
       "2               12                  2                 0                 1   \n",
       "3               15                  0                 0                 0   \n",
       "4                7                  0                 0                 0   \n",
       "6               20                  0                 0                 0   \n",
       "\n",
       "   ...  number_diagnoses  max_glu_serum  A1Cresult  metformin  examide  \\\n",
       "0  ...                 0              2          2          1        0   \n",
       "2  ...                 5              2          2          1        0   \n",
       "3  ...                 6              2          2          1        0   \n",
       "4  ...                 4              2          2          1        0   \n",
       "6  ...                 6              2          2          2        0   \n",
       "\n",
       "   citoglipton  insulin  change  diabetesMed  numchange  \n",
       "0            0        1       1            0          0  \n",
       "2            0        1       1            1          0  \n",
       "3            0        3       0            1          0  \n",
       "4            0        2       0            1          0  \n",
       "6            0        2       0            1          0  \n",
       "\n",
       "[5 rows x 23 columns]"
      ]
     },
     "execution_count": 43,
     "metadata": {},
     "output_type": "execute_result"
    }
   ],
   "source": [
    "X.head()"
   ]
  },
  {
   "cell_type": "code",
   "execution_count": 44,
   "metadata": {},
   "outputs": [
    {
     "data": {
      "text/plain": [
       "race                  int64\n",
       "gender                int64\n",
       "age                   int64\n",
       "time_in_hospital      int64\n",
       "num_lab_procedures    int64\n",
       "num_procedures        int64\n",
       "num_medications       int64\n",
       "number_outpatient     int64\n",
       "number_emergency      int64\n",
       "number_inpatient      int64\n",
       "diag_1                int64\n",
       "diag_2                int64\n",
       "diag_3                int64\n",
       "number_diagnoses      int64\n",
       "max_glu_serum         int64\n",
       "A1Cresult             int64\n",
       "metformin             int64\n",
       "examide               int64\n",
       "citoglipton           int64\n",
       "insulin               int64\n",
       "change                int64\n",
       "diabetesMed           int64\n",
       "numchange             int64\n",
       "dtype: object"
      ]
     },
     "execution_count": 44,
     "metadata": {},
     "output_type": "execute_result"
    }
   ],
   "source": [
    "X.dtypes"
   ]
  },
  {
   "cell_type": "markdown",
   "metadata": {
    "id": "mDj5A81wFKCQ"
   },
   "source": [
    "# Encoding 'y'"
   ]
  },
  {
   "cell_type": "code",
   "execution_count": 45,
   "metadata": {
    "colab": {
     "base_uri": "https://localhost:8080/"
    },
    "executionInfo": {
     "elapsed": 1099,
     "status": "ok",
     "timestamp": 1605715948877,
     "user": {
      "displayName": "Pragati Khedkar",
      "photoUrl": "",
      "userId": "03319733517214823277"
     },
     "user_tz": -330
    },
    "id": "6g1DsU6NFKCQ",
    "outputId": "13d5635e-9719-4e6f-98f8-ef7e420e8658"
   },
   "outputs": [
    {
     "data": {
      "text/plain": [
       "NO     54864\n",
       "<30    11357\n",
       "Name: readmitted, dtype: int64"
      ]
     },
     "execution_count": 45,
     "metadata": {},
     "output_type": "execute_result"
    }
   ],
   "source": [
    "y.value_counts()"
   ]
  },
  {
   "cell_type": "code",
   "execution_count": 46,
   "metadata": {
    "executionInfo": {
     "elapsed": 818,
     "status": "ok",
     "timestamp": 1605715950433,
     "user": {
      "displayName": "Pragati Khedkar",
      "photoUrl": "",
      "userId": "03319733517214823277"
     },
     "user_tz": -330
    },
    "id": "quwzsZAmFKCQ"
   },
   "outputs": [],
   "source": [
    "#y=y.replace({'NO':0,'<30':1,'>30':2})\n",
    "y=y.replace({'NO':0,'<30':1})"
   ]
  },
  {
   "cell_type": "code",
   "execution_count": 47,
   "metadata": {
    "colab": {
     "base_uri": "https://localhost:8080/"
    },
    "executionInfo": {
     "elapsed": 698,
     "status": "ok",
     "timestamp": 1605715951713,
     "user": {
      "displayName": "Pragati Khedkar",
      "photoUrl": "",
      "userId": "03319733517214823277"
     },
     "user_tz": -330
    },
    "id": "-XFjL5eTFKCQ",
    "outputId": "3c320c14-018f-49c7-c6cf-61acea92049f"
   },
   "outputs": [
    {
     "data": {
      "text/plain": [
       "0    54864\n",
       "1    11357\n",
       "Name: readmitted, dtype: int64"
      ]
     },
     "execution_count": 47,
     "metadata": {},
     "output_type": "execute_result"
    }
   ],
   "source": [
    "y.value_counts()"
   ]
  },
  {
   "cell_type": "code",
   "execution_count": 48,
   "metadata": {
    "colab": {
     "base_uri": "https://localhost:8080/"
    },
    "executionInfo": {
     "elapsed": 1097,
     "status": "ok",
     "timestamp": 1605715953688,
     "user": {
      "displayName": "Pragati Khedkar",
      "photoUrl": "",
      "userId": "03319733517214823277"
     },
     "user_tz": -330
    },
    "id": "5EWcmY0DFKCQ",
    "outputId": "28adb869-72d2-43e8-de08-0123f519235b"
   },
   "outputs": [
    {
     "data": {
      "text/plain": [
       "((66221, 23), (66221,))"
      ]
     },
     "execution_count": 48,
     "metadata": {},
     "output_type": "execute_result"
    }
   ],
   "source": [
    "X.shape,y.shape"
   ]
  },
  {
   "cell_type": "code",
   "execution_count": 49,
   "metadata": {
    "executionInfo": {
     "elapsed": 1078,
     "status": "ok",
     "timestamp": 1605715962161,
     "user": {
      "displayName": "Pragati Khedkar",
      "photoUrl": "",
      "userId": "03319733517214823277"
     },
     "user_tz": -330
    },
    "id": "60-t-jLhFKCQ"
   },
   "outputs": [],
   "source": [
    "from sklearn.model_selection import train_test_split"
   ]
  },
  {
   "cell_type": "markdown",
   "metadata": {},
   "source": [
    "# Feature selection  (SFS) :"
   ]
  },
  {
   "cell_type": "code",
   "execution_count": 50,
   "metadata": {},
   "outputs": [],
   "source": [
    "from sklearn.ensemble import RandomForestClassifier\n",
    "from mlxtend.feature_selection import SequentialFeatureSelector as sfs\n",
    "from sklearn.model_selection import GridSearchCV,KFold\n"
   ]
  },
  {
   "cell_type": "code",
   "execution_count": 51,
   "metadata": {
    "scrolled": true
   },
   "outputs": [
    {
     "name": "stderr",
     "output_type": "stream",
     "text": [
      "[Parallel(n_jobs=1)]: Using backend SequentialBackend with 1 concurrent workers.\n",
      "[Parallel(n_jobs=1)]: Done   1 out of   1 | elapsed:    2.8s remaining:    0.0s\n",
      "[Parallel(n_jobs=1)]: Done   2 out of   2 | elapsed:    5.4s remaining:    0.0s\n",
      "[Parallel(n_jobs=1)]: Done  23 out of  23 | elapsed:  1.2min finished\n",
      "\n",
      "[2020-11-30 09:37:24] Features: 1/23 -- score: -0.16448707936396093[Parallel(n_jobs=1)]: Using backend SequentialBackend with 1 concurrent workers.\n",
      "[Parallel(n_jobs=1)]: Done   1 out of   1 | elapsed:    3.3s remaining:    0.0s\n",
      "[Parallel(n_jobs=1)]: Done   2 out of   2 | elapsed:    6.5s remaining:    0.0s\n",
      "[Parallel(n_jobs=1)]: Done  22 out of  22 | elapsed:  1.3min finished\n",
      "\n",
      "[2020-11-30 09:38:43] Features: 2/23 -- score: -0.16247314840590876[Parallel(n_jobs=1)]: Using backend SequentialBackend with 1 concurrent workers.\n",
      "[Parallel(n_jobs=1)]: Done   1 out of   1 | elapsed:    4.6s remaining:    0.0s\n",
      "[Parallel(n_jobs=1)]: Done   2 out of   2 | elapsed:    9.0s remaining:    0.0s\n",
      "[Parallel(n_jobs=1)]: Done  21 out of  21 | elapsed:  1.7min finished\n",
      "\n",
      "[2020-11-30 09:40:27] Features: 3/23 -- score: -0.16162164381452407[Parallel(n_jobs=1)]: Using backend SequentialBackend with 1 concurrent workers.\n",
      "[Parallel(n_jobs=1)]: Done   1 out of   1 | elapsed:    5.0s remaining:    0.0s\n",
      "[Parallel(n_jobs=1)]: Done   2 out of   2 | elapsed:    9.7s remaining:    0.0s\n",
      "[Parallel(n_jobs=1)]: Done  20 out of  20 | elapsed:  1.9min finished\n",
      "\n",
      "[2020-11-30 09:42:18] Features: 4/23 -- score: -0.16215012565432882[Parallel(n_jobs=1)]: Using backend SequentialBackend with 1 concurrent workers.\n",
      "[Parallel(n_jobs=1)]: Done   1 out of   1 | elapsed:    5.8s remaining:    0.0s\n",
      "[Parallel(n_jobs=1)]: Done   2 out of   2 | elapsed:   11.3s remaining:    0.0s\n",
      "[Parallel(n_jobs=1)]: Done  19 out of  19 | elapsed:  2.0min finished\n",
      "\n",
      "[2020-11-30 09:44:17] Features: 5/23 -- score: -0.1637456040605377[Parallel(n_jobs=1)]: Using backend SequentialBackend with 1 concurrent workers.\n",
      "[Parallel(n_jobs=1)]: Done   1 out of   1 | elapsed:    5.9s remaining:    0.0s\n",
      "[Parallel(n_jobs=1)]: Done   2 out of   2 | elapsed:   11.7s remaining:    0.0s\n",
      "[Parallel(n_jobs=1)]: Done  18 out of  18 | elapsed:  1.9min finished\n",
      "\n",
      "[2020-11-30 09:46:11] Features: 6/23 -- score: -0.16491328070994574[Parallel(n_jobs=1)]: Using backend SequentialBackend with 1 concurrent workers.\n",
      "[Parallel(n_jobs=1)]: Done   1 out of   1 | elapsed:    6.6s remaining:    0.0s\n",
      "[Parallel(n_jobs=1)]: Done   2 out of   2 | elapsed:   12.6s remaining:    0.0s\n",
      "[Parallel(n_jobs=1)]: Done  17 out of  17 | elapsed:  2.0min finished\n",
      "\n",
      "[2020-11-30 09:48:12] Features: 7/23 -- score: -0.1679936224477422[Parallel(n_jobs=1)]: Using backend SequentialBackend with 1 concurrent workers.\n",
      "[Parallel(n_jobs=1)]: Done   1 out of   1 | elapsed:    6.9s remaining:    0.0s\n",
      "[Parallel(n_jobs=1)]: Done   2 out of   2 | elapsed:   13.6s remaining:    0.0s\n",
      "[Parallel(n_jobs=1)]: Done  16 out of  16 | elapsed:  2.0min finished\n",
      "\n",
      "[2020-11-30 09:50:14] Features: 8/23 -- score: -0.1699080534181062[Parallel(n_jobs=1)]: Using backend SequentialBackend with 1 concurrent workers.\n",
      "[Parallel(n_jobs=1)]: Done   1 out of   1 | elapsed:    8.6s remaining:    0.0s\n",
      "[Parallel(n_jobs=1)]: Done   2 out of   2 | elapsed:   16.5s remaining:    0.0s\n",
      "[Parallel(n_jobs=1)]: Done  15 out of  15 | elapsed:  2.3min finished\n",
      "\n",
      "[2020-11-30 09:52:33] Features: 9/23 -- score: -0.17671396197865472[Parallel(n_jobs=1)]: Using backend SequentialBackend with 1 concurrent workers.\n",
      "[Parallel(n_jobs=1)]: Done   1 out of   1 | elapsed:    9.0s remaining:    0.0s\n",
      "[Parallel(n_jobs=1)]: Done   2 out of   2 | elapsed:   17.4s remaining:    0.0s\n",
      "[Parallel(n_jobs=1)]: Done  14 out of  14 | elapsed:  2.2min finished\n",
      "\n",
      "[2020-11-30 09:54:47] Features: 10/23 -- score: -0.18521262231003144[Parallel(n_jobs=1)]: Using backend SequentialBackend with 1 concurrent workers.\n",
      "[Parallel(n_jobs=1)]: Done   1 out of   1 | elapsed:    9.2s remaining:    0.0s\n",
      "[Parallel(n_jobs=1)]: Done   2 out of   2 | elapsed:   18.0s remaining:    0.0s\n",
      "[Parallel(n_jobs=1)]: Done  13 out of  13 | elapsed:  2.2min finished\n",
      "\n",
      "[2020-11-30 09:57:01] Features: 11/23 -- score: -0.19998598632560446[Parallel(n_jobs=1)]: Using backend SequentialBackend with 1 concurrent workers.\n",
      "[Parallel(n_jobs=1)]: Done   1 out of   1 | elapsed:    9.7s remaining:    0.0s\n",
      "[Parallel(n_jobs=1)]: Done   2 out of   2 | elapsed:   21.2s remaining:    0.0s\n",
      "[Parallel(n_jobs=1)]: Done  12 out of  12 | elapsed:  2.2min finished\n",
      "\n",
      "[2020-11-30 09:59:12] Features: 12/23 -- score: -0.20965148425979088[Parallel(n_jobs=1)]: Using backend SequentialBackend with 1 concurrent workers.\n",
      "[Parallel(n_jobs=1)]: Done   1 out of   1 | elapsed:   10.7s remaining:    0.0s\n",
      "[Parallel(n_jobs=1)]: Done   2 out of   2 | elapsed:   22.7s remaining:    0.0s\n",
      "[Parallel(n_jobs=1)]: Done  11 out of  11 | elapsed:  2.2min finished\n",
      "\n",
      "[2020-11-30 10:01:21] Features: 13/23 -- score: -0.22899971486363083[Parallel(n_jobs=1)]: Using backend SequentialBackend with 1 concurrent workers.\n",
      "[Parallel(n_jobs=1)]: Done   1 out of   1 | elapsed:   13.2s remaining:    0.0s\n",
      "[Parallel(n_jobs=1)]: Done   2 out of   2 | elapsed:   28.6s remaining:    0.0s\n",
      "[Parallel(n_jobs=1)]: Done  10 out of  10 | elapsed:  2.1min finished\n",
      "\n",
      "[2020-11-30 10:03:30] Features: 14/23 -- score: -0.2522700813301804[Parallel(n_jobs=1)]: Using backend SequentialBackend with 1 concurrent workers.\n",
      "[Parallel(n_jobs=1)]: Done   1 out of   1 | elapsed:   13.8s remaining:    0.0s\n",
      "[Parallel(n_jobs=1)]: Done   2 out of   2 | elapsed:   29.8s remaining:    0.0s\n",
      "[Parallel(n_jobs=1)]: Done   9 out of   9 | elapsed:  2.1min finished\n",
      "\n",
      "[2020-11-30 10:05:33] Features: 15/23 -- score: -0.279904748687992[Parallel(n_jobs=1)]: Using backend SequentialBackend with 1 concurrent workers.\n",
      "[Parallel(n_jobs=1)]: Done   1 out of   1 | elapsed:   15.6s remaining:    0.0s\n",
      "[Parallel(n_jobs=1)]: Done   2 out of   2 | elapsed:   33.5s remaining:    0.0s\n",
      "[Parallel(n_jobs=1)]: Done   8 out of   8 | elapsed:  2.1min finished\n",
      "\n",
      "[2020-11-30 10:07:40] Features: 16/23 -- score: -0.3068200979870744[Parallel(n_jobs=1)]: Using backend SequentialBackend with 1 concurrent workers.\n",
      "[Parallel(n_jobs=1)]: Done   1 out of   1 | elapsed:   19.5s remaining:    0.0s\n",
      "[Parallel(n_jobs=1)]: Done   2 out of   2 | elapsed:   44.9s remaining:    0.0s\n",
      "[Parallel(n_jobs=1)]: Done   7 out of   7 | elapsed:  2.5min finished\n",
      "\n",
      "[2020-11-30 10:10:07] Features: 17/23 -- score: -0.3163641663828302[Parallel(n_jobs=1)]: Using backend SequentialBackend with 1 concurrent workers.\n",
      "[Parallel(n_jobs=1)]: Done   1 out of   1 | elapsed:   19.4s remaining:    0.0s\n",
      "[Parallel(n_jobs=1)]: Done   2 out of   2 | elapsed:   41.7s remaining:    0.0s\n",
      "[Parallel(n_jobs=1)]: Done   6 out of   6 | elapsed:  2.2min finished\n",
      "\n",
      "[2020-11-30 10:12:19] Features: 18/23 -- score: -0.2088066260496131[Parallel(n_jobs=1)]: Using backend SequentialBackend with 1 concurrent workers.\n",
      "[Parallel(n_jobs=1)]: Done   1 out of   1 | elapsed:   20.7s remaining:    0.0s\n",
      "[Parallel(n_jobs=1)]: Done   2 out of   2 | elapsed:   40.0s remaining:    0.0s\n",
      "[Parallel(n_jobs=1)]: Done   5 out of   5 | elapsed:  1.6min finished\n",
      "\n",
      "[2020-11-30 10:13:56] Features: 19/23 -- score: -0.18564267784029073[Parallel(n_jobs=1)]: Using backend SequentialBackend with 1 concurrent workers.\n",
      "[Parallel(n_jobs=1)]: Done   1 out of   1 | elapsed:   19.3s remaining:    0.0s\n",
      "[Parallel(n_jobs=1)]: Done   2 out of   2 | elapsed:   39.5s remaining:    0.0s\n",
      "[Parallel(n_jobs=1)]: Done   4 out of   4 | elapsed:  1.3min finished\n",
      "\n",
      "[2020-11-30 10:15:15] Features: 20/23 -- score: -0.17299949003003956[Parallel(n_jobs=1)]: Using backend SequentialBackend with 1 concurrent workers.\n",
      "[Parallel(n_jobs=1)]: Done   1 out of   1 | elapsed:   19.3s remaining:    0.0s\n",
      "[Parallel(n_jobs=1)]: Done   2 out of   2 | elapsed:   38.8s remaining:    0.0s\n",
      "[Parallel(n_jobs=1)]: Done   3 out of   3 | elapsed:   58.1s finished\n",
      "\n",
      "[2020-11-30 10:16:13] Features: 21/23 -- score: -0.16789078490205464[Parallel(n_jobs=1)]: Using backend SequentialBackend with 1 concurrent workers.\n",
      "[Parallel(n_jobs=1)]: Done   1 out of   1 | elapsed:   19.6s remaining:    0.0s\n",
      "[Parallel(n_jobs=1)]: Done   2 out of   2 | elapsed:   39.2s remaining:    0.0s\n",
      "[Parallel(n_jobs=1)]: Done   2 out of   2 | elapsed:   39.2s finished\n",
      "\n",
      "[2020-11-30 10:16:52] Features: 22/23 -- score: -0.16831462447300582[Parallel(n_jobs=1)]: Using backend SequentialBackend with 1 concurrent workers.\n",
      "[Parallel(n_jobs=1)]: Done   1 out of   1 | elapsed:   19.9s remaining:    0.0s\n",
      "[Parallel(n_jobs=1)]: Done   1 out of   1 | elapsed:   19.9s finished\n",
      "\n",
      "[2020-11-30 10:17:12] Features: 23/23 -- score: -0.1665122334105217"
     ]
    }
   ],
   "source": [
    "folds = KFold(n_splits=3, shuffle=True,  random_state=0)\n",
    "params = [{'n_features_to_select' : list(range(1,23))}]\n",
    "\n",
    "rf = RandomForestClassifier()\n",
    "\n",
    "sfs1 = sfs(rf, k_features=23, scoring='r2', cv=folds, verbose=3) # as we increase verbose number we get more details\n",
    "sfs1 = sfs1.fit(X,y)"
   ]
  },
  {
   "cell_type": "code",
   "execution_count": 52,
   "metadata": {
    "scrolled": true
   },
   "outputs": [
    {
     "data": {
      "text/html": [
       "<div>\n",
       "<style scoped>\n",
       "    .dataframe tbody tr th:only-of-type {\n",
       "        vertical-align: middle;\n",
       "    }\n",
       "\n",
       "    .dataframe tbody tr th {\n",
       "        vertical-align: top;\n",
       "    }\n",
       "\n",
       "    .dataframe thead th {\n",
       "        text-align: right;\n",
       "    }\n",
       "</style>\n",
       "<table border=\"1\" class=\"dataframe\">\n",
       "  <thead>\n",
       "    <tr style=\"text-align: right;\">\n",
       "      <th></th>\n",
       "      <th>feature_idx</th>\n",
       "      <th>cv_scores</th>\n",
       "      <th>avg_score</th>\n",
       "      <th>feature_names</th>\n",
       "    </tr>\n",
       "  </thead>\n",
       "  <tbody>\n",
       "    <tr>\n",
       "      <td>1</td>\n",
       "      <td>(9,)</td>\n",
       "      <td>[-0.15836315739759232, -0.17280898832616587, -...</td>\n",
       "      <td>-0.164487</td>\n",
       "      <td>(number_inpatient,)</td>\n",
       "    </tr>\n",
       "    <tr>\n",
       "      <td>2</td>\n",
       "      <td>(2, 9)</td>\n",
       "      <td>[-0.16059999659808422, -0.17089731923353968, -...</td>\n",
       "      <td>-0.162473</td>\n",
       "      <td>(age, number_inpatient)</td>\n",
       "    </tr>\n",
       "    <tr>\n",
       "      <td>3</td>\n",
       "      <td>(2, 9, 18)</td>\n",
       "      <td>[-0.15868270585480548, -0.17026009620266436, -...</td>\n",
       "      <td>-0.161622</td>\n",
       "      <td>(age, number_inpatient, citoglipton)</td>\n",
       "    </tr>\n",
       "    <tr>\n",
       "      <td>4</td>\n",
       "      <td>(2, 9, 14, 18)</td>\n",
       "      <td>[-0.1564458666543136, -0.17280898832616587, -0...</td>\n",
       "      <td>-0.16215</td>\n",
       "      <td>(age, number_inpatient, max_glu_serum, citogli...</td>\n",
       "    </tr>\n",
       "    <tr>\n",
       "      <td>5</td>\n",
       "      <td>(2, 9, 14, 17, 18)</td>\n",
       "      <td>[-0.15964135122644474, -0.17185315377985266, -...</td>\n",
       "      <td>-0.163746</td>\n",
       "      <td>(age, number_inpatient, max_glu_serum, examide...</td>\n",
       "    </tr>\n",
       "    <tr>\n",
       "      <td>6</td>\n",
       "      <td>(2, 9, 14, 16, 17, 18)</td>\n",
       "      <td>[-0.1599608996836579, -0.17185315377985266, -0...</td>\n",
       "      <td>-0.164913</td>\n",
       "      <td>(age, number_inpatient, max_glu_serum, metform...</td>\n",
       "    </tr>\n",
       "    <tr>\n",
       "      <td>7</td>\n",
       "      <td>(2, 9, 14, 16, 17, 18, 21)</td>\n",
       "      <td>[-0.1621977388841498, -0.1724903768107282, -0....</td>\n",
       "      <td>-0.167994</td>\n",
       "      <td>(age, number_inpatient, max_glu_serum, metform...</td>\n",
       "    </tr>\n",
       "    <tr>\n",
       "      <td>8</td>\n",
       "      <td>(2, 9, 14, 15, 16, 17, 18, 21)</td>\n",
       "      <td>[-0.16475412654185484, -0.17663232651141825, -...</td>\n",
       "      <td>-0.169908</td>\n",
       "      <td>(age, number_inpatient, max_glu_serum, A1Cresu...</td>\n",
       "    </tr>\n",
       "    <tr>\n",
       "      <td>9</td>\n",
       "      <td>(2, 9, 14, 15, 16, 17, 18, 21, 22)</td>\n",
       "      <td>[-0.17561877408710136, -0.1798184416657953, -0...</td>\n",
       "      <td>-0.176714</td>\n",
       "      <td>(age, number_inpatient, max_glu_serum, A1Cresu...</td>\n",
       "    </tr>\n",
       "    <tr>\n",
       "      <td>10</td>\n",
       "      <td>(2, 9, 14, 15, 16, 17, 18, 20, 21, 22)</td>\n",
       "      <td>[-0.18009245248808514, -0.1935187368296163, -0...</td>\n",
       "      <td>-0.185213</td>\n",
       "      <td>(age, number_inpatient, max_glu_serum, A1Cresu...</td>\n",
       "    </tr>\n",
       "    <tr>\n",
       "      <td>11</td>\n",
       "      <td>(1, 2, 9, 14, 15, 16, 17, 18, 20, 21, 22)</td>\n",
       "      <td>[-0.1947916815198889, -0.21104237017868965, -0...</td>\n",
       "      <td>-0.199986</td>\n",
       "      <td>(gender, age, number_inpatient, max_glu_serum,...</td>\n",
       "    </tr>\n",
       "    <tr>\n",
       "      <td>12</td>\n",
       "      <td>(1, 2, 8, 9, 14, 15, 16, 17, 18, 20, 21, 22)</td>\n",
       "      <td>[-0.1992653599208729, -0.2231496077653221, -0....</td>\n",
       "      <td>-0.209651</td>\n",
       "      <td>(gender, age, number_emergency, number_inpatie...</td>\n",
       "    </tr>\n",
       "    <tr>\n",
       "      <td>13</td>\n",
       "      <td>(0, 1, 2, 8, 9, 14, 15, 16, 17, 18, 20, 21, 22)</td>\n",
       "      <td>[-0.2238705911262837, -0.23876157202176929, -0...</td>\n",
       "      <td>-0.229</td>\n",
       "      <td>(race, gender, age, number_emergency, number_i...</td>\n",
       "    </tr>\n",
       "    <tr>\n",
       "      <td>14</td>\n",
       "      <td>(0, 1, 2, 7, 8, 9, 14, 15, 16, 17, 18, 20, 21,...</td>\n",
       "      <td>[-0.2436825954734978, -0.26106437810240823, -0...</td>\n",
       "      <td>-0.25227</td>\n",
       "      <td>(race, gender, age, number_outpatient, number_...</td>\n",
       "    </tr>\n",
       "    <tr>\n",
       "      <td>15</td>\n",
       "      <td>(0, 1, 2, 7, 8, 9, 14, 15, 16, 17, 18, 19, 20,...</td>\n",
       "      <td>[-0.2705246658794005, -0.30057220601668266, -0...</td>\n",
       "      <td>-0.279905</td>\n",
       "      <td>(race, gender, age, number_outpatient, number_...</td>\n",
       "    </tr>\n",
       "    <tr>\n",
       "      <td>16</td>\n",
       "      <td>(0, 1, 2, 7, 8, 9, 10, 14, 15, 16, 17, 18, 19,...</td>\n",
       "      <td>[-0.3258065489772719, -0.29611164480055496, -0...</td>\n",
       "      <td>-0.30682</td>\n",
       "      <td>(race, gender, age, number_outpatient, number_...</td>\n",
       "    </tr>\n",
       "    <tr>\n",
       "      <td>17</td>\n",
       "      <td>(0, 1, 2, 6, 7, 8, 9, 10, 14, 15, 16, 17, 18, ...</td>\n",
       "      <td>[-0.31398325606038613, -0.326698350282574, -0....</td>\n",
       "      <td>-0.316364</td>\n",
       "      <td>(race, gender, age, num_medications, number_ou...</td>\n",
       "    </tr>\n",
       "    <tr>\n",
       "      <td>18</td>\n",
       "      <td>(0, 1, 2, 4, 6, 7, 8, 9, 10, 14, 15, 16, 17, 1...</td>\n",
       "      <td>[-0.20405858677906985, -0.21614015442569268, -...</td>\n",
       "      <td>-0.208807</td>\n",
       "      <td>(race, gender, age, num_lab_procedures, num_me...</td>\n",
       "    </tr>\n",
       "    <tr>\n",
       "      <td>19</td>\n",
       "      <td>(0, 1, 2, 3, 4, 6, 7, 8, 9, 10, 14, 15, 16, 17...</td>\n",
       "      <td>[-0.1839270339746426, -0.19638624046855546, -0...</td>\n",
       "      <td>-0.185643</td>\n",
       "      <td>(race, gender, age, time_in_hospital, num_lab_...</td>\n",
       "    </tr>\n",
       "    <tr>\n",
       "      <td>20</td>\n",
       "      <td>(0, 1, 2, 3, 4, 6, 7, 8, 9, 10, 13, 14, 15, 16...</td>\n",
       "      <td>[-0.17466012871546188, -0.18268594530473448, -...</td>\n",
       "      <td>-0.172999</td>\n",
       "      <td>(race, gender, age, time_in_hospital, num_lab_...</td>\n",
       "    </tr>\n",
       "    <tr>\n",
       "      <td>21</td>\n",
       "      <td>(0, 1, 2, 3, 4, 6, 7, 8, 9, 10, 12, 13, 14, 15...</td>\n",
       "      <td>[-0.16411502962742874, -0.17567649196510504, -...</td>\n",
       "      <td>-0.167891</td>\n",
       "      <td>(race, gender, age, time_in_hospital, num_lab_...</td>\n",
       "    </tr>\n",
       "    <tr>\n",
       "      <td>22</td>\n",
       "      <td>(0, 1, 2, 3, 4, 6, 7, 8, 9, 10, 11, 12, 13, 14...</td>\n",
       "      <td>[-0.16347593271300243, -0.17631371499598059, -...</td>\n",
       "      <td>-0.168315</td>\n",
       "      <td>(race, gender, age, time_in_hospital, num_lab_...</td>\n",
       "    </tr>\n",
       "    <tr>\n",
       "      <td>23</td>\n",
       "      <td>(0, 1, 2, 3, 4, 5, 6, 7, 8, 9, 10, 11, 12, 13,...</td>\n",
       "      <td>[-0.16635186882792063, -0.1689856501409135, -0...</td>\n",
       "      <td>-0.166512</td>\n",
       "      <td>(race, gender, age, time_in_hospital, num_lab_...</td>\n",
       "    </tr>\n",
       "  </tbody>\n",
       "</table>\n",
       "</div>"
      ],
      "text/plain": [
       "                                          feature_idx  \\\n",
       "1                                                (9,)   \n",
       "2                                              (2, 9)   \n",
       "3                                          (2, 9, 18)   \n",
       "4                                      (2, 9, 14, 18)   \n",
       "5                                  (2, 9, 14, 17, 18)   \n",
       "6                              (2, 9, 14, 16, 17, 18)   \n",
       "7                          (2, 9, 14, 16, 17, 18, 21)   \n",
       "8                      (2, 9, 14, 15, 16, 17, 18, 21)   \n",
       "9                  (2, 9, 14, 15, 16, 17, 18, 21, 22)   \n",
       "10             (2, 9, 14, 15, 16, 17, 18, 20, 21, 22)   \n",
       "11          (1, 2, 9, 14, 15, 16, 17, 18, 20, 21, 22)   \n",
       "12       (1, 2, 8, 9, 14, 15, 16, 17, 18, 20, 21, 22)   \n",
       "13    (0, 1, 2, 8, 9, 14, 15, 16, 17, 18, 20, 21, 22)   \n",
       "14  (0, 1, 2, 7, 8, 9, 14, 15, 16, 17, 18, 20, 21,...   \n",
       "15  (0, 1, 2, 7, 8, 9, 14, 15, 16, 17, 18, 19, 20,...   \n",
       "16  (0, 1, 2, 7, 8, 9, 10, 14, 15, 16, 17, 18, 19,...   \n",
       "17  (0, 1, 2, 6, 7, 8, 9, 10, 14, 15, 16, 17, 18, ...   \n",
       "18  (0, 1, 2, 4, 6, 7, 8, 9, 10, 14, 15, 16, 17, 1...   \n",
       "19  (0, 1, 2, 3, 4, 6, 7, 8, 9, 10, 14, 15, 16, 17...   \n",
       "20  (0, 1, 2, 3, 4, 6, 7, 8, 9, 10, 13, 14, 15, 16...   \n",
       "21  (0, 1, 2, 3, 4, 6, 7, 8, 9, 10, 12, 13, 14, 15...   \n",
       "22  (0, 1, 2, 3, 4, 6, 7, 8, 9, 10, 11, 12, 13, 14...   \n",
       "23  (0, 1, 2, 3, 4, 5, 6, 7, 8, 9, 10, 11, 12, 13,...   \n",
       "\n",
       "                                            cv_scores avg_score  \\\n",
       "1   [-0.15836315739759232, -0.17280898832616587, -... -0.164487   \n",
       "2   [-0.16059999659808422, -0.17089731923353968, -... -0.162473   \n",
       "3   [-0.15868270585480548, -0.17026009620266436, -... -0.161622   \n",
       "4   [-0.1564458666543136, -0.17280898832616587, -0...  -0.16215   \n",
       "5   [-0.15964135122644474, -0.17185315377985266, -... -0.163746   \n",
       "6   [-0.1599608996836579, -0.17185315377985266, -0... -0.164913   \n",
       "7   [-0.1621977388841498, -0.1724903768107282, -0.... -0.167994   \n",
       "8   [-0.16475412654185484, -0.17663232651141825, -... -0.169908   \n",
       "9   [-0.17561877408710136, -0.1798184416657953, -0... -0.176714   \n",
       "10  [-0.18009245248808514, -0.1935187368296163, -0... -0.185213   \n",
       "11  [-0.1947916815198889, -0.21104237017868965, -0... -0.199986   \n",
       "12  [-0.1992653599208729, -0.2231496077653221, -0.... -0.209651   \n",
       "13  [-0.2238705911262837, -0.23876157202176929, -0...    -0.229   \n",
       "14  [-0.2436825954734978, -0.26106437810240823, -0...  -0.25227   \n",
       "15  [-0.2705246658794005, -0.30057220601668266, -0... -0.279905   \n",
       "16  [-0.3258065489772719, -0.29611164480055496, -0...  -0.30682   \n",
       "17  [-0.31398325606038613, -0.326698350282574, -0.... -0.316364   \n",
       "18  [-0.20405858677906985, -0.21614015442569268, -... -0.208807   \n",
       "19  [-0.1839270339746426, -0.19638624046855546, -0... -0.185643   \n",
       "20  [-0.17466012871546188, -0.18268594530473448, -... -0.172999   \n",
       "21  [-0.16411502962742874, -0.17567649196510504, -... -0.167891   \n",
       "22  [-0.16347593271300243, -0.17631371499598059, -... -0.168315   \n",
       "23  [-0.16635186882792063, -0.1689856501409135, -0... -0.166512   \n",
       "\n",
       "                                        feature_names  \n",
       "1                                 (number_inpatient,)  \n",
       "2                             (age, number_inpatient)  \n",
       "3                (age, number_inpatient, citoglipton)  \n",
       "4   (age, number_inpatient, max_glu_serum, citogli...  \n",
       "5   (age, number_inpatient, max_glu_serum, examide...  \n",
       "6   (age, number_inpatient, max_glu_serum, metform...  \n",
       "7   (age, number_inpatient, max_glu_serum, metform...  \n",
       "8   (age, number_inpatient, max_glu_serum, A1Cresu...  \n",
       "9   (age, number_inpatient, max_glu_serum, A1Cresu...  \n",
       "10  (age, number_inpatient, max_glu_serum, A1Cresu...  \n",
       "11  (gender, age, number_inpatient, max_glu_serum,...  \n",
       "12  (gender, age, number_emergency, number_inpatie...  \n",
       "13  (race, gender, age, number_emergency, number_i...  \n",
       "14  (race, gender, age, number_outpatient, number_...  \n",
       "15  (race, gender, age, number_outpatient, number_...  \n",
       "16  (race, gender, age, number_outpatient, number_...  \n",
       "17  (race, gender, age, num_medications, number_ou...  \n",
       "18  (race, gender, age, num_lab_procedures, num_me...  \n",
       "19  (race, gender, age, time_in_hospital, num_lab_...  \n",
       "20  (race, gender, age, time_in_hospital, num_lab_...  \n",
       "21  (race, gender, age, time_in_hospital, num_lab_...  \n",
       "22  (race, gender, age, time_in_hospital, num_lab_...  \n",
       "23  (race, gender, age, time_in_hospital, num_lab_...  "
      ]
     },
     "execution_count": 52,
     "metadata": {},
     "output_type": "execute_result"
    }
   ],
   "source": [
    "# Selected features:\n",
    "\n",
    "sf = pd.DataFrame(sfs1.subsets_).T\n",
    "sf"
   ]
  },
  {
   "cell_type": "code",
   "execution_count": 53,
   "metadata": {},
   "outputs": [
    {
     "data": {
      "image/png": "[encoded data removed]",
      "text/plain": [
       "<Figure size 432x288 with 1 Axes>"
      ]
     },
     "metadata": {
      "needs_background": "light"
     },
     "output_type": "display_data"
    }
   ],
   "source": [
    "plt.plot(sf['avg_score'])\n",
    "plt.show()"
   ]
  },
  {
   "cell_type": "code",
   "execution_count": 54,
   "metadata": {},
   "outputs": [
    {
     "data": {
      "text/plain": [
       "('race',\n",
       " 'gender',\n",
       " 'age',\n",
       " 'num_medications',\n",
       " 'number_outpatient',\n",
       " 'number_emergency',\n",
       " 'number_inpatient',\n",
       " 'diag_1',\n",
       " 'max_glu_serum',\n",
       " 'A1Cresult',\n",
       " 'metformin',\n",
       " 'examide',\n",
       " 'citoglipton',\n",
       " 'insulin',\n",
       " 'change',\n",
       " 'diabetesMed',\n",
       " 'numchange')"
      ]
     },
     "execution_count": 54,
     "metadata": {},
     "output_type": "execute_result"
    }
   ],
   "source": [
    "sf.loc[17,'feature_names']  # 17 because it has more avg_score"
   ]
  },
  {
   "cell_type": "code",
   "execution_count": 55,
   "metadata": {},
   "outputs": [],
   "source": [
    "x1 = X[['race','gender','age','num_medications','number_outpatient','number_emergency','number_inpatient',\n",
    "        'diag_1','max_glu_serum', 'A1Cresult','metformin','examide','citoglipton','insulin','change',\n",
    "        'diabetesMed','numchange']].copy() "
   ]
  },
  {
   "cell_type": "code",
   "execution_count": 56,
   "metadata": {},
   "outputs": [
    {
     "data": {
      "text/html": [
       "<div>\n",
       "<style scoped>\n",
       "    .dataframe tbody tr th:only-of-type {\n",
       "        vertical-align: middle;\n",
       "    }\n",
       "\n",
       "    .dataframe tbody tr th {\n",
       "        vertical-align: top;\n",
       "    }\n",
       "\n",
       "    .dataframe thead th {\n",
       "        text-align: right;\n",
       "    }\n",
       "</style>\n",
       "<table border=\"1\" class=\"dataframe\">\n",
       "  <thead>\n",
       "    <tr style=\"text-align: right;\">\n",
       "      <th></th>\n",
       "      <th>race</th>\n",
       "      <th>gender</th>\n",
       "      <th>age</th>\n",
       "      <th>num_medications</th>\n",
       "      <th>number_outpatient</th>\n",
       "      <th>number_emergency</th>\n",
       "      <th>number_inpatient</th>\n",
       "      <th>diag_1</th>\n",
       "      <th>max_glu_serum</th>\n",
       "      <th>A1Cresult</th>\n",
       "      <th>metformin</th>\n",
       "      <th>examide</th>\n",
       "      <th>citoglipton</th>\n",
       "      <th>insulin</th>\n",
       "      <th>change</th>\n",
       "      <th>diabetesMed</th>\n",
       "      <th>numchange</th>\n",
       "    </tr>\n",
       "  </thead>\n",
       "  <tbody>\n",
       "    <tr>\n",
       "      <td>0</td>\n",
       "      <td>2</td>\n",
       "      <td>0</td>\n",
       "      <td>0</td>\n",
       "      <td>0</td>\n",
       "      <td>0</td>\n",
       "      <td>0</td>\n",
       "      <td>0</td>\n",
       "      <td>1</td>\n",
       "      <td>2</td>\n",
       "      <td>2</td>\n",
       "      <td>1</td>\n",
       "      <td>0</td>\n",
       "      <td>0</td>\n",
       "      <td>1</td>\n",
       "      <td>1</td>\n",
       "      <td>0</td>\n",
       "      <td>0</td>\n",
       "    </tr>\n",
       "    <tr>\n",
       "      <td>2</td>\n",
       "      <td>0</td>\n",
       "      <td>0</td>\n",
       "      <td>2</td>\n",
       "      <td>12</td>\n",
       "      <td>2</td>\n",
       "      <td>0</td>\n",
       "      <td>1</td>\n",
       "      <td>7</td>\n",
       "      <td>2</td>\n",
       "      <td>2</td>\n",
       "      <td>1</td>\n",
       "      <td>0</td>\n",
       "      <td>0</td>\n",
       "      <td>1</td>\n",
       "      <td>1</td>\n",
       "      <td>1</td>\n",
       "      <td>0</td>\n",
       "    </tr>\n",
       "    <tr>\n",
       "      <td>3</td>\n",
       "      <td>2</td>\n",
       "      <td>1</td>\n",
       "      <td>3</td>\n",
       "      <td>15</td>\n",
       "      <td>0</td>\n",
       "      <td>0</td>\n",
       "      <td>0</td>\n",
       "      <td>6</td>\n",
       "      <td>2</td>\n",
       "      <td>2</td>\n",
       "      <td>1</td>\n",
       "      <td>0</td>\n",
       "      <td>0</td>\n",
       "      <td>3</td>\n",
       "      <td>0</td>\n",
       "      <td>1</td>\n",
       "      <td>0</td>\n",
       "    </tr>\n",
       "    <tr>\n",
       "      <td>4</td>\n",
       "      <td>2</td>\n",
       "      <td>1</td>\n",
       "      <td>4</td>\n",
       "      <td>7</td>\n",
       "      <td>0</td>\n",
       "      <td>0</td>\n",
       "      <td>0</td>\n",
       "      <td>6</td>\n",
       "      <td>2</td>\n",
       "      <td>2</td>\n",
       "      <td>1</td>\n",
       "      <td>0</td>\n",
       "      <td>0</td>\n",
       "      <td>2</td>\n",
       "      <td>0</td>\n",
       "      <td>1</td>\n",
       "      <td>0</td>\n",
       "    </tr>\n",
       "    <tr>\n",
       "      <td>6</td>\n",
       "      <td>2</td>\n",
       "      <td>1</td>\n",
       "      <td>6</td>\n",
       "      <td>20</td>\n",
       "      <td>0</td>\n",
       "      <td>0</td>\n",
       "      <td>0</td>\n",
       "      <td>0</td>\n",
       "      <td>2</td>\n",
       "      <td>2</td>\n",
       "      <td>2</td>\n",
       "      <td>0</td>\n",
       "      <td>0</td>\n",
       "      <td>2</td>\n",
       "      <td>0</td>\n",
       "      <td>1</td>\n",
       "      <td>0</td>\n",
       "    </tr>\n",
       "  </tbody>\n",
       "</table>\n",
       "</div>"
      ],
      "text/plain": [
       "   race  gender  age  num_medications  number_outpatient  number_emergency  \\\n",
       "0     2       0    0                0                  0                 0   \n",
       "2     0       0    2               12                  2                 0   \n",
       "3     2       1    3               15                  0                 0   \n",
       "4     2       1    4                7                  0                 0   \n",
       "6     2       1    6               20                  0                 0   \n",
       "\n",
       "   number_inpatient  diag_1  max_glu_serum  A1Cresult  metformin  examide  \\\n",
       "0                 0       1              2          2          1        0   \n",
       "2                 1       7              2          2          1        0   \n",
       "3                 0       6              2          2          1        0   \n",
       "4                 0       6              2          2          1        0   \n",
       "6                 0       0              2          2          2        0   \n",
       "\n",
       "   citoglipton  insulin  change  diabetesMed  numchange  \n",
       "0            0        1       1            0          0  \n",
       "2            0        1       1            1          0  \n",
       "3            0        3       0            1          0  \n",
       "4            0        2       0            1          0  \n",
       "6            0        2       0            1          0  "
      ]
     },
     "execution_count": 56,
     "metadata": {},
     "output_type": "execute_result"
    }
   ],
   "source": [
    "x1.head()"
   ]
  },
  {
   "cell_type": "code",
   "execution_count": 57,
   "metadata": {},
   "outputs": [],
   "source": [
    "from sklearn.model_selection import train_test_split\n",
    "X_train, X_test, y_train, y_test = train_test_split(x1, y, test_size=0.33, random_state=42)"
   ]
  },
  {
   "cell_type": "code",
   "execution_count": 58,
   "metadata": {},
   "outputs": [
    {
     "data": {
      "text/plain": [
       "((44368, 17), (44368,), (21853, 17), (21853,))"
      ]
     },
     "execution_count": 58,
     "metadata": {},
     "output_type": "execute_result"
    }
   ],
   "source": [
    "X_train.shape,y_train.shape,X_test.shape,y_test.shape"
   ]
  },
  {
   "cell_type": "code",
   "execution_count": 59,
   "metadata": {},
   "outputs": [
    {
     "data": {
      "text/plain": [
       "0    54864\n",
       "1    11357\n",
       "Name: readmitted, dtype: int64"
      ]
     },
     "execution_count": 59,
     "metadata": {},
     "output_type": "execute_result"
    }
   ],
   "source": [
    "y.value_counts()"
   ]
  },
  {
   "cell_type": "code",
   "execution_count": 60,
   "metadata": {},
   "outputs": [],
   "source": [
    "# lets train model without balancing the data :\n",
    "\n",
    "from sklearn.linear_model import LogisticRegression\n",
    "from sklearn.metrics import confusion_matrix,classification_report"
   ]
  },
  {
   "cell_type": "code",
   "execution_count": 61,
   "metadata": {},
   "outputs": [
    {
     "name": "stdout",
     "output_type": "stream",
     "text": [
      "Classification report of LR before applying Sampling:\n",
      "\n",
      "               precision    recall  f1-score   support\n",
      "\n",
      "           0       0.84      0.99      0.91     18025\n",
      "           1       0.64      0.09      0.15      3828\n",
      "\n",
      "    accuracy                           0.83     21853\n",
      "   macro avg       0.74      0.54      0.53     21853\n",
      "weighted avg       0.80      0.83      0.77     21853\n",
      "\n"
     ]
    },
    {
     "name": "stderr",
     "output_type": "stream",
     "text": [
      "/home/shrihari/anaconda3/lib/python3.7/site-packages/sklearn/linear_model/_logistic.py:764: ConvergenceWarning: lbfgs failed to converge (status=1):\n",
      "STOP: TOTAL NO. of ITERATIONS REACHED LIMIT.\n",
      "\n",
      "Increase the number of iterations (max_iter) or scale the data as shown in:\n",
      "    https://scikit-learn.org/stable/modules/preprocessing.html\n",
      "Please also refer to the documentation for alternative solver options:\n",
      "    https://scikit-learn.org/stable/modules/linear_model.html#logistic-regression\n",
      "  extra_warning_msg=_LOGISTIC_SOLVER_CONVERGENCE_MSG)\n"
     ]
    }
   ],
   "source": [
    "lr = LogisticRegression()\n",
    "lr.fit(X_train,y_train)\n",
    "predictions = lr.predict(X_test)\n",
    "\n",
    "cr_LR = classification_report(y_test,predictions)\n",
    "\n",
    "print('Classification report of LR before applying Sampling:\\n\\n',cr_LR)"
   ]
  },
  {
   "cell_type": "markdown",
   "metadata": {},
   "source": [
    "## Synthetic Minority Oversampling Technique (SMOTE)\n"
   ]
  },
  {
   "cell_type": "code",
   "execution_count": 62,
   "metadata": {},
   "outputs": [],
   "source": [
    "# This technique generates synthetic data for the minority class.\n",
    "# SMOTE (Synthetic Minority Oversampling Technique) works by randomly picking a point from the minority class \n",
    "#    and computing the k-nearest neighbors for this point. The synthetic points are added between the chosen point\n",
    "#    and its neighbors."
   ]
  },
  {
   "cell_type": "code",
   "execution_count": 63,
   "metadata": {},
   "outputs": [],
   "source": [
    "# SMOTE algorithm works in 4 simple steps:\n",
    "\n",
    "# 1. Choose a minority class as the input vector\n",
    "# 2. Find its k nearest neighbors (k_neighbors is specified as an argument in the SMOTE() function)\n",
    "# 3. Choose one of these neighbors and place a synthetic point anywhere on the line joining the point \n",
    "#      under consideration and its chosen neighbor\n",
    "# 4. Repeat the steps until data is balanced"
   ]
  },
  {
   "cell_type": "code",
   "execution_count": 64,
   "metadata": {},
   "outputs": [
    {
     "name": "stdout",
     "output_type": "stream",
     "text": [
      "Before sampling counts of label:\n",
      "\n",
      " 0    36839\n",
      "1     7529\n",
      "Name: readmitted, dtype: int64\n",
      "\n",
      "Before sampling shape of X_train and y_train:\n",
      "\n",
      " (44368, 17) (44368,)\n",
      "\n",
      "\n",
      "After sampling counts of label:\n",
      "\n",
      " 1    36839\n",
      "0    36839\n",
      "Name: readmitted, dtype: int64\n",
      "\n",
      "After sampling shape of X_train and y_train:\n",
      "\n",
      " (73678, 17) (73678,)\n"
     ]
    }
   ],
   "source": [
    "# import library\n",
    "from imblearn.over_sampling import SMOTE\n",
    "\n",
    "smote = SMOTE()\n",
    "\n",
    "\n",
    "\n",
    "# fit predictor and target variable\n",
    "X_train_res, y_train_res = smote.fit_sample(X_train, y_train)\n",
    "\n",
    "\n",
    "print('Before sampling counts of label:\\n\\n',y_train.value_counts())\n",
    "print('\\nBefore sampling shape of X_train and y_train:\\n\\n',X_train.shape,y_train.shape)\n",
    "print('\\n\\nAfter sampling counts of label:\\n\\n',y_train_res.value_counts())\n",
    "print('\\nAfter sampling shape of X_train and y_train:\\n\\n',X_train_res.shape,y_train_res.shape)\n"
   ]
  },
  {
   "cell_type": "markdown",
   "metadata": {},
   "source": [
    "# Logistic Regression "
   ]
  },
  {
   "cell_type": "code",
   "execution_count": 65,
   "metadata": {},
   "outputs": [
    {
     "name": "stdout",
     "output_type": "stream",
     "text": [
      "Classification report of LR After applying SMOTE :\n",
      "\n",
      "               precision    recall  f1-score   support\n",
      "\n",
      "           0       0.87      0.69      0.77     18025\n",
      "           1       0.26      0.50      0.34      3828\n",
      "\n",
      "    accuracy                           0.66     21853\n",
      "   macro avg       0.56      0.60      0.55     21853\n",
      "weighted avg       0.76      0.66      0.69     21853\n",
      "\n"
     ]
    },
    {
     "name": "stderr",
     "output_type": "stream",
     "text": [
      "/home/shrihari/anaconda3/lib/python3.7/site-packages/sklearn/linear_model/_logistic.py:764: ConvergenceWarning: lbfgs failed to converge (status=1):\n",
      "STOP: TOTAL NO. of ITERATIONS REACHED LIMIT.\n",
      "\n",
      "Increase the number of iterations (max_iter) or scale the data as shown in:\n",
      "    https://scikit-learn.org/stable/modules/preprocessing.html\n",
      "Please also refer to the documentation for alternative solver options:\n",
      "    https://scikit-learn.org/stable/modules/linear_model.html#logistic-regression\n",
      "  extra_warning_msg=_LOGISTIC_SOLVER_CONVERGENCE_MSG)\n"
     ]
    }
   ],
   "source": [
    "# Lets apply Logistic Regression for this SMOTE sampling data:\n",
    "\n",
    "lr_smote = LogisticRegression()\n",
    "lr_smote.fit(X_train_res,y_train_res)\n",
    "predictions_lr_smote = lr_smote.predict(X_test)\n",
    "\n",
    "cr_LR_smote = classification_report(y_test,predictions_lr_smote)\n",
    "\n",
    "print('Classification report of LR After applying SMOTE :\\n\\n',cr_LR_smote)"
   ]
  },
  {
   "cell_type": "markdown",
   "metadata": {},
   "source": [
    "# RandomForest :"
   ]
  },
  {
   "cell_type": "code",
   "execution_count": 66,
   "metadata": {},
   "outputs": [],
   "source": [
    "# Lets apply Random Forest for SMOTE data sample :\n",
    "\n",
    "from sklearn.ensemble import RandomForestClassifier\n",
    "from sklearn.metrics import roc_curve, auc\n",
    "from sklearn.model_selection import cross_val_score\n",
    "\n",
    "\n",
    "RF_ve=[]\n",
    "RF_be=[]\n",
    "for n in np.arange(1,20):\n",
    "    RF=RandomForestClassifier(n_estimators=n,criterion='entropy',random_state=0)\n",
    "    kf=KFold(shuffle=True,n_splits=3,random_state=0)\n",
    "    auc=cross_val_score(RF,X_train_res,y_train_res,cv=kf,scoring='roc_auc')\n",
    "    RF_be.append(np.mean(1-auc))\n",
    "    RF_ve.append(np.std(1-auc))"
   ]
  },
  {
   "cell_type": "code",
   "execution_count": 67,
   "metadata": {},
   "outputs": [
    {
     "data": {
      "text/plain": [
       "(0.0010620632159513044, 2)"
      ]
     },
     "execution_count": 67,
     "metadata": {},
     "output_type": "execute_result"
    }
   ],
   "source": [
    "np.min(RF_ve),np.argmin(RF_ve)"
   ]
  },
  {
   "cell_type": "code",
   "execution_count": 68,
   "metadata": {},
   "outputs": [
    {
     "data": {
      "text/plain": [
       "0.18062000086794813"
      ]
     },
     "execution_count": 68,
     "metadata": {},
     "output_type": "execute_result"
    }
   ],
   "source": [
    "RF_be[2]"
   ]
  },
  {
   "cell_type": "code",
   "execution_count": 69,
   "metadata": {},
   "outputs": [
    {
     "name": "stdout",
     "output_type": "stream",
     "text": [
      "Bias_error 0.18062000086794813\n",
      "Var_error 0.0010620632159513044\n"
     ]
    }
   ],
   "source": [
    "kf=KFold(shuffle=True,n_splits=3,random_state=0)\n",
    "rf_smote=RandomForestClassifier(n_estimators=3,criterion='entropy',random_state=0)\n",
    "auc=cross_val_score(rf_smote,X_train_res,y_train_res,cv=kf,scoring='roc_auc')\n",
    "BE_rf_smote = np.mean(1-auc)\n",
    "VE_rf_smote = np.std(1-auc)\n",
    "print('Bias_error',BE_rf_smote)\n",
    "print('Var_error',VE_rf_smote)"
   ]
  },
  {
   "cell_type": "code",
   "execution_count": 70,
   "metadata": {},
   "outputs": [
    {
     "name": "stdout",
     "output_type": "stream",
     "text": [
      "Classification report of RF After applying SMOTE :\n",
      "\n",
      "               precision    recall  f1-score   support\n",
      "\n",
      "           0       0.84      0.74      0.79     18025\n",
      "           1       0.22      0.35      0.27      3828\n",
      "\n",
      "    accuracy                           0.67     21853\n",
      "   macro avg       0.53      0.54      0.53     21853\n",
      "weighted avg       0.73      0.67      0.70     21853\n",
      "\n"
     ]
    }
   ],
   "source": [
    "rf_smote.fit(X_train_res,y_train_res)\n",
    "predictions_rf_smote = rf_smote.predict(X_test)\n",
    "\n",
    "cr_rf_smote = classification_report(y_test,predictions_rf_smote)\n",
    "\n",
    "print('Classification report of RF After applying SMOTE :\\n\\n',cr_rf_smote)"
   ]
  },
  {
   "cell_type": "markdown",
   "metadata": {},
   "source": [
    "# Boosted RF :"
   ]
  },
  {
   "cell_type": "code",
   "execution_count": 75,
   "metadata": {},
   "outputs": [],
   "source": [
    "from sklearn.ensemble import AdaBoostClassifier\n",
    "\n",
    "RF=RandomForestClassifier(criterion='entropy',n_estimators=5,random_state=0)\n",
    "\n",
    "RF_be=[]\n",
    "RF_ve=[]\n",
    "for n in np.arange(1,20):\n",
    "    RF_boost=AdaBoostClassifier(base_estimator=RF,n_estimators=n,random_state=0)\n",
    "    kfold =KFold(shuffle=True,n_splits=3,random_state=0)\n",
    "    scores=cross_val_score(RF_boost,X_train_res,y_train_res,cv=kfold,scoring='roc_auc')\n",
    "    RF_be.append(np.mean(1-scores))\n",
    "    RF_ve.append(np.std(scores,ddof=1))"
   ]
  },
  {
   "cell_type": "code",
   "execution_count": 76,
   "metadata": {},
   "outputs": [
    {
     "data": {
      "text/plain": [
       "[<matplotlib.lines.Line2D at 0x7f6031c49e90>]"
      ]
     },
     "execution_count": 76,
     "metadata": {},
     "output_type": "execute_result"
    },
    {
     "data": {
      "image/png": "[encoded data removed]",
      "text/plain": [
       "<Figure size 432x288 with 1 Axes>"
      ]
     },
     "metadata": {
      "needs_background": "light"
     },
     "output_type": "display_data"
    }
   ],
   "source": [
    "x_axis=np.arange(len(RF_be))\n",
    "plt.plot(x_axis,RF_be)"
   ]
  },
  {
   "cell_type": "code",
   "execution_count": 77,
   "metadata": {},
   "outputs": [
    {
     "data": {
      "text/plain": [
       "(0.1315268345918514, 7)"
      ]
     },
     "execution_count": 77,
     "metadata": {},
     "output_type": "execute_result"
    }
   ],
   "source": [
    "np.min(RF_be),np.argmin(RF_be)"
   ]
  },
  {
   "cell_type": "code",
   "execution_count": 79,
   "metadata": {},
   "outputs": [
    {
     "data": {
      "text/plain": [
       "0.001243142618000609"
      ]
     },
     "execution_count": 79,
     "metadata": {},
     "output_type": "execute_result"
    }
   ],
   "source": [
    "RF_ve[7]"
   ]
  },
  {
   "cell_type": "code",
   "execution_count": 80,
   "metadata": {},
   "outputs": [
    {
     "name": "stdout",
     "output_type": "stream",
     "text": [
      "Bias_error 0.1315268345918514\n",
      "Var_error 0.001243142618000609\n"
     ]
    }
   ],
   "source": [
    "kf=KFold(shuffle=True,n_splits=3,random_state=0)\n",
    "RF_boost_smote=AdaBoostClassifier(n_estimators=8,base_estimator=RF,random_state=0)\n",
    "auc=cross_val_score(RF_boost_smote,X_train_res,y_train_res,cv=kf,scoring='roc_auc')\n",
    "BE_rf_boost_smote= np.mean(1-auc)\n",
    "VE_rf_boost_smote = np.std(auc,ddof=1)\n",
    "print('Bias_error',BE_rf_boost_smote)\n",
    "print('Var_error',VE_rf_boost_smote)"
   ]
  },
  {
   "cell_type": "code",
   "execution_count": 81,
   "metadata": {},
   "outputs": [
    {
     "name": "stdout",
     "output_type": "stream",
     "text": [
      "Classification report of RF After applying SMOTE :\n",
      "\n",
      "               precision    recall  f1-score   support\n",
      "\n",
      "           0       0.84      0.79      0.81     18025\n",
      "           1       0.23      0.31      0.27      3828\n",
      "\n",
      "    accuracy                           0.70     21853\n",
      "   macro avg       0.54      0.55      0.54     21853\n",
      "weighted avg       0.74      0.70      0.72     21853\n",
      "\n"
     ]
    }
   ],
   "source": [
    "RF_boost_smote.fit(X_train_res,y_train_res)\n",
    "predictions_rf_boost_smote = RF_boost_smote.predict(X_test)\n",
    "\n",
    "cr_rf_boost_smote = classification_report(y_test,predictions_rf_boost_smote)\n",
    "\n",
    "print('Classification report of RF After applying SMOTE :\\n\\n',cr_rf_boost_smote)"
   ]
  },
  {
   "cell_type": "markdown",
   "metadata": {},
   "source": [
    "# KNN :"
   ]
  },
  {
   "cell_type": "code",
   "execution_count": 82,
   "metadata": {},
   "outputs": [],
   "source": [
    "from sklearn.neighbors import KNeighborsClassifier \n",
    "from sklearn.model_selection import GridSearchCV"
   ]
  },
  {
   "cell_type": "code",
   "execution_count": 83,
   "metadata": {},
   "outputs": [
    {
     "data": {
      "text/plain": [
       "GridSearchCV(cv=KFold(n_splits=3, random_state=0, shuffle=True),\n",
       "             estimator=KNeighborsClassifier(),\n",
       "             param_grid={'n_neighbors': array([ 1,  2,  3,  4,  5,  6,  7,  8,  9, 10, 11, 12, 13, 14, 15, 16, 17,\n",
       "       18, 19, 20, 21, 22, 23, 24, 25, 26, 27, 28, 29]),\n",
       "                         'weights': ['uniform', 'distance']},\n",
       "             scoring='f1_weighted')"
      ]
     },
     "execution_count": 83,
     "metadata": {},
     "output_type": "execute_result"
    }
   ],
   "source": [
    "knn=KNeighborsClassifier()\n",
    "params={'n_neighbors':np.arange(1,30),'weights':['uniform','distance']}\n",
    "gs=GridSearchCV(estimator=knn,param_grid=params,cv=kfold,scoring='f1_weighted')\n",
    "gs.fit(X_train_res,y_train_res)"
   ]
  },
  {
   "cell_type": "code",
   "execution_count": 84,
   "metadata": {},
   "outputs": [
    {
     "data": {
      "text/plain": [
       "{'n_neighbors': 4, 'weights': 'distance'}"
      ]
     },
     "execution_count": 84,
     "metadata": {},
     "output_type": "execute_result"
    }
   ],
   "source": [
    "gs.best_params_"
   ]
  },
  {
   "cell_type": "code",
   "execution_count": 85,
   "metadata": {},
   "outputs": [
    {
     "name": "stdout",
     "output_type": "stream",
     "text": [
      "BE: 0.15154914617004966\n",
      "VE: 0.0008824591199661221\n"
     ]
    }
   ],
   "source": [
    "knn_smote=KNeighborsClassifier(n_neighbors=4, weights='distance')\n",
    "\n",
    "\n",
    "kf=KFold(shuffle=True,n_splits=3,random_state=0) \n",
    "scores=cross_val_score(knn_smote,X_train_res,y_train_res,scoring='roc_auc',cv=kf)\n",
    "auc_score=np.mean(scores)\n",
    "BE_knn_smote=1-np.mean(scores)\n",
    "VE_knn_smote=np.std(scores,ddof=1)\n",
    "\n",
    "print('BE:',BE_knn_smote)\n",
    "print('VE:',VE_knn_smote)"
   ]
  },
  {
   "cell_type": "code",
   "execution_count": 86,
   "metadata": {},
   "outputs": [
    {
     "name": "stdout",
     "output_type": "stream",
     "text": [
      "Classification report of KNN After applying SMOTE :\n",
      "\n",
      "               precision    recall  f1-score   support\n",
      "\n",
      "           0       0.84      0.76      0.80     18025\n",
      "           1       0.23      0.34      0.28      3828\n",
      "\n",
      "    accuracy                           0.69     21853\n",
      "   macro avg       0.54      0.55      0.54     21853\n",
      "weighted avg       0.74      0.69      0.71     21853\n",
      "\n"
     ]
    }
   ],
   "source": [
    "knn_smote.fit(X_train_res,y_train_res)\n",
    "predictions_knn_smote = knn_smote.predict(X_test)\n",
    "\n",
    "cr_knn_smote = classification_report(y_test,predictions_knn_smote)\n",
    "\n",
    "print('Classification report of KNN After applying SMOTE :\\n\\n',cr_knn_smote)"
   ]
  },
  {
   "cell_type": "markdown",
   "metadata": {},
   "source": [
    "# Bagged KNN :"
   ]
  },
  {
   "cell_type": "code",
   "execution_count": 90,
   "metadata": {},
   "outputs": [],
   "source": [
    "from sklearn.ensemble import BaggingClassifier\n",
    "\n",
    "knn=KNeighborsClassifier(n_neighbors=4,weights='distance')\n",
    "BagKNN_be=[]\n",
    "BagKNN_ve=[]\n",
    "for n in np.arange(1,10):\n",
    "    knn_bag=BaggingClassifier(base_estimator=knn,n_estimators=n,random_state=0)\n",
    "    kfold=KFold(shuffle=True,n_splits=3,random_state=0)\n",
    "    scores=cross_val_score(knn_bag,X_train_res,y_train_res,cv=kfold,scoring='roc_auc')\n",
    "    BagKNN_be.append(np.mean(1-scores))\n",
    "    BagKNN_ve.append(np.std(scores,ddof=1))"
   ]
  },
  {
   "cell_type": "code",
   "execution_count": 91,
   "metadata": {},
   "outputs": [
    {
     "data": {
      "text/plain": [
       "[<matplotlib.lines.Line2D at 0x7f6030fe8890>]"
      ]
     },
     "execution_count": 91,
     "metadata": {},
     "output_type": "execute_result"
    },
    {
     "data": {
      "image/png": "[encoded data removed]",
      "text/plain": [
       "<Figure size 432x288 with 1 Axes>"
      ]
     },
     "metadata": {
      "needs_background": "light"
     },
     "output_type": "display_data"
    }
   ],
   "source": [
    "x_axis=np.arange(len(BagKNN_ve))\n",
    "plt.plot(x_axis,BagKNN_ve)"
   ]
  },
  {
   "cell_type": "code",
   "execution_count": 92,
   "metadata": {},
   "outputs": [
    {
     "data": {
      "text/plain": [
       "(0.0008646985799974415, 3)"
      ]
     },
     "execution_count": 92,
     "metadata": {},
     "output_type": "execute_result"
    }
   ],
   "source": [
    "np.min(BagKNN_ve),np.argmin(BagKNN_ve)"
   ]
  },
  {
   "cell_type": "code",
   "execution_count": 93,
   "metadata": {},
   "outputs": [
    {
     "data": {
      "text/plain": [
       "0.14625919022272982"
      ]
     },
     "execution_count": 93,
     "metadata": {},
     "output_type": "execute_result"
    }
   ],
   "source": [
    "BagKNN_be[3]"
   ]
  },
  {
   "cell_type": "code",
   "execution_count": 94,
   "metadata": {},
   "outputs": [
    {
     "name": "stdout",
     "output_type": "stream",
     "text": [
      "Bias_error 0.14625919022272982\n",
      "Var_error 0.0008646985799974415\n"
     ]
    }
   ],
   "source": [
    "kf=KFold(shuffle=True,n_splits=3,random_state=0)\n",
    "knn_bag_smote=BaggingClassifier(base_estimator=knn,n_estimators=4,random_state=0)\n",
    "auc=cross_val_score(knn_bag_smote,X_train_res,y_train_res,cv=kf,scoring='roc_auc')\n",
    "BE_bag_knn_smote= np.mean(1-auc)\n",
    "VE_bag_knn_smote = np.std(auc,ddof=1)\n",
    "print('Bias_error',BE_bag_knn_smote)\n",
    "print('Var_error',VE_bag_knn_smote)"
   ]
  },
  {
   "cell_type": "code",
   "execution_count": 95,
   "metadata": {},
   "outputs": [
    {
     "name": "stdout",
     "output_type": "stream",
     "text": [
      "Classification report of bagged_knn After applying SMOTE :\n",
      "\n",
      "               precision    recall  f1-score   support\n",
      "\n",
      "           0       0.85      0.68      0.75     18025\n",
      "           1       0.22      0.43      0.29      3828\n",
      "\n",
      "    accuracy                           0.63     21853\n",
      "   macro avg       0.53      0.55      0.52     21853\n",
      "weighted avg       0.74      0.63      0.67     21853\n",
      "\n"
     ]
    }
   ],
   "source": [
    "\n",
    "knn_bag_smote.fit(X_train_res,y_train_res)\n",
    "predictions_knn_bag_smote =knn_bag_smote.predict(X_test)\n",
    "cr_knn_bag_smote = classification_report(y_test,predictions_knn_bag_smote)\n",
    "\n",
    "print('Classification report of bagged_knn After applying SMOTE :\\n\\n',cr_knn_bag_smote)"
   ]
  },
  {
   "cell_type": "code",
   "execution_count": null,
   "metadata": {},
   "outputs": [],
   "source": []
  },
  {
   "cell_type": "code",
   "execution_count": null,
   "metadata": {},
   "outputs": [],
   "source": []
  },
  {
   "cell_type": "markdown",
   "metadata": {},
   "source": [
    "# Gradientboost :"
   ]
  },
  {
   "cell_type": "code",
   "execution_count": 99,
   "metadata": {},
   "outputs": [],
   "source": [
    "from sklearn.ensemble import GradientBoostingClassifier\n",
    "\n",
    "GB_be=[]\n",
    "GB_ve=[]\n",
    "for n in np.arange(1,200):\n",
    "    GB=GradientBoostingClassifier(n_estimators=n,random_state=0)\n",
    "    kfold=KFold(shuffle=True,n_splits=3,random_state=0)\n",
    "    scores=cross_val_score(GB,X_train_res,y_train_res,cv=kfold,scoring='roc_auc')\n",
    "    GB_be.append(np.mean(1-scores))\n",
    "    GB_ve.append(np.std(scores,ddof=1))"
   ]
  },
  {
   "cell_type": "code",
   "execution_count": 100,
   "metadata": {},
   "outputs": [
    {
     "data": {
      "text/plain": [
       "[<matplotlib.lines.Line2D at 0x7f6030a28b10>]"
      ]
     },
     "execution_count": 100,
     "metadata": {},
     "output_type": "execute_result"
    },
    {
     "data": {
      "image/png": "[encoded data removed]",
      "text/plain": [
       "<Figure size 432x288 with 1 Axes>"
      ]
     },
     "metadata": {
      "needs_background": "light"
     },
     "output_type": "display_data"
    }
   ],
   "source": [
    "x_axis=np.arange(len(GB_be))\n",
    "plt.plot(x_axis,GB_be)"
   ]
  },
  {
   "cell_type": "code",
   "execution_count": 101,
   "metadata": {},
   "outputs": [
    {
     "data": {
      "text/plain": [
       "(0.24705085803542226, 198)"
      ]
     },
     "execution_count": 101,
     "metadata": {},
     "output_type": "execute_result"
    }
   ],
   "source": [
    "np.min(GB_be),np.argmin(GB_be)"
   ]
  },
  {
   "cell_type": "code",
   "execution_count": 102,
   "metadata": {},
   "outputs": [
    {
     "data": {
      "text/plain": [
       "0.004709833469942074"
      ]
     },
     "execution_count": 102,
     "metadata": {},
     "output_type": "execute_result"
    }
   ],
   "source": [
    "GB_ve[198]"
   ]
  },
  {
   "cell_type": "code",
   "execution_count": 103,
   "metadata": {},
   "outputs": [
    {
     "name": "stdout",
     "output_type": "stream",
     "text": [
      "Bias_error 0.24705085803542226\n",
      "Var_error 0.004709833469942074\n"
     ]
    }
   ],
   "source": [
    "kf=KFold(shuffle=True,n_splits=3,random_state=0)\n",
    "GB_smote=GradientBoostingClassifier(n_estimators=199,random_state=0)\n",
    "auc=cross_val_score(GB_smote,X_train_res,y_train_res,cv=kf,scoring='roc_auc')\n",
    "BE_GB= np.mean(1-auc)\n",
    "VE_GB = np.std(auc,ddof=1)\n",
    "print('Bias_error',BE_GB)\n",
    "print('Var_error',VE_GB)"
   ]
  },
  {
   "cell_type": "code",
   "execution_count": 104,
   "metadata": {},
   "outputs": [
    {
     "name": "stdout",
     "output_type": "stream",
     "text": [
      "Classification report of GradientBoost after aplying SMOTE :\n",
      "\n",
      "               precision    recall  f1-score   support\n",
      "\n",
      "           0       0.86      0.69      0.77     18025\n",
      "           1       0.25      0.49      0.33      3828\n",
      "\n",
      "    accuracy                           0.65     21853\n",
      "   macro avg       0.56      0.59      0.55     21853\n",
      "weighted avg       0.76      0.65      0.69     21853\n",
      "\n"
     ]
    }
   ],
   "source": [
    "GB_smote.fit(X_train_res,y_train_res)\n",
    "predictions_GB_smote =GB_smote.predict(X_test)\n",
    "cr_GB_smote = classification_report(y_test,predictions_GB_smote)\n",
    "\n",
    "print('Classification report of GradientBoost after aplying SMOTE :\\n\\n',cr_GB_smote)"
   ]
  },
  {
   "cell_type": "code",
   "execution_count": null,
   "metadata": {},
   "outputs": [],
   "source": []
  },
  {
   "cell_type": "markdown",
   "metadata": {},
   "source": [
    "# Naive_Bayes :"
   ]
  },
  {
   "cell_type": "code",
   "execution_count": 105,
   "metadata": {},
   "outputs": [],
   "source": [
    "from sklearn.naive_bayes import GaussianNB\n",
    "NB_smote = GaussianNB()"
   ]
  },
  {
   "cell_type": "code",
   "execution_count": 106,
   "metadata": {},
   "outputs": [
    {
     "name": "stdout",
     "output_type": "stream",
     "text": [
      "BE: 0.24705085803542237\n",
      "VE: 0.004709833469942074\n"
     ]
    }
   ],
   "source": [
    "kf = KFold(n_splits=3,shuffle=True,random_state=0)\n",
    "score = cross_val_score(NB_smote,X_train_res,y_train_res,cv=kf,scoring='roc_auc')\n",
    "BE_NB_smote=1-np.mean(scores)\n",
    "VE_NB_smote=np.std(scores,ddof=1)\n",
    "\n",
    "print('BE:',BE_NB_smote)\n",
    "print('VE:',VE_NB_smote)"
   ]
  },
  {
   "cell_type": "code",
   "execution_count": 107,
   "metadata": {},
   "outputs": [
    {
     "name": "stdout",
     "output_type": "stream",
     "text": [
      "Classification report of NB After applying SMOTE :\n",
      "\n",
      "               precision    recall  f1-score   support\n",
      "\n",
      "           0       0.84      0.76      0.80     18025\n",
      "           1       0.23      0.34      0.28      3828\n",
      "\n",
      "    accuracy                           0.69     21853\n",
      "   macro avg       0.54      0.55      0.54     21853\n",
      "weighted avg       0.74      0.69      0.71     21853\n",
      "\n"
     ]
    }
   ],
   "source": [
    "NB_smote.fit(X_train_res,y_train_res)\n",
    "predictions_NB_smote = NB_smote.predict(X_test)\n",
    "\n",
    "cr_NB_smote = classification_report(y_test,predictions_NB_smote)\n",
    "\n",
    "print('Classification report of NB After applying SMOTE :\\n\\n',cr_knn_smote)"
   ]
  },
  {
   "cell_type": "code",
   "execution_count": null,
   "metadata": {},
   "outputs": [],
   "source": []
  },
  {
   "cell_type": "markdown",
   "metadata": {},
   "source": [
    "# SVM :"
   ]
  },
  {
   "cell_type": "code",
   "execution_count": 109,
   "metadata": {},
   "outputs": [
    {
     "name": "stdout",
     "output_type": "stream",
     "text": [
      "Bias_error 0.29925571831389386\n",
      "Var_error 0.002567852070430816\n"
     ]
    }
   ],
   "source": [
    "# training a linear SVM classifier \n",
    "\n",
    "from sklearn.svm import SVC \n",
    "svm_smote = SVC(kernel = 'linear', C = 1).fit(X_train_res, y_train_res)\n",
    "\n",
    "kfold = KFold(shuffle=True,n_splits=3,random_state=0)\n",
    "scores=cross_val_score(svm_smote,X_train_res,y_train_res,scoring='roc_auc',cv=kfold)\n",
    "  \n",
    "BE_smote= np.mean(1-scores)\n",
    "VE_smote = np.std(scores,ddof=1)\n",
    "print('Bias_error',BE_smote)\n",
    "print('Var_error',VE_smote)"
   ]
  },
  {
   "cell_type": "code",
   "execution_count": 110,
   "metadata": {},
   "outputs": [
    {
     "name": "stdout",
     "output_type": "stream",
     "text": [
      "Classification report of SVM After applying SMOTE :\n",
      "\n",
      "               precision    recall  f1-score   support\n",
      "\n",
      "           0       0.86      0.73      0.79     18025\n",
      "           1       0.27      0.46      0.34      3828\n",
      "\n",
      "    accuracy                           0.68     21853\n",
      "   macro avg       0.57      0.60      0.57     21853\n",
      "weighted avg       0.76      0.68      0.71     21853\n",
      "\n"
     ]
    }
   ],
   "source": [
    "svm_smote.fit(X_train_res,y_train_res)\n",
    "predictions_svm_smote = svm_smote.predict(X_test)\n",
    "\n",
    "cr_svm_smote = classification_report(y_test,predictions_svm_smote)\n",
    "\n",
    "print('Classification report of SVM After applying SMOTE :\\n\\n',cr_svm_smote)"
   ]
  },
  {
   "cell_type": "code",
   "execution_count": 112,
   "metadata": {},
   "outputs": [
    {
     "name": "stdout",
     "output_type": "stream",
     "text": [
      "\n",
      "confussion matrix:\n",
      " [[13190  4835]\n",
      " [ 2068  1760]]\n"
     ]
    }
   ],
   "source": [
    "from sklearn import metrics\n",
    "cm_svm_smote=metrics.confusion_matrix(y_test,predictions_svm_smote)\n",
    "print('\\nconfussion matrix:\\n',cm_svm_smote)"
   ]
  },
  {
   "cell_type": "code",
   "execution_count": null,
   "metadata": {},
   "outputs": [],
   "source": []
  },
  {
   "cell_type": "markdown",
   "metadata": {},
   "source": [
    "# NearMiss Algorithm :"
   ]
  },
  {
   "cell_type": "code",
   "execution_count": 83,
   "metadata": {},
   "outputs": [
    {
     "name": "stdout",
     "output_type": "stream",
     "text": [
      "Before sampling counts of label:\n",
      "\n",
      " 0    36839\n",
      "1     7529\n",
      "Name: readmitted, dtype: int64\n",
      "\n",
      "Before sampling shape of X_train and y_train:\n",
      "\n",
      " (44368, 17) (44368,)\n",
      "\n",
      "\n",
      "After sampling counts of label:\n",
      "\n",
      " 1    7529\n",
      "0    7529\n",
      "Name: readmitted, dtype: int64\n",
      "\n",
      "After sampling shape of X_train and y_train:\n",
      "\n",
      " (15058, 17) (15058,)\n"
     ]
    }
   ],
   "source": [
    "from imblearn.under_sampling import NearMiss\n",
    "nr = NearMiss()\n",
    "\n",
    "X_train_miss,y_train_miss = nr.fit_sample(X_train,y_train)\n",
    "\n",
    "print('Before sampling counts of label:\\n\\n',y_train.value_counts())\n",
    "print('\\nBefore sampling shape of X_train and y_train:\\n\\n',X_train.shape,y_train.shape)\n",
    "print('\\n\\nAfter sampling counts of label:\\n\\n',y_train_miss.value_counts())\n",
    "print('\\nAfter sampling shape of X_train and y_train:\\n\\n',X_train_miss.shape,y_train_miss.shape)"
   ]
  },
  {
   "cell_type": "markdown",
   "metadata": {},
   "source": [
    "# Logistic Regression "
   ]
  },
  {
   "cell_type": "code",
   "execution_count": 84,
   "metadata": {},
   "outputs": [
    {
     "name": "stdout",
     "output_type": "stream",
     "text": [
      "Classification report of LR After applying SMOTE :\n",
      "\n",
      "               precision    recall  f1-score   support\n",
      "\n",
      "           0       0.86      0.44      0.58     18025\n",
      "           1       0.20      0.67      0.31      3828\n",
      "\n",
      "    accuracy                           0.48     21853\n",
      "   macro avg       0.53      0.56      0.45     21853\n",
      "weighted avg       0.75      0.48      0.53     21853\n",
      "\n"
     ]
    },
    {
     "name": "stderr",
     "output_type": "stream",
     "text": [
      "/home/shrihari/anaconda3/lib/python3.7/site-packages/sklearn/linear_model/_logistic.py:764: ConvergenceWarning: lbfgs failed to converge (status=1):\n",
      "STOP: TOTAL NO. of ITERATIONS REACHED LIMIT.\n",
      "\n",
      "Increase the number of iterations (max_iter) or scale the data as shown in:\n",
      "    https://scikit-learn.org/stable/modules/preprocessing.html\n",
      "Please also refer to the documentation for alternative solver options:\n",
      "    https://scikit-learn.org/stable/modules/linear_model.html#logistic-regression\n",
      "  extra_warning_msg=_LOGISTIC_SOLVER_CONVERGENCE_MSG)\n"
     ]
    }
   ],
   "source": [
    "# Lets apply Logistic Regression for this NearMiss sampling data:\n",
    "\n",
    "lr_miss = LogisticRegression()\n",
    "lr_miss.fit(X_train_miss,y_train_miss)\n",
    "predictions_lr_miss = lr_miss.predict(X_test)\n",
    "\n",
    "cr_LR_miss = classification_report(y_test,predictions_lr_miss)\n",
    "\n",
    "print('Classification report of LR After applying SMOTE :\\n\\n',cr_LR_miss)"
   ]
  },
  {
   "cell_type": "markdown",
   "metadata": {},
   "source": [
    "# RandomForest :"
   ]
  },
  {
   "cell_type": "code",
   "execution_count": 96,
   "metadata": {},
   "outputs": [],
   "source": [
    "# Lets apply Random Forest for SMOTE data sample :\n",
    "\n",
    "from sklearn.ensemble import RandomForestClassifier\n",
    "from sklearn.metrics import roc_curve, auc\n",
    "from sklearn.model_selection import cross_val_score\n",
    "\n",
    "\n",
    "RF_ve=[]\n",
    "RF_be=[]\n",
    "for n in np.arange(1,20):\n",
    "    RF=RandomForestClassifier(n_estimators=n,criterion='entropy',random_state=0)\n",
    "    kf=KFold(shuffle=True,n_splits=3,random_state=0)\n",
    "    auc=cross_val_score(RF,X_train_miss,y_train_miss,cv=kf,scoring='roc_auc')\n",
    "    RF_be.append(np.mean(1-auc))\n",
    "    RF_ve.append(np.std(1-auc))"
   ]
  },
  {
   "cell_type": "code",
   "execution_count": 97,
   "metadata": {},
   "outputs": [
    {
     "data": {
      "text/plain": [
       "(0.005032222666828469, 8)"
      ]
     },
     "execution_count": 97,
     "metadata": {},
     "output_type": "execute_result"
    }
   ],
   "source": [
    "np.min(RF_ve),np.argmin(RF_ve)"
   ]
  },
  {
   "cell_type": "code",
   "execution_count": 98,
   "metadata": {},
   "outputs": [
    {
     "data": {
      "text/plain": [
       "0.20139830078516652"
      ]
     },
     "execution_count": 98,
     "metadata": {},
     "output_type": "execute_result"
    }
   ],
   "source": [
    "RF_be[8]"
   ]
  },
  {
   "cell_type": "code",
   "execution_count": 99,
   "metadata": {},
   "outputs": [
    {
     "name": "stdout",
     "output_type": "stream",
     "text": [
      "Bias_error 0.20139830078516652\n",
      "Var_error 0.005032222666828469\n"
     ]
    }
   ],
   "source": [
    "kf=KFold(shuffle=True,n_splits=3,random_state=0)\n",
    "rf_miss=RandomForestClassifier(n_estimators=9,criterion='entropy',random_state=0)\n",
    "auc=cross_val_score(rf_miss,X_train_miss,y_train_miss,cv=kf,scoring='roc_auc')\n",
    "BE_rf_miss = np.mean(1-auc)\n",
    "VE_rf_miss = np.std(1-auc)\n",
    "print('Bias_error',BE_rf_miss)\n",
    "print('Var_error',VE_rf_miss)"
   ]
  },
  {
   "cell_type": "code",
   "execution_count": 101,
   "metadata": {},
   "outputs": [
    {
     "name": "stdout",
     "output_type": "stream",
     "text": [
      "Classification report of RF After applying NearMiss :\n",
      "\n",
      "               precision    recall  f1-score   support\n",
      "\n",
      "           0       0.86      0.31      0.46     18025\n",
      "           1       0.19      0.76      0.31      3828\n",
      "\n",
      "    accuracy                           0.39     21853\n",
      "   macro avg       0.53      0.54      0.38     21853\n",
      "weighted avg       0.74      0.39      0.43     21853\n",
      "\n"
     ]
    }
   ],
   "source": [
    "rf_miss.fit(X_train_miss,y_train_miss)\n",
    "predictions_rf_miss = rf_miss.predict(X_test)\n",
    "\n",
    "cr_rf_miss = classification_report(y_test,predictions_rf_miss)\n",
    "\n",
    "print('Classification report of RF After applying NearMiss :\\n\\n',cr_rf_miss)"
   ]
  }
 ],
 "metadata": {
  "colab": {
   "collapsed_sections": [
    "pL4KU_UOFKCP",
    "sPZvEj74FKCP",
    "nXx2vMfMFKCS",
    "BIJuS3l-FKCS",
    "nQ_eSvQlFKCT",
    "sO6RhlGTFKCT",
    "66F0MuHRFKCT"
   ],
   "name": "Copy of Pragati-my capstone file.ipynb",
   "provenance": [
    {
     "file_id": "1CLPdYesjIV1WPApy38cBdOkHavWLiiY6",
     "timestamp": 1605717235248
    }
   ]
  },
  "kernelspec": {
   "display_name": "Python 3",
   "language": "python",
   "name": "python3"
  },
  "language_info": {
   "codemirror_mode": {
    "name": "ipython",
    "version": 3
   },
   "file_extension": ".py",
   "mimetype": "text/x-python",
   "name": "python",
   "nbconvert_exporter": "python",
   "pygments_lexer": "ipython3",
   "version": "3.8.5"
  }
 },
 "nbformat": 4,
 "nbformat_minor": 4
}
